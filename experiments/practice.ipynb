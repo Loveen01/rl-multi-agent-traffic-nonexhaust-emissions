{
 "cells": [
  {
   "cell_type": "code",
   "execution_count": 64,
   "metadata": {},
   "outputs": [],
   "source": [
    "import os \n",
    "import pathlib\n",
    "\n",
    "import traci\n",
    "import sumo_rl\n",
    "from sumo_rl.environment.env import env, parallel_env\n",
    "from pettingzoo.utils.conversions import parallel_wrapper_fn\n",
    "\n",
    "from environment.all_observations import SharedObservationFunction\n",
    "\n",
    "os.environ['SUMO_HOME'] = '/opt/homebrew/opt/sumo/share/sumo'"
   ]
  },
  {
   "cell_type": "code",
   "execution_count": 65,
   "metadata": {
    "tags": []
   },
   "outputs": [],
   "source": [
    "# # #"
   ]
  },
  {
   "cell_type": "code",
   "execution_count": 83,
   "metadata": {},
   "outputs": [
    {
     "name": "stdout",
     "output_type": "stream",
     "text": [
      " Retrying in 1 seconds\n",
      "Step #0.00 (0ms ?*RT. ?UPS, TraCI: 4ms, vehicles TOT 0 ACT 0 BUF 0)                      \n",
      " Retrying in 1 seconds\n"
     ]
    },
    {
     "data": {
      "text/plain": [
       "array([1., 0., 0., 0., 0., 0., 0., 0., 0., 0., 0., 0., 0., 0., 0., 0., 0.,\n",
       "       0., 0., 0., 0.], dtype=float32)"
      ]
     },
     "execution_count": 83,
     "metadata": {},
     "output_type": "execute_result"
    }
   ],
   "source": [
    "from sumo_rl.environment.env import SumoEnvironment\n",
    "env_folder = \"data/2way_single_intersection\"\n",
    "\n",
    "single_agent_env = SumoEnvironment(\n",
    "        net_file = os.path.join(env_folder, \"2way_single_intersection.net.xml\"),\n",
    "        route_file = os.path.join(env_folder, \"2way_single_intersection.rou.xml\"),\n",
    "        reward_fn = 'diff-waiting-time',\n",
    "        observation_class = SharedObservationFunction, \n",
    "        num_seconds=80000)\n",
    "\n",
    "single_agent_env.action_space\n",
    "single_agent_env.reset()['t']"
   ]
  },
  {
   "cell_type": "code",
   "execution_count": 84,
   "metadata": {},
   "outputs": [
    {
     "name": "stdout",
     "output_type": "stream",
     "text": [
      " Retrying in 1 seconds\n",
      "Step #0.00 (0ms ?*RT. ?UPS, TraCI: 18ms, vehicles TOT 0 ACT 0 BUF 0)                     \n"
     ]
    }
   ],
   "source": [
    "from sumo_rl.environment.env import SumoEnvironmentPZ\n",
    "env_folder = \"data/2x2grid\"\n",
    "\n",
    "multi_agent_env = SumoEnvironmentPZ(\n",
    "        net_file = os.path.join(env_folder, \"2x2.net.xml\"),\n",
    "        route_file = os.path.join(env_folder, \"2x2.rou.xml\"),\n",
    "        reward_fn = 'diff-waiting-time',\n",
    "        observation_class = SharedObservationFunction, \n",
    "        num_seconds=80000\n",
    ")"
   ]
  },
  {
   "cell_type": "code",
   "execution_count": 105,
   "metadata": {},
   "outputs": [
    {
     "data": {
      "text/plain": [
       "gymnasium.spaces.discrete.Discrete"
      ]
     },
     "execution_count": 105,
     "metadata": {},
     "output_type": "execute_result"
    }
   ],
   "source": [
    "multi_agent_env.action_spaces\n",
    "multi_agent_env.action_spaces['1'].__class__"
   ]
  },
  {
   "cell_type": "code",
   "execution_count": 107,
   "metadata": {},
   "outputs": [
    {
     "data": {
      "text/plain": [
       "gymnasium.spaces.box.Box"
      ]
     },
     "execution_count": 107,
     "metadata": {},
     "output_type": "execute_result"
    }
   ],
   "source": [
    "multi_agent_env.observation_spaces['1'].__class__"
   ]
  },
  {
   "cell_type": "code",
   "execution_count": 59,
   "metadata": {},
   "outputs": [
    {
     "data": {
      "text/plain": [
       "[Phase(duration=60, state='GGrrrrGGrrrr', minDur=-1, maxDur=-1),\n",
       " Phase(duration=60, state='rrGrrrrrGrrr', minDur=-1, maxDur=-1),\n",
       " Phase(duration=60, state='rrrGGrrrrGGr', minDur=-1, maxDur=-1),\n",
       " Phase(duration=60, state='rrrrrGrrrrrG', minDur=-1, maxDur=-1),\n",
       " Phase(duration=2, state='yyrrrryyrrrr', minDur=-1, maxDur=-1),\n",
       " Phase(duration=2, state='yyrrrryyrrrr', minDur=-1, maxDur=-1),\n",
       " Phase(duration=2, state='yyrrrryyrrrr', minDur=-1, maxDur=-1),\n",
       " Phase(duration=2, state='rryrrrrryrrr', minDur=-1, maxDur=-1),\n",
       " Phase(duration=2, state='rryrrrrryrrr', minDur=-1, maxDur=-1),\n",
       " Phase(duration=2, state='rryrrrrryrrr', minDur=-1, maxDur=-1),\n",
       " Phase(duration=2, state='rrryyrrrryyr', minDur=-1, maxDur=-1),\n",
       " Phase(duration=2, state='rrryyrrrryyr', minDur=-1, maxDur=-1),\n",
       " Phase(duration=2, state='rrryyrrrryyr', minDur=-1, maxDur=-1),\n",
       " Phase(duration=2, state='rrrrryrrrrry', minDur=-1, maxDur=-1),\n",
       " Phase(duration=2, state='rrrrryrrrrry', minDur=-1, maxDur=-1),\n",
       " Phase(duration=2, state='rrrrryrrrrry', minDur=-1, maxDur=-1)]"
      ]
     },
     "execution_count": 59,
     "metadata": {},
     "output_type": "execute_result"
    }
   ],
   "source": [
    "single_agent_env.single_agent\n",
    "single_agent_env.traffic_signals['t']\n",
    "# number of phases controlled by 1 traffic signal \n",
    "single_agent_env.traffic_signals['t'].all_phases"
   ]
  },
  {
   "cell_type": "code",
   "execution_count": 111,
   "metadata": {},
   "outputs": [
    {
     "data": {
      "text/plain": [
       "Discrete(4)"
      ]
     },
     "execution_count": 111,
     "metadata": {},
     "output_type": "execute_result"
    }
   ],
   "source": [
    "single_agent_env.action_space"
   ]
  },
  {
   "cell_type": "code",
   "execution_count": 112,
   "metadata": {},
   "outputs": [
    {
     "name": "stdout",
     "output_type": "stream",
     "text": [
      " Retrying in 1 seconds\n",
      "Step #0.00 (0ms ?*RT. ?UPS, TraCI: 15ms, vehicles TOT 0 ACT 0 BUF 0)                     \n"
     ]
    }
   ],
   "source": [
    "from sumo_rl.environment.env import SumoEnvironment\n",
    "# create a SUMO environment for 4x4 network -> \n",
    "env_folder = \"data/2x2grid\"\n",
    "\n",
    "single_agent_env = SumoEnvironment(\n",
    "        net_file = os.path.join(env_folder, \"2x2.net.xml\"),\n",
    "        route_file = os.path.join(env_folder, \"2x2.rou.xml\"),\n",
    "        reward_fn = 'diff-waiting-time',\n",
    "        observation_class = SharedObservationFunction, \n",
    "        out_csv_name=\"outputs/4x4grid/ppo\", \n",
    "        num_seconds=80000, \n",
    "        single_agent=True)"
   ]
  },
  {
   "cell_type": "code",
   "execution_count": 113,
   "metadata": {},
   "outputs": [
    {
     "data": {
      "text/plain": [
       "[Phase(duration=60, state='GGrrrrGGrrrr', minDur=-1, maxDur=-1),\n",
       " Phase(duration=60, state='rrGrrrrrGrrr', minDur=-1, maxDur=-1),\n",
       " Phase(duration=60, state='rrrGGrrrrGGr', minDur=-1, maxDur=-1),\n",
       " Phase(duration=60, state='rrrrrGrrrrrG', minDur=-1, maxDur=-1),\n",
       " Phase(duration=2, state='yyrrrryyrrrr', minDur=-1, maxDur=-1),\n",
       " Phase(duration=2, state='yyrrrryyrrrr', minDur=-1, maxDur=-1),\n",
       " Phase(duration=2, state='yyrrrryyrrrr', minDur=-1, maxDur=-1),\n",
       " Phase(duration=2, state='rryrrrrryrrr', minDur=-1, maxDur=-1),\n",
       " Phase(duration=2, state='rryrrrrryrrr', minDur=-1, maxDur=-1),\n",
       " Phase(duration=2, state='rryrrrrryrrr', minDur=-1, maxDur=-1),\n",
       " Phase(duration=2, state='rrryyrrrryyr', minDur=-1, maxDur=-1),\n",
       " Phase(duration=2, state='rrryyrrrryyr', minDur=-1, maxDur=-1),\n",
       " Phase(duration=2, state='rrryyrrrryyr', minDur=-1, maxDur=-1),\n",
       " Phase(duration=2, state='rrrrryrrrrry', minDur=-1, maxDur=-1),\n",
       " Phase(duration=2, state='rrrrryrrrrry', minDur=-1, maxDur=-1),\n",
       " Phase(duration=2, state='rrrrryrrrrry', minDur=-1, maxDur=-1)]"
      ]
     },
     "execution_count": 113,
     "metadata": {},
     "output_type": "execute_result"
    }
   ],
   "source": [
    "single_agent_env.reset\n",
    "single_agent_env.traffic_signals['1'].all_phases\n",
    "single_agent_env.observation_spaces('1')\n",
    "single_agent_env.traffic_signals['2'].all_phases"
   ]
  },
  {
   "cell_type": "code",
   "execution_count": 114,
   "metadata": {},
   "outputs": [
    {
     "name": "stdout",
     "output_type": "stream",
     "text": [
      " Retrying in 1 seconds\n",
      "Step #0.00 (0ms ?*RT. ?UPS, TraCI: 21ms, vehicles TOT 0 ACT 0 BUF 0)                     \n"
     ]
    },
    {
     "name": "stderr",
     "output_type": "stream",
     "text": [
      "/Users/loveen/.pyenv/versions/3.9.10/lib/python3.9/site-packages/pettingzoo/utils/conversions.py:132: UserWarning: The base environment `sumo_rl_v0` does not have a `render_mode` defined.\n",
      "  warnings.warn(\n"
     ]
    }
   ],
   "source": [
    "# create a SUMO environment for 4x4 network -> \n",
    "env_folder = \"data/2x2grid\"\n",
    "\n",
    "multi_agent_env = parallel_env(    \n",
    "        net_file = os.path.join(env_folder, \"2x2.net.xml\"),\n",
    "        route_file = os.path.join(env_folder, \"2x2.rou.xml\"),\n",
    "        reward_fn = 'diff-waiting-time',\n",
    "        observation_class = SharedObservationFunction, \n",
    "        out_csv_name=\"outputs/4x4grid/ppo\", \n",
    "        num_seconds=80000)"
   ]
  },
  {
   "cell_type": "code",
   "execution_count": 5,
   "metadata": {},
   "outputs": [],
   "source": [
    "%load_ext tensorboard\n",
    "%reload_ext tensorboard"
   ]
  },
  {
   "cell_type": "code",
   "execution_count": 115,
   "metadata": {},
   "outputs": [
    {
     "name": "stdout",
     "output_type": "stream",
     "text": [
      " Retrying in 1 seconds\n"
     ]
    },
    {
     "data": {
      "text/plain": [
       "{'1': array([1., 0., 0., 0., 0., 0., 0., 0., 0., 0., 0., 0., 0., 0., 0., 0., 0.,\n",
       "        0., 0., 0., 0.], dtype=float32),\n",
       " '2': array([1., 0., 0., 0., 0., 0., 0., 0., 0., 0., 0., 0., 0., 0., 0., 0., 0.,\n",
       "        0., 0., 0., 0.], dtype=float32),\n",
       " '5': array([1., 0., 0., 0., 0., 0., 0., 0., 0., 0., 0., 0., 0., 0., 0., 0., 0.,\n",
       "        0., 0., 0., 0.], dtype=float32),\n",
       " '6': array([1., 0., 0., 0., 0., 0., 0., 0., 0., 0., 0., 0., 0., 0., 0., 0., 0.,\n",
       "        0., 0., 0., 0.], dtype=float32)}"
      ]
     },
     "execution_count": 115,
     "metadata": {},
     "output_type": "execute_result"
    }
   ],
   "source": [
    "multi_agent_env.reset()[0]"
   ]
  },
  {
   "cell_type": "code",
   "execution_count": 117,
   "metadata": {},
   "outputs": [
    {
     "name": "stdout",
     "output_type": "stream",
     "text": [
      "Step #0.00 (0ms ?*RT. ?UPS, TraCI: 68859ms, vehicles TOT 0 ACT 0 BUF 0)                  \n",
      " Retrying in 1 seconds\n"
     ]
    }
   ],
   "source": [
    "observations = multi_agent_env.reset()"
   ]
  },
  {
   "cell_type": "code",
   "execution_count": 120,
   "metadata": {},
   "outputs": [
    {
     "name": "stdout",
     "output_type": "stream",
     "text": [
      "Step #0.00 (0ms ?*RT. ?UPS, TraCI: 9694ms, vehicles TOT 0 ACT 0 BUF 0)                   \n",
      " Retrying in 1 seconds\n"
     ]
    },
    {
     "data": {
      "text/plain": [
       "({'1': array([1., 0., 0., 0., 0., 0., 0., 0., 0., 0., 0., 0., 0., 0., 0., 0., 0.,\n",
       "         0., 0., 0., 0.], dtype=float32),\n",
       "  '2': array([1., 0., 0., 0., 0., 0., 0., 0., 0., 0., 0., 0., 0., 0., 0., 0., 0.,\n",
       "         0., 0., 0., 0.], dtype=float32),\n",
       "  '5': array([1., 0., 0., 0., 0., 0., 0., 0., 0., 0., 0., 0., 0., 0., 0., 0., 0.,\n",
       "         0., 0., 0., 0.], dtype=float32),\n",
       "  '6': array([1., 0., 0., 0., 0., 0., 0., 0., 0., 0., 0., 0., 0., 0., 0., 0., 0.,\n",
       "         0., 0., 0., 0.], dtype=float32)},\n",
       " {'1': {'1_stopped': 0,\n",
       "   '1_accumulated_waiting_time': 0.0,\n",
       "   '1_average_speed': 1.0},\n",
       "  '2': {'2_stopped': 0,\n",
       "   '2_accumulated_waiting_time': 0.0,\n",
       "   '2_average_speed': 1.0},\n",
       "  '5': {'5_stopped': 0,\n",
       "   '5_accumulated_waiting_time': 0.0,\n",
       "   '5_average_speed': 1.0},\n",
       "  '6': {'6_stopped': 0,\n",
       "   '6_accumulated_waiting_time': 0.0,\n",
       "   '6_average_speed': 1.0}})"
      ]
     },
     "execution_count": 120,
     "metadata": {},
     "output_type": "execute_result"
    }
   ],
   "source": [
    "multi_agent_env.reset()"
   ]
  },
  {
   "cell_type": "code",
   "execution_count": 124,
   "metadata": {},
   "outputs": [
    {
     "data": {
      "text/plain": [
       "{'1': Discrete(4), '2': Discrete(4), '5': Discrete(4), '6': Discrete(4)}"
      ]
     },
     "execution_count": 124,
     "metadata": {},
     "output_type": "execute_result"
    }
   ],
   "source": [
    "{agent: multi_agent_env.action_space(agent) for agent in multi_agent_env.agents}"
   ]
  },
  {
   "cell_type": "code",
   "execution_count": null,
   "metadata": {},
   "outputs": [],
   "source": []
  }
 ],
 "metadata": {
  "kernelspec": {
   "display_name": "Python 3",
   "language": "python",
   "name": "python3"
  },
  "language_info": {
   "codemirror_mode": {
    "name": "ipython",
    "version": 3
   },
   "file_extension": ".py",
   "mimetype": "text/x-python",
   "name": "python",
   "nbconvert_exporter": "python",
   "pygments_lexer": "ipython3",
   "version": "3.9.10"
  }
 },
 "nbformat": 4,
 "nbformat_minor": 2
}
