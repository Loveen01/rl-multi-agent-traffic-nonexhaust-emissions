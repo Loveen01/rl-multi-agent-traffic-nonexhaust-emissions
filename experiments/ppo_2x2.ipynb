{
 "cells": [
  {
   "cell_type": "code",
   "execution_count": 2,
   "metadata": {},
   "outputs": [],
   "source": [
    "import os\n",
    "\n",
    "os.environ['SUMO_HOME'] = '/opt/homebrew/opt/sumo/share/sumo'"
   ]
  },
  {
   "cell_type": "markdown",
   "metadata": {},
   "source": [
    "## Create environment using SUMO-RL"
   ]
  },
  {
   "cell_type": "code",
   "execution_count": 1,
   "metadata": {},
   "outputs": [
    {
     "ename": "NameError",
     "evalue": "name 'SumoEnvironment' is not defined",
     "output_type": "error",
     "traceback": [
      "\u001b[0;31m---------------------------------------------------------------------------\u001b[0m",
      "\u001b[0;31mNameError\u001b[0m                                 Traceback (most recent call last)",
      "\u001b[1;32m/Users/loveen/Desktop/Masters project/rl-multi-agent-traffic-nonexhaust-emissions/experiments/ppo_2x2.ipynb Cell 3\u001b[0m line \u001b[0;36m1\n\u001b[1;32m      <a href='vscode-notebook-cell:/Users/loveen/Desktop/Masters%20project/rl-multi-agent-traffic-nonexhaust-emissions/experiments/ppo_2x2.ipynb#W2sZmlsZQ%3D%3D?line=1'>2</a>\u001b[0m env_folder \u001b[39m=\u001b[39m \u001b[39m\"\u001b[39m\u001b[39mdata/2x2grid\u001b[39m\u001b[39m\"\u001b[39m\n\u001b[1;32m      <a href='vscode-notebook-cell:/Users/loveen/Desktop/Masters%20project/rl-multi-agent-traffic-nonexhaust-emissions/experiments/ppo_2x2.ipynb#W2sZmlsZQ%3D%3D?line=3'>4</a>\u001b[0m \u001b[39m# multi_agent_env = parallel_env(    \u001b[39;00m\n\u001b[1;32m      <a href='vscode-notebook-cell:/Users/loveen/Desktop/Masters%20project/rl-multi-agent-traffic-nonexhaust-emissions/experiments/ppo_2x2.ipynb#W2sZmlsZQ%3D%3D?line=4'>5</a>\u001b[0m \u001b[39m#         net_file = os.path.join(env_folder, \"2x2.net.xml\"),\u001b[39;00m\n\u001b[1;32m      <a href='vscode-notebook-cell:/Users/loveen/Desktop/Masters%20project/rl-multi-agent-traffic-nonexhaust-emissions/experiments/ppo_2x2.ipynb#W2sZmlsZQ%3D%3D?line=5'>6</a>\u001b[0m \u001b[39m#         route_file = os.path.join(env_folder, \"2x2.rou.xml\"),\u001b[39;00m\n\u001b[0;32m   (...)\u001b[0m\n\u001b[1;32m      <a href='vscode-notebook-cell:/Users/loveen/Desktop/Masters%20project/rl-multi-agent-traffic-nonexhaust-emissions/experiments/ppo_2x2.ipynb#W2sZmlsZQ%3D%3D?line=8'>9</a>\u001b[0m \u001b[39m#         out_csv_name=\"outputs/2x2grid/ppo\", \u001b[39;00m\n\u001b[1;32m     <a href='vscode-notebook-cell:/Users/loveen/Desktop/Masters%20project/rl-multi-agent-traffic-nonexhaust-emissions/experiments/ppo_2x2.ipynb#W2sZmlsZQ%3D%3D?line=9'>10</a>\u001b[0m \u001b[39m#         num_seconds=80000)\u001b[39;00m\n\u001b[0;32m---> <a href='vscode-notebook-cell:/Users/loveen/Desktop/Masters%20project/rl-multi-agent-traffic-nonexhaust-emissions/experiments/ppo_2x2.ipynb#W2sZmlsZQ%3D%3D?line=13'>14</a>\u001b[0m multi_agent_env \u001b[39m=\u001b[39m SumoEnvironment(    \n\u001b[1;32m     <a href='vscode-notebook-cell:/Users/loveen/Desktop/Masters%20project/rl-multi-agent-traffic-nonexhaust-emissions/experiments/ppo_2x2.ipynb#W2sZmlsZQ%3D%3D?line=14'>15</a>\u001b[0m         net_file \u001b[39m=\u001b[39m os\u001b[39m.\u001b[39mpath\u001b[39m.\u001b[39mjoin(env_folder, \u001b[39m\"\u001b[39m\u001b[39m2x2.net.xml\u001b[39m\u001b[39m\"\u001b[39m),\n\u001b[1;32m     <a href='vscode-notebook-cell:/Users/loveen/Desktop/Masters%20project/rl-multi-agent-traffic-nonexhaust-emissions/experiments/ppo_2x2.ipynb#W2sZmlsZQ%3D%3D?line=15'>16</a>\u001b[0m         route_file \u001b[39m=\u001b[39m os\u001b[39m.\u001b[39mpath\u001b[39m.\u001b[39mjoin(env_folder, \u001b[39m\"\u001b[39m\u001b[39m2x2.rou.xml\u001b[39m\u001b[39m\"\u001b[39m),\n\u001b[1;32m     <a href='vscode-notebook-cell:/Users/loveen/Desktop/Masters%20project/rl-multi-agent-traffic-nonexhaust-emissions/experiments/ppo_2x2.ipynb#W2sZmlsZQ%3D%3D?line=16'>17</a>\u001b[0m         reward_fn \u001b[39m=\u001b[39m \u001b[39m'\u001b[39m\u001b[39mdiff-waiting-time\u001b[39m\u001b[39m'\u001b[39m,\n\u001b[1;32m     <a href='vscode-notebook-cell:/Users/loveen/Desktop/Masters%20project/rl-multi-agent-traffic-nonexhaust-emissions/experiments/ppo_2x2.ipynb#W2sZmlsZQ%3D%3D?line=17'>18</a>\u001b[0m         observation_class \u001b[39m=\u001b[39m Grid2x2ObservationFunction, \n\u001b[1;32m     <a href='vscode-notebook-cell:/Users/loveen/Desktop/Masters%20project/rl-multi-agent-traffic-nonexhaust-emissions/experiments/ppo_2x2.ipynb#W2sZmlsZQ%3D%3D?line=18'>19</a>\u001b[0m         out_csv_name\u001b[39m=\u001b[39m\u001b[39m\"\u001b[39m\u001b[39moutputs/2x2grid/ppo\u001b[39m\u001b[39m\"\u001b[39m, \n\u001b[1;32m     <a href='vscode-notebook-cell:/Users/loveen/Desktop/Masters%20project/rl-multi-agent-traffic-nonexhaust-emissions/experiments/ppo_2x2.ipynb#W2sZmlsZQ%3D%3D?line=19'>20</a>\u001b[0m         num_seconds\u001b[39m=\u001b[39m\u001b[39m80000\u001b[39m)\n",
      "\u001b[0;31mNameError\u001b[0m: name 'SumoEnvironment' is not defined"
     ]
    }
   ],
   "source": [
    "# create a SUMO environment for 4x4 network -> \n",
    "env_folder = \"data/2x2grid\"\n",
    "\n",
    "multi_agent_env = parallel_env(    \n",
    "        net_file = os.path.join(env_folder, \"2x2.net.xml\"),\n",
    "        route_file = os.path.join(env_folder, \"2x2.rou.xml\"),\n",
    "        reward_fn = 'diff-waiting-time',\n",
    "        observation_class = Grid2x2ObservationFunction, \n",
    "        out_csv_name=\"outputs/2x2grid/ppo\", \n",
    "        num_seconds=80000)\n",
    "\n",
    "py-spy record -o profile.svg -- python main.py\n"
   ]
  },
  {
   "cell_type": "code",
   "execution_count": 3,
   "metadata": {},
   "outputs": [],
   "source": [
    "%load_ext tensorboard\n",
    "%reload_ext tensorboard"
   ]
  },
  {
   "cell_type": "markdown",
   "metadata": {},
   "source": [
    "## Instantiate RL algorithm"
   ]
  },
  {
   "cell_type": "code",
   "execution_count": 4,
   "metadata": {},
   "outputs": [
    {
     "name": "stderr",
     "output_type": "stream",
     "text": [
      "/Users/loveen/.pyenv/versions/3.9.10/lib/python3.9/site-packages/tqdm/auto.py:21: TqdmWarning: IProgress not found. Please update jupyter and ipywidgets. See https://ipywidgets.readthedocs.io/en/stable/user_install.html\n",
      "  from .autonotebook import tqdm as notebook_tqdm\n",
      "2023-11-22 09:15:22,530\tINFO util.py:159 -- Missing packages: ['ipywidgets']. Run `pip install -U ipywidgets`, then restart the notebook server for rich notebook output.\n",
      "2023-11-22 09:15:25,875\tINFO util.py:159 -- Missing packages: ['ipywidgets']. Run `pip install -U ipywidgets`, then restart the notebook server for rich notebook output.\n",
      "2023-11-22 09:15:26,154\tWARNING __init__.py:10 -- PG has/have been moved to `rllib_contrib` and will no longer be maintained by the RLlib team. You can still use it/them normally inside RLlib util Ray 2.8, but from Ray 2.9 on, all `rllib_contrib` algorithms will no longer be part of the core repo, and will therefore have to be installed separately with pinned dependencies for e.g. ray[rllib] and other packages! See https://github.com/ray-project/ray/tree/master/rllib_contrib#rllib-contrib for more information on the RLlib contrib effort.\n",
      "2023-11-22 09:15:27,735\tINFO worker.py:1673 -- Started a local Ray instance.\n"
     ]
    },
    {
     "data": {
      "text/html": [
       "<div class=\"lm-Widget p-Widget lm-Panel p-Panel jp-Cell-outputWrapper\">\n",
       "    <div style=\"margin-left: 50px;display: flex;flex-direction: row;align-items: center\">\n",
       "        <div class=\"jp-RenderedHTMLCommon\" style=\"display: flex; flex-direction: row;\">\n",
       "  <svg viewBox=\"0 0 567 224\" fill=\"none\" xmlns=\"http://www.w3.org/2000/svg\" style=\"height: 3em;\">\n",
       "    <g clip-path=\"url(#clip0_4338_178347)\">\n",
       "        <path d=\"M341.29 165.561H355.29L330.13 129.051C345.63 123.991 354.21 112.051 354.21 94.2307C354.21 71.3707 338.72 58.1807 311.88 58.1807H271V165.561H283.27V131.661H311.8C314.25 131.661 316.71 131.501 319.01 131.351L341.25 165.561H341.29ZM283.29 119.851V70.0007H311.82C331.3 70.0007 342.34 78.2907 342.34 94.5507C342.34 111.271 331.34 119.861 311.82 119.861L283.29 119.851ZM451.4 138.411L463.4 165.561H476.74L428.74 58.1807H416L367.83 165.561H380.83L392.83 138.411H451.4ZM446.19 126.601H398L422 72.1407L446.24 126.601H446.19ZM526.11 128.741L566.91 58.1807H554.35L519.99 114.181L485.17 58.1807H472.44L514.01 129.181V165.541H526.13V128.741H526.11Z\" fill=\"var(--jp-ui-font-color0)\"/>\n",
       "        <path d=\"M82.35 104.44C84.0187 97.8827 87.8248 92.0678 93.1671 87.9146C98.5094 83.7614 105.083 81.5067 111.85 81.5067C118.617 81.5067 125.191 83.7614 130.533 87.9146C135.875 92.0678 139.681 97.8827 141.35 104.44H163.75C164.476 101.562 165.622 98.8057 167.15 96.2605L127.45 56.5605C121.071 60.3522 113.526 61.6823 106.235 60.3005C98.9443 58.9187 92.4094 54.9203 87.8602 49.0574C83.3109 43.1946 81.0609 35.8714 81.5332 28.4656C82.0056 21.0599 85.1679 14.0819 90.4252 8.8446C95.6824 3.60726 102.672 0.471508 110.08 0.0272655C117.487 -0.416977 124.802 1.86091 130.647 6.4324C136.493 11.0039 140.467 17.5539 141.821 24.8501C143.175 32.1463 141.816 39.6859 138 46.0505L177.69 85.7505C182.31 82.9877 187.58 81.4995 192.962 81.4375C198.345 81.3755 203.648 82.742 208.33 85.3976C213.012 88.0532 216.907 91.9029 219.616 96.5544C222.326 101.206 223.753 106.492 223.753 111.875C223.753 117.258 222.326 122.545 219.616 127.197C216.907 131.848 213.012 135.698 208.33 138.353C203.648 141.009 198.345 142.375 192.962 142.313C187.58 142.251 182.31 140.763 177.69 138L138 177.7C141.808 184.071 143.155 191.614 141.79 198.91C140.424 206.205 136.44 212.75 130.585 217.313C124.731 221.875 117.412 224.141 110.004 223.683C102.596 223.226 95.6103 220.077 90.3621 214.828C85.1139 209.58 81.9647 202.595 81.5072 195.187C81.0497 187.779 83.3154 180.459 87.878 174.605C92.4405 168.751 98.9853 164.766 106.281 163.401C113.576 162.035 121.119 163.383 127.49 167.19L167.19 127.49C165.664 124.941 164.518 122.182 163.79 119.3H141.39C139.721 125.858 135.915 131.673 130.573 135.826C125.231 139.98 118.657 142.234 111.89 142.234C105.123 142.234 98.5494 139.98 93.2071 135.826C87.8648 131.673 84.0587 125.858 82.39 119.3H60C58.1878 126.495 53.8086 132.78 47.6863 136.971C41.5641 141.163 34.1211 142.972 26.7579 142.059C19.3947 141.146 12.6191 137.574 7.70605 132.014C2.79302 126.454 0.0813599 119.29 0.0813599 111.87C0.0813599 104.451 2.79302 97.2871 7.70605 91.7272C12.6191 86.1673 19.3947 82.5947 26.7579 81.6817C34.1211 80.7686 41.5641 82.5781 47.6863 86.7696C53.8086 90.9611 58.1878 97.2456 60 104.44H82.35ZM100.86 204.32C103.407 206.868 106.759 208.453 110.345 208.806C113.93 209.159 117.527 208.258 120.522 206.256C123.517 204.254 125.725 201.276 126.771 197.828C127.816 194.38 127.633 190.677 126.253 187.349C124.874 184.021 122.383 181.274 119.205 179.577C116.027 177.88 112.359 177.337 108.826 178.042C105.293 178.746 102.113 180.654 99.8291 183.44C97.5451 186.226 96.2979 189.718 96.3 193.32C96.2985 195.364 96.7006 197.388 97.4831 199.275C98.2656 201.163 99.4132 202.877 100.86 204.32ZM204.32 122.88C206.868 120.333 208.453 116.981 208.806 113.396C209.159 109.811 208.258 106.214 206.256 103.219C204.254 100.223 201.275 98.0151 197.827 96.97C194.38 95.9249 190.676 96.1077 187.348 97.4873C184.02 98.8669 181.274 101.358 179.577 104.536C177.879 107.714 177.337 111.382 178.041 114.915C178.746 118.448 180.653 121.627 183.439 123.911C186.226 126.195 189.717 127.443 193.32 127.44C195.364 127.443 197.388 127.042 199.275 126.259C201.163 125.476 202.878 124.328 204.32 122.88ZM122.88 19.4205C120.333 16.8729 116.981 15.2876 113.395 14.9347C109.81 14.5817 106.213 15.483 103.218 17.4849C100.223 19.4868 98.0146 22.4654 96.9696 25.9131C95.9245 29.3608 96.1073 33.0642 97.4869 36.3922C98.8665 39.7202 101.358 42.4668 104.535 44.1639C107.713 45.861 111.381 46.4036 114.914 45.6992C118.447 44.9949 121.627 43.0871 123.911 40.301C126.195 37.515 127.442 34.0231 127.44 30.4205C127.44 28.3772 127.038 26.3539 126.255 24.4664C125.473 22.5788 124.326 20.8642 122.88 19.4205ZM19.42 100.86C16.8725 103.408 15.2872 106.76 14.9342 110.345C14.5813 113.93 15.4826 117.527 17.4844 120.522C19.4863 123.518 22.4649 125.726 25.9127 126.771C29.3604 127.816 33.0638 127.633 36.3918 126.254C39.7198 124.874 42.4664 122.383 44.1635 119.205C45.8606 116.027 46.4032 112.359 45.6988 108.826C44.9944 105.293 43.0866 102.114 40.3006 99.8296C37.5145 97.5455 34.0227 96.2983 30.42 96.3005C26.2938 96.3018 22.337 97.9421 19.42 100.86ZM100.86 100.86C98.3125 103.408 96.7272 106.76 96.3742 110.345C96.0213 113.93 96.9226 117.527 98.9244 120.522C100.926 123.518 103.905 125.726 107.353 126.771C110.8 127.816 114.504 127.633 117.832 126.254C121.16 124.874 123.906 122.383 125.604 119.205C127.301 116.027 127.843 112.359 127.139 108.826C126.434 105.293 124.527 102.114 121.741 99.8296C118.955 97.5455 115.463 96.2983 111.86 96.3005C109.817 96.299 107.793 96.701 105.905 97.4835C104.018 98.2661 102.303 99.4136 100.86 100.86Z\" fill=\"#00AEEF\"/>\n",
       "    </g>\n",
       "    <defs>\n",
       "        <clipPath id=\"clip0_4338_178347\">\n",
       "            <rect width=\"566.93\" height=\"223.75\" fill=\"white\"/>\n",
       "        </clipPath>\n",
       "    </defs>\n",
       "  </svg>\n",
       "</div>\n",
       "\n",
       "        <table class=\"jp-RenderedHTMLCommon\" style=\"border-collapse: collapse;color: var(--jp-ui-font-color1);font-size: var(--jp-ui-font-size1);\">\n",
       "    <tr>\n",
       "        <td style=\"text-align: left\"><b>Python version:</b></td>\n",
       "        <td style=\"text-align: left\"><b>3.9.10</b></td>\n",
       "    </tr>\n",
       "    <tr>\n",
       "        <td style=\"text-align: left\"><b>Ray version:</b></td>\n",
       "        <td style=\"text-align: left\"><b>2.8.0</b></td>\n",
       "    </tr>\n",
       "    \n",
       "</table>\n",
       "\n",
       "    </div>\n",
       "</div>\n"
      ],
      "text/plain": [
       "RayContext(dashboard_url='', python_version='3.9.10', ray_version='2.8.0', ray_commit='105355bd253d6538ed34d331f6a4bdf0e38ace3a', protocol_version=None)"
      ]
     },
     "execution_count": 4,
     "metadata": {},
     "output_type": "execute_result"
    }
   ],
   "source": [
    "from ray.rllib.algorithms.ppo import PPOConfig\n",
    "import ray\n",
    "ray.init()"
   ]
  },
  {
   "cell_type": "code",
   "execution_count": 5,
   "metadata": {},
   "outputs": [
    {
     "name": "stdout",
     "output_type": "stream",
     "text": [
      " Retrying in 1 seconds\n"
     ]
    }
   ],
   "source": [
    "from ray.tune import register_env\n",
    "from ray.rllib.env.wrappers.pettingzoo_env import ParallelPettingZooEnv\n",
    "\n",
    "env_name = \"Multi-agent env\"\n",
    "register_env(\n",
    "    env_name,\n",
    "    lambda _: ParallelPettingZooEnv(multi_agent_env)\n",
    ")\n",
    "\n",
    "observations = multi_agent_env.reset()"
   ]
  },
  {
   "cell_type": "code",
   "execution_count": 6,
   "metadata": {},
   "outputs": [
    {
     "name": "stderr",
     "output_type": "stream",
     "text": [
      "/Users/loveen/.pyenv/versions/3.9.10/lib/python3.9/site-packages/pettingzoo/utils/conversions.py:158: UserWarning: The `action_spaces` dictionary is deprecated. Use the `action_space` function instead.\n",
      "  warnings.warn(\n"
     ]
    },
    {
     "data": {
      "text/plain": [
       "{'1': Discrete(4), '2': Discrete(4), '5': Discrete(4), '6': Discrete(4)}"
      ]
     },
     "execution_count": 6,
     "metadata": {},
     "output_type": "execute_result"
    }
   ],
   "source": [
    "multi_agent_env.action_spaces"
   ]
  },
  {
   "cell_type": "code",
   "execution_count": 7,
   "metadata": {},
   "outputs": [
    {
     "name": "stderr",
     "output_type": "stream",
     "text": [
      "/Users/loveen/.pyenv/versions/3.9.10/lib/python3.9/site-packages/pettingzoo/utils/conversions.py:144: UserWarning: The `observation_spaces` dictionary is deprecated. Use the `observation_space` function instead.\n",
      "  warnings.warn(\n"
     ]
    },
    {
     "data": {
      "text/plain": [
       "{'1': Box(0.0, 1.0, (63,), float32),\n",
       " '2': Box(0.0, 1.0, (63,), float32),\n",
       " '5': Box(0.0, 1.0, (63,), float32),\n",
       " '6': Box(0.0, 1.0, (63,), float32)}"
      ]
     },
     "execution_count": 7,
     "metadata": {},
     "output_type": "execute_result"
    },
    {
     "name": "stderr",
     "output_type": "stream",
     "text": [
      "\u001b[33m(raylet)\u001b[0m [2023-11-22 09:15:37,724 E 7249 83408] (raylet) file_system_monitor.cc:111: /tmp/ray/session_2023-11-22_09-15-26_163949_7229 is over 95% full, available space: 4974321664; capacity: 494384795648. Object creation will fail if spilling is required.\n"
     ]
    }
   ],
   "source": [
    "multi_agent_env.observation_spaces"
   ]
  },
  {
   "cell_type": "code",
   "execution_count": 9,
   "metadata": {},
   "outputs": [],
   "source": [
    "config = (\n",
    "    PPOConfig()\n",
    "    .environment(env=env_name, disable_env_checking=False)\n",
    "    .rollouts(num_rollout_workers=4, rollout_fragment_length=128)\n",
    "    .training(\n",
    "        train_batch_size=512,\n",
    "        lr=2e-5,\n",
    "        gamma=0.95,\n",
    "        lambda_=0.9,\n",
    "        use_gae=True,\n",
    "        clip_param=0.4,\n",
    "        grad_clip=None,\n",
    "        entropy_coeff=0.1,\n",
    "        vf_loss_coeff=0.25,\n",
    "        sgd_minibatch_size=64,\n",
    "        num_sgd_iter=10,\n",
    "    )\n",
    "    .debugging(log_level=\"ERROR\")\n",
    "    .framework(framework=\"torch\")\n",
    "    .resources(num_gpus=int(os.environ.get(\"RLLIB_NUM_GPUS\", \"0\")))\n",
    ")"
   ]
  },
  {
   "cell_type": "code",
   "execution_count": 10,
   "metadata": {},
   "outputs": [
    {
     "name": "stderr",
     "output_type": "stream",
     "text": [
      "2023-11-22 09:16:03,168\tINFO tune.py:586 -- [output] This uses the legacy output and progress reporter, as Jupyter notebooks are not supported by the new engine, yet. For more information, please see https://github.com/ray-project/ray/issues/36949\n",
      "2023-11-22 09:16:03,172\tWARNING __init__.py:10 -- A3C has/have been moved to `rllib_contrib` and will no longer be maintained by the RLlib team. You can still use it/them normally inside RLlib util Ray 2.8, but from Ray 2.9 on, all `rllib_contrib` algorithms will no longer be part of the core repo, and will therefore have to be installed separately with pinned dependencies for e.g. ray[rllib] and other packages! See https://github.com/ray-project/ray/tree/master/rllib_contrib#rllib-contrib for more information on the RLlib contrib effort.\n",
      "2023-11-22 09:16:03,172\tWARNING __init__.py:10 -- A2C has/have been moved to `rllib_contrib` and will no longer be maintained by the RLlib team. You can still use it/them normally inside RLlib util Ray 2.8, but from Ray 2.9 on, all `rllib_contrib` algorithms will no longer be part of the core repo, and will therefore have to be installed separately with pinned dependencies for e.g. ray[rllib] and other packages! See https://github.com/ray-project/ray/tree/master/rllib_contrib#rllib-contrib for more information on the RLlib contrib effort.\n",
      "2023-11-22 09:16:03,177\tWARNING __init__.py:10 -- AlphaZero has/have been moved to `rllib_contrib` and will no longer be maintained by the RLlib team. You can still use it/them normally inside RLlib util Ray 2.8, but from Ray 2.9 on, all `rllib_contrib` algorithms will no longer be part of the core repo, and will therefore have to be installed separately with pinned dependencies for e.g. ray[rllib] and other packages! See https://github.com/ray-project/ray/tree/master/rllib_contrib#rllib-contrib for more information on the RLlib contrib effort.\n",
      "2023-11-22 09:16:03,208\tWARNING __init__.py:10 -- ApexDQN has/have been moved to `rllib_contrib` and will no longer be maintained by the RLlib team. You can still use it/them normally inside RLlib util Ray 2.8, but from Ray 2.9 on, all `rllib_contrib` algorithms will no longer be part of the core repo, and will therefore have to be installed separately with pinned dependencies for e.g. ray[rllib] and other packages! See https://github.com/ray-project/ray/tree/master/rllib_contrib#rllib-contrib for more information on the RLlib contrib effort.\n",
      "2023-11-22 09:16:03,210\tWARNING __init__.py:10 -- DDPG has/have been moved to `rllib_contrib` and will no longer be maintained by the RLlib team. You can still use it/them normally inside RLlib util Ray 2.8, but from Ray 2.9 on, all `rllib_contrib` algorithms will no longer be part of the core repo, and will therefore have to be installed separately with pinned dependencies for e.g. ray[rllib] and other packages! See https://github.com/ray-project/ray/tree/master/rllib_contrib#rllib-contrib for more information on the RLlib contrib effort.\n",
      "2023-11-22 09:16:03,211\tWARNING __init__.py:10 -- ApexDDPG has/have been moved to `rllib_contrib` and will no longer be maintained by the RLlib team. You can still use it/them normally inside RLlib util Ray 2.8, but from Ray 2.9 on, all `rllib_contrib` algorithms will no longer be part of the core repo, and will therefore have to be installed separately with pinned dependencies for e.g. ray[rllib] and other packages! See https://github.com/ray-project/ray/tree/master/rllib_contrib#rllib-contrib for more information on the RLlib contrib effort.\n",
      "2023-11-22 09:16:03,217\tWARNING __init__.py:10 -- ES has/have been moved to `rllib_contrib` and will no longer be maintained by the RLlib team. You can still use it/them normally inside RLlib util Ray 2.8, but from Ray 2.9 on, all `rllib_contrib` algorithms will no longer be part of the core repo, and will therefore have to be installed separately with pinned dependencies for e.g. ray[rllib] and other packages! See https://github.com/ray-project/ray/tree/master/rllib_contrib#rllib-contrib for more information on the RLlib contrib effort.\n",
      "2023-11-22 09:16:03,219\tWARNING __init__.py:10 -- ARS has/have been moved to `rllib_contrib` and will no longer be maintained by the RLlib team. You can still use it/them normally inside RLlib util Ray 2.8, but from Ray 2.9 on, all `rllib_contrib` algorithms will no longer be part of the core repo, and will therefore have to be installed separately with pinned dependencies for e.g. ray[rllib] and other packages! See https://github.com/ray-project/ray/tree/master/rllib_contrib#rllib-contrib for more information on the RLlib contrib effort.\n",
      "2023-11-22 09:16:03,222\tWARNING __init__.py:10 -- BanditLinTS and BanditLinUCB has/have been moved to `rllib_contrib` and will no longer be maintained by the RLlib team. You can still use it/them normally inside RLlib util Ray 2.8, but from Ray 2.9 on, all `rllib_contrib` algorithms will no longer be part of the core repo, and will therefore have to be installed separately with pinned dependencies for e.g. ray[rllib] and other packages! See https://github.com/ray-project/ray/tree/master/rllib_contrib#rllib-contrib for more information on the RLlib contrib effort.\n",
      "2023-11-22 09:16:03,233\tWARNING __init__.py:10 -- CRR has/have been moved to `rllib_contrib` and will no longer be maintained by the RLlib team. You can still use it/them normally inside RLlib util Ray 2.8, but from Ray 2.9 on, all `rllib_contrib` algorithms will no longer be part of the core repo, and will therefore have to be installed separately with pinned dependencies for e.g. ray[rllib] and other packages! See https://github.com/ray-project/ray/tree/master/rllib_contrib#rllib-contrib for more information on the RLlib contrib effort.\n",
      "2023-11-22 09:16:03,236\tWARNING __init__.py:10 -- DDPPO has/have been moved to `rllib_contrib` and will no longer be maintained by the RLlib team. You can still use it/them normally inside RLlib util Ray 2.8, but from Ray 2.9 on, all `rllib_contrib` algorithms will no longer be part of the core repo, and will therefore have to be installed separately with pinned dependencies for e.g. ray[rllib] and other packages! See https://github.com/ray-project/ray/tree/master/rllib_contrib#rllib-contrib for more information on the RLlib contrib effort.\n",
      "2023-11-22 09:16:03,242\tWARNING __init__.py:8 -- `Dreamer(V1)` has been removed from RLlib and will no longer be maintained by the RLlib team. Use `DreamerV3` instead, which is part of the RLlib library and will continue to be maintained and supported in the future. See https://github.com/ray-project/ray/tree/master/rllib/algorithms/dreamerv3 for more information on our DreamerV3 implementation.\n",
      "/Users/loveen/.pyenv/versions/3.9.10/lib/python3.9/site-packages/gymnasium/spaces/box.py:130: UserWarning: \u001b[33mWARN: Box bound precision lowered by casting to float32\u001b[0m\n",
      "  gym.logger.warn(f\"Box bound precision lowered by casting to {self.dtype}\")\n",
      "/Users/loveen/.pyenv/versions/3.9.10/lib/python3.9/site-packages/gymnasium/utils/passive_env_checker.py:164: UserWarning: \u001b[33mWARN: The obs returned by the `reset()` method was expecting numpy array dtype to be float32, actual type: float64\u001b[0m\n",
      "  logger.warn(\n",
      "/Users/loveen/.pyenv/versions/3.9.10/lib/python3.9/site-packages/gymnasium/utils/passive_env_checker.py:188: UserWarning: \u001b[33mWARN: The obs returned by the `reset()` method is not within the observation space.\u001b[0m\n",
      "  logger.warn(f\"{pre} is not within the observation space.\")\n",
      "2023-11-22 09:16:03,424\tWARNING __init__.py:10 -- DT has/have been moved to `rllib_contrib` and will no longer be maintained by the RLlib team. You can still use it/them normally inside RLlib util Ray 2.8, but from Ray 2.9 on, all `rllib_contrib` algorithms will no longer be part of the core repo, and will therefore have to be installed separately with pinned dependencies for e.g. ray[rllib] and other packages! See https://github.com/ray-project/ray/tree/master/rllib_contrib#rllib-contrib for more information on the RLlib contrib effort.\n",
      "2023-11-22 09:16:03,439\tWARNING __init__.py:10 -- AlphaStar has/have been moved to `rllib_contrib` and will no longer be maintained by the RLlib team. You can still use it/them normally inside RLlib util Ray 2.8, but from Ray 2.9 on, all `rllib_contrib` algorithms will no longer be part of the core repo, and will therefore have to be installed separately with pinned dependencies for e.g. ray[rllib] and other packages! See https://github.com/ray-project/ray/tree/master/rllib_contrib#rllib-contrib for more information on the RLlib contrib effort.\n",
      "2023-11-22 09:16:03,442\tWARNING __init__.py:10 -- MADDDPG has/have been moved to `rllib_contrib` and will no longer be maintained by the RLlib team. You can still use it/them normally inside RLlib util Ray 2.8, but from Ray 2.9 on, all `rllib_contrib` algorithms will no longer be part of the core repo, and will therefore have to be installed separately with pinned dependencies for e.g. ray[rllib] and other packages! See https://github.com/ray-project/ray/tree/master/rllib_contrib#rllib-contrib for more information on the RLlib contrib effort.\n",
      "2023-11-22 09:16:03,443\tWARNING __init__.py:10 -- MAML has/have been moved to `rllib_contrib` and will no longer be maintained by the RLlib team. You can still use it/them normally inside RLlib util Ray 2.8, but from Ray 2.9 on, all `rllib_contrib` algorithms will no longer be part of the core repo, and will therefore have to be installed separately with pinned dependencies for e.g. ray[rllib] and other packages! See https://github.com/ray-project/ray/tree/master/rllib_contrib#rllib-contrib for more information on the RLlib contrib effort.\n",
      "2023-11-22 09:16:03,446\tWARNING __init__.py:10 -- MBMPO has/have been moved to `rllib_contrib` and will no longer be maintained by the RLlib team. You can still use it/them normally inside RLlib util Ray 2.8, but from Ray 2.9 on, all `rllib_contrib` algorithms will no longer be part of the core repo, and will therefore have to be installed separately with pinned dependencies for e.g. ray[rllib] and other packages! See https://github.com/ray-project/ray/tree/master/rllib_contrib#rllib-contrib for more information on the RLlib contrib effort.\n",
      "2023-11-22 09:16:03,449\tWARNING __init__.py:10 -- QMIX has/have been moved to `rllib_contrib` and will no longer be maintained by the RLlib team. You can still use it/them normally inside RLlib util Ray 2.8, but from Ray 2.9 on, all `rllib_contrib` algorithms will no longer be part of the core repo, and will therefore have to be installed separately with pinned dependencies for e.g. ray[rllib] and other packages! See https://github.com/ray-project/ray/tree/master/rllib_contrib#rllib-contrib for more information on the RLlib contrib effort.\n",
      "2023-11-22 09:16:03,452\tWARNING __init__.py:10 -- R2D2 has/have been moved to `rllib_contrib` and will no longer be maintained by the RLlib team. You can still use it/them normally inside RLlib util Ray 2.8, but from Ray 2.9 on, all `rllib_contrib` algorithms will no longer be part of the core repo, and will therefore have to be installed separately with pinned dependencies for e.g. ray[rllib] and other packages! See https://github.com/ray-project/ray/tree/master/rllib_contrib#rllib-contrib for more information on the RLlib contrib effort.\n",
      "2023-11-22 09:16:03,462\tWARNING __init__.py:10 -- SlateQ has/have been moved to `rllib_contrib` and will no longer be maintained by the RLlib team. You can still use it/them normally inside RLlib util Ray 2.8, but from Ray 2.9 on, all `rllib_contrib` algorithms will no longer be part of the core repo, and will therefore have to be installed separately with pinned dependencies for e.g. ray[rllib] and other packages! See https://github.com/ray-project/ray/tree/master/rllib_contrib#rllib-contrib for more information on the RLlib contrib effort.\n",
      "2023-11-22 09:16:03,464\tWARNING __init__.py:10 -- TD3 has/have been moved to `rllib_contrib` and will no longer be maintained by the RLlib team. You can still use it/them normally inside RLlib util Ray 2.8, but from Ray 2.9 on, all `rllib_contrib` algorithms will no longer be part of the core repo, and will therefore have to be installed separately with pinned dependencies for e.g. ray[rllib] and other packages! See https://github.com/ray-project/ray/tree/master/rllib_contrib#rllib-contrib for more information on the RLlib contrib effort.\n",
      "2023-11-22 09:16:03,466\tWARNING __init__.py:10 -- LeelaChessZero has/have been moved to `rllib_contrib` and will no longer be maintained by the RLlib team. You can still use it/them normally inside RLlib util Ray 2.8, but from Ray 2.9 on, all `rllib_contrib` algorithms will no longer be part of the core repo, and will therefore have to be installed separately with pinned dependencies for e.g. ray[rllib] and other packages! See https://github.com/ray-project/ray/tree/master/rllib_contrib#rllib-contrib for more information on the RLlib contrib effort.\n"
     ]
    },
    {
     "data": {
      "text/html": [
       "<div class=\"tuneStatus\">\n",
       "  <div style=\"display: flex;flex-direction: row\">\n",
       "    <div style=\"display: flex;flex-direction: column;\">\n",
       "      <h3>Tune Status</h3>\n",
       "      <table>\n",
       "<tbody>\n",
       "<tr><td>Current time:</td><td>2023-11-22 09:36:32</td></tr>\n",
       "<tr><td>Running for: </td><td>00:20:29.45        </td></tr>\n",
       "<tr><td>Memory:      </td><td>11.9/16.0 GiB      </td></tr>\n",
       "</tbody>\n",
       "</table>\n",
       "    </div>\n",
       "    <div class=\"vDivider\"></div>\n",
       "    <div class=\"systemInfo\">\n",
       "      <h3>System Info</h3>\n",
       "      Using FIFO scheduling algorithm.<br>Logical resource usage: 5.0/10 CPUs, 0/0 GPUs\n",
       "    </div>\n",
       "    \n",
       "  </div>\n",
       "  <div class=\"hDivider\"></div>\n",
       "  <div class=\"trialStatus\">\n",
       "    <h3>Trial Status</h3>\n",
       "    <table>\n",
       "<thead>\n",
       "<tr><th>Trial name                     </th><th>status    </th><th>loc           </th><th style=\"text-align: right;\">  iter</th><th style=\"text-align: right;\">  total time (s)</th><th style=\"text-align: right;\">    ts</th><th style=\"text-align: right;\">  reward</th><th style=\"text-align: right;\">  episode_reward_max</th><th style=\"text-align: right;\">  episode_reward_min</th><th style=\"text-align: right;\">  episode_len_mean</th></tr>\n",
       "</thead>\n",
       "<tbody>\n",
       "<tr><td>PPO_Multi-agent env_c2740_00000</td><td>TERMINATED</td><td>127.0.0.1:7282</td><td style=\"text-align: right;\">   196</td><td style=\"text-align: right;\">         1212.96</td><td style=\"text-align: right;\">100352</td><td style=\"text-align: right;\">   -0.08</td><td style=\"text-align: right;\">               -0.05</td><td style=\"text-align: right;\">               -0.12</td><td style=\"text-align: right;\">             16000</td></tr>\n",
       "</tbody>\n",
       "</table>\n",
       "  </div>\n",
       "</div>\n",
       "<style>\n",
       ".tuneStatus {\n",
       "  color: var(--jp-ui-font-color1);\n",
       "}\n",
       ".tuneStatus .systemInfo {\n",
       "  display: flex;\n",
       "  flex-direction: column;\n",
       "}\n",
       ".tuneStatus td {\n",
       "  white-space: nowrap;\n",
       "}\n",
       ".tuneStatus .trialStatus {\n",
       "  display: flex;\n",
       "  flex-direction: column;\n",
       "}\n",
       ".tuneStatus h3 {\n",
       "  font-weight: bold;\n",
       "}\n",
       ".tuneStatus .hDivider {\n",
       "  border-bottom-width: var(--jp-border-width);\n",
       "  border-bottom-color: var(--jp-border-color0);\n",
       "  border-bottom-style: solid;\n",
       "}\n",
       ".tuneStatus .vDivider {\n",
       "  border-left-width: var(--jp-border-width);\n",
       "  border-left-color: var(--jp-border-color0);\n",
       "  border-left-style: solid;\n",
       "  margin: 0.5em 1em 0.5em 1em;\n",
       "}\n",
       "</style>\n"
      ],
      "text/plain": [
       "<IPython.core.display.HTML object>"
      ]
     },
     "metadata": {},
     "output_type": "display_data"
    },
    {
     "name": "stderr",
     "output_type": "stream",
     "text": [
      "\u001b[33m(raylet)\u001b[0m [2023-11-22 09:16:08,011 E 7249 83408] (raylet) file_system_monitor.cc:111: /tmp/ray/session_2023-11-22_09-15-26_163949_7229 is over 95% full, available space: 4974481408; capacity: 494384795648. Object creation will fail if spilling is required.\n",
      "\u001b[36m(pid=7282)\u001b[0m 2023-11-22 09:16:08,114\tWARNING __init__.py:10 -- PG has/have been moved to `rllib_contrib` and will no longer be maintained by the RLlib team. You can still use it/them normally inside RLlib util Ray 2.8, but from Ray 2.9 on, all `rllib_contrib` algorithms will no longer be part of the core repo, and will therefore have to be installed separately with pinned dependencies for e.g. ray[rllib] and other packages! See https://github.com/ray-project/ray/tree/master/rllib_contrib#rllib-contrib for more information on the RLlib contrib effort.\n"
     ]
    },
    {
     "name": "stdout",
     "output_type": "stream",
     "text": [
      "\u001b[36m(PPO pid=7282)\u001b[0m  Retrying in 1 seconds\n",
      "\u001b[36m(PPO pid=7282)\u001b[0m Step #0.00 (0ms ?*RT. ?UPS, TraCI: 10ms, vehicles TOT 0 ACT 0 BUF 0)                     \n",
      "\u001b[36m(RolloutWorker pid=7288)\u001b[0m  Retrying in 1 seconds\n",
      "\u001b[36m(RolloutWorker pid=7290)\u001b[0m  Retrying in 1 seconds\n"
     ]
    },
    {
     "name": "stderr",
     "output_type": "stream",
     "text": [
      "\u001b[36m(RolloutWorker pid=7290)\u001b[0m 2023-11-22 09:16:15,203\tWARNING __init__.py:10 -- PG has/have been moved to `rllib_contrib` and will no longer be maintained by the RLlib team. You can still use it/them normally inside RLlib util Ray 2.8, but from Ray 2.9 on, all `rllib_contrib` algorithms will no longer be part of the core repo, and will therefore have to be installed separately with pinned dependencies for e.g. ray[rllib] and other packages! See https://github.com/ray-project/ray/tree/master/rllib_contrib#rllib-contrib for more information on the RLlib contrib effort.\n",
      "\u001b[36m(RolloutWorker pid=7288)\u001b[0m 2023-11-22 09:16:15,203\tWARNING __init__.py:10 -- PG has/have been moved to `rllib_contrib` and will no longer be maintained by the RLlib team. You can still use it/them normally inside RLlib util Ray 2.8, but from Ray 2.9 on, all `rllib_contrib` algorithms will no longer be part of the core repo, and will therefore have to be installed separately with pinned dependencies for e.g. ray[rllib] and other packages! See https://github.com/ray-project/ray/tree/master/rllib_contrib#rllib-contrib for more information on the RLlib contrib effort.\n"
     ]
    },
    {
     "name": "stdout",
     "output_type": "stream",
     "text": [
      "\u001b[36m(RolloutWorker pid=7288)\u001b[0m Step #0.00 (0ms ?*RT. ?UPS, TraCI: 12ms, vehicles TOT 0 ACT 0 BUF 0)                     \n"
     ]
    },
    {
     "name": "stderr",
     "output_type": "stream",
     "text": [
      "\u001b[36m(RolloutWorker pid=7290)\u001b[0m /Users/loveen/.pyenv/versions/3.9.10/lib/python3.9/site-packages/pettingzoo/utils/conversions.py:144: UserWarning: The `observation_spaces` dictionary is deprecated. Use the `observation_space` function instead.\n",
      "\u001b[36m(RolloutWorker pid=7290)\u001b[0m   warnings.warn(\n",
      "\u001b[36m(RolloutWorker pid=7290)\u001b[0m /Users/loveen/.pyenv/versions/3.9.10/lib/python3.9/site-packages/pettingzoo/utils/conversions.py:158: UserWarning: The `action_spaces` dictionary is deprecated. Use the `action_space` function instead.\n",
      "\u001b[36m(RolloutWorker pid=7290)\u001b[0m   warnings.warn(\n",
      "\u001b[36m(PPO pid=7282)\u001b[0m Install gputil for GPU system monitoring.\n"
     ]
    },
    {
     "name": "stdout",
     "output_type": "stream",
     "text": [
      "Step #5.00 (0ms ?*RT. ?UPS, TraCI: 128ms, vehicles TOT 2 ACT 2 BUF 0)                     ACT 0 BUF 0)                      \n"
     ]
    },
    {
     "name": "stderr",
     "output_type": "stream",
     "text": [
      "\u001b[33m(raylet)\u001b[0m [2023-11-22 09:16:18,103 E 7249 83408] (raylet) file_system_monitor.cc:111: /tmp/ray/session_2023-11-22_09-15-26_163949_7229 is over 95% full, available space: 4974075904; capacity: 494384795648. Object creation will fail if spilling is required.\n",
      "\u001b[33m(raylet)\u001b[0m [2023-11-22 09:16:28,199 E 7249 83408] (raylet) file_system_monitor.cc:111: /tmp/ray/session_2023-11-22_09-15-26_163949_7229 is over 95% full, available space: 4968480768; capacity: 494384795648. Object creation will fail if spilling is required.\n"
     ]
    },
    {
     "data": {
      "text/html": [
       "<div class=\"trialProgress\">\n",
       "  <h3>Trial Progress</h3>\n",
       "  <table>\n",
       "<thead>\n",
       "<tr><th>Trial name                     </th><th style=\"text-align: right;\">  agent_timesteps_total</th><th>connector_metrics                                                                                                                                             </th><th>counters                                                                                                                      </th><th>custom_metrics  </th><th style=\"text-align: right;\">  episode_len_mean</th><th>episode_media  </th><th style=\"text-align: right;\">  episode_reward_max</th><th style=\"text-align: right;\">  episode_reward_mean</th><th style=\"text-align: right;\">  episode_reward_min</th><th style=\"text-align: right;\">  episodes_this_iter</th><th>info                                                                                                                                                                                                                                                                                                                                                                                                                                                                                                                                                                                                                                                                      </th><th style=\"text-align: right;\">  num_agent_steps_sampled</th><th style=\"text-align: right;\">  num_agent_steps_trained</th><th style=\"text-align: right;\">  num_env_steps_sampled</th><th style=\"text-align: right;\">  num_env_steps_sampled_this_iter</th><th style=\"text-align: right;\">  num_env_steps_sampled_throughput_per_sec</th><th style=\"text-align: right;\">  num_env_steps_trained</th><th style=\"text-align: right;\">  num_env_steps_trained_this_iter</th><th style=\"text-align: right;\">  num_env_steps_trained_throughput_per_sec</th><th style=\"text-align: right;\">  num_faulty_episodes</th><th style=\"text-align: right;\">  num_healthy_workers</th><th style=\"text-align: right;\">  num_in_flight_async_reqs</th><th style=\"text-align: right;\">  num_remote_worker_restarts</th><th style=\"text-align: right;\">  num_steps_trained_this_iter</th><th>perf                                                               </th><th>policy_reward_max  </th><th>policy_reward_mean  </th><th>policy_reward_min  </th><th>sampler_perf                                                                                                                                                                                                   </th><th>sampler_results                                                                                                                                                                                                                                                                                                                                                                                                                                                                                                                                                                                                                                                                                                                                                                                                                                                                                                                                </th><th>timers                                                                                             </th></tr>\n",
       "</thead>\n",
       "<tbody>\n",
       "<tr><td>PPO_Multi-agent env_c2740_00000</td><td style=\"text-align: right;\">                 401408</td><td>{&#x27;ObsPreprocessorConnector_ms&#x27;: 0.012451410293579102, &#x27;StateBufferConnector_ms&#x27;: 0.006794929504394531, &#x27;ViewRequirementAgentConnector_ms&#x27;: 0.5010426044464111}</td><td>{&#x27;num_env_steps_sampled&#x27;: 100352, &#x27;num_env_steps_trained&#x27;: 0, &#x27;num_agent_steps_sampled&#x27;: 401408, &#x27;num_agent_steps_trained&#x27;: 0}</td><td>{}              </td><td style=\"text-align: right;\">             16000</td><td>{}             </td><td style=\"text-align: right;\">               -0.05</td><td style=\"text-align: right;\">                -0.08</td><td style=\"text-align: right;\">               -0.12</td><td style=\"text-align: right;\">                   0</td><td>{&#x27;learner&#x27;: {&#x27;__all__&#x27;: {&#x27;num_agent_steps_trained&#x27;: 64.0, &#x27;num_env_steps_trained&#x27;: 2048.0, &#x27;total_loss&#x27;: -0.07937710685655475}, &#x27;default_policy&#x27;: {&#x27;total_loss&#x27;: -0.07937710685655475, &#x27;policy_loss&#x27;: -0.009130004997132346, &#x27;vf_loss&#x27;: 0.001550368353673548, &#x27;vf_loss_unclipped&#x27;: 0.001550368353673548, &#x27;vf_explained_var&#x27;: 0.3268238503485918, &#x27;entropy&#x27;: 0.7063469229266047, &#x27;mean_kl_loss&#x27;: 0.008390664773936862, &#x27;default_optimizer_lr&#x27;: 2e-05, &#x27;curr_lr&#x27;: 2e-05, &#x27;curr_entropy_coeff&#x27;: 0.1, &#x27;curr_kl_coeff&#x27;: 1.4388491076768387e-14}}, &#x27;num_env_steps_sampled&#x27;: 100352, &#x27;num_env_steps_trained&#x27;: 0, &#x27;num_agent_steps_sampled&#x27;: 401408, &#x27;num_agent_steps_trained&#x27;: 0}</td><td style=\"text-align: right;\">                   401408</td><td style=\"text-align: right;\">                        0</td><td style=\"text-align: right;\">                 100352</td><td style=\"text-align: right;\">                              512</td><td style=\"text-align: right;\">                                   92.8086</td><td style=\"text-align: right;\">                      0</td><td style=\"text-align: right;\">                                0</td><td style=\"text-align: right;\">                                         0</td><td style=\"text-align: right;\">                    0</td><td style=\"text-align: right;\">                    4</td><td style=\"text-align: right;\">                         0</td><td style=\"text-align: right;\">                           0</td><td style=\"text-align: right;\">                            0</td><td>{&#x27;cpu_util_percent&#x27;: 51.787499999999994, &#x27;ram_util_percent&#x27;: 74.25}</td><td>{}                 </td><td>{}                  </td><td>{}                 </td><td>{&#x27;mean_raw_obs_processing_ms&#x27;: 1.1191714458872055, &#x27;mean_inference_ms&#x27;: 1.2645060237843755, &#x27;mean_action_processing_ms&#x27;: 0.21070128686353123, &#x27;mean_env_wait_ms&#x27;: 40.94326576585509, &#x27;mean_env_render_ms&#x27;: 0.0}</td><td>{&#x27;episode_reward_max&#x27;: -0.05000000000002766, &#x27;episode_reward_min&#x27;: -0.12000000000016015, &#x27;episode_reward_mean&#x27;: -0.08000000000011454, &#x27;episode_len_mean&#x27;: 16000.0, &#x27;episode_media&#x27;: {}, &#x27;episodes_this_iter&#x27;: 0, &#x27;policy_reward_min&#x27;: {}, &#x27;policy_reward_max&#x27;: {}, &#x27;policy_reward_mean&#x27;: {}, &#x27;custom_metrics&#x27;: {}, &#x27;hist_stats&#x27;: {&#x27;episode_reward&#x27;: [-0.12000000000016015, -0.07999999999995433, -0.07000000000031599, -0.05000000000002766], &#x27;episode_lengths&#x27;: [16000, 16000, 16000, 16000]}, &#x27;sampler_perf&#x27;: {&#x27;mean_raw_obs_processing_ms&#x27;: 1.1191714458872055, &#x27;mean_inference_ms&#x27;: 1.2645060237843755, &#x27;mean_action_processing_ms&#x27;: 0.21070128686353123, &#x27;mean_env_wait_ms&#x27;: 40.94326576585509, &#x27;mean_env_render_ms&#x27;: 0.0}, &#x27;num_faulty_episodes&#x27;: 0, &#x27;connector_metrics&#x27;: {&#x27;ObsPreprocessorConnector_ms&#x27;: 0.012451410293579102, &#x27;StateBufferConnector_ms&#x27;: 0.006794929504394531, &#x27;ViewRequirementAgentConnector_ms&#x27;: 0.5010426044464111}}</td><td>{&#x27;training_iteration_time_ms&#x27;: 5360.925, &#x27;sample_time_ms&#x27;: 4605.68, &#x27;synch_weights_time_ms&#x27;: 2.589}</td></tr>\n",
       "</tbody>\n",
       "</table>\n",
       "</div>\n",
       "<style>\n",
       ".trialProgress {\n",
       "  display: flex;\n",
       "  flex-direction: column;\n",
       "  color: var(--jp-ui-font-color1);\n",
       "}\n",
       ".trialProgress h3 {\n",
       "  font-weight: bold;\n",
       "}\n",
       ".trialProgress td {\n",
       "  white-space: nowrap;\n",
       "}\n",
       "</style>\n"
      ],
      "text/plain": [
       "<IPython.core.display.HTML object>"
      ]
     },
     "metadata": {},
     "output_type": "display_data"
    },
    {
     "name": "stderr",
     "output_type": "stream",
     "text": [
      "\u001b[33m(raylet)\u001b[0m [2023-11-22 09:16:38,292 E 7249 83408] (raylet) file_system_monitor.cc:111: /tmp/ray/session_2023-11-22_09-15-26_163949_7229 is over 95% full, available space: 4968181760; capacity: 494384795648. Object creation will fail if spilling is required.\n",
      "\u001b[33m(raylet)\u001b[0m [2023-11-22 09:16:48,382 E 7249 83408] (raylet) file_system_monitor.cc:111: /tmp/ray/session_2023-11-22_09-15-26_163949_7229 is over 95% full, available space: 4968038400; capacity: 494384795648. Object creation will fail if spilling is required.\n",
      "\u001b[33m(raylet)\u001b[0m [2023-11-22 09:16:58,475 E 7249 83408] (raylet) file_system_monitor.cc:111: /tmp/ray/session_2023-11-22_09-15-26_163949_7229 is over 95% full, available space: 4971876352; capacity: 494384795648. Object creation will fail if spilling is required.\n",
      "\u001b[33m(raylet)\u001b[0m [2023-11-22 09:17:08,568 E 7249 83408] (raylet) file_system_monitor.cc:111: /tmp/ray/session_2023-11-22_09-15-26_163949_7229 is over 95% full, available space: 4971892736; capacity: 494384795648. Object creation will fail if spilling is required.\n",
      "\u001b[33m(raylet)\u001b[0m [2023-11-22 09:17:18,662 E 7249 83408] (raylet) file_system_monitor.cc:111: /tmp/ray/session_2023-11-22_09-15-26_163949_7229 is over 95% full, available space: 4970524672; capacity: 494384795648. Object creation will fail if spilling is required.\n",
      "\u001b[33m(raylet)\u001b[0m [2023-11-22 09:17:28,756 E 7249 83408] (raylet) file_system_monitor.cc:111: /tmp/ray/session_2023-11-22_09-15-26_163949_7229 is over 95% full, available space: 4969226240; capacity: 494384795648. Object creation will fail if spilling is required.\n"
     ]
    },
    {
     "name": "stdout",
     "output_type": "stream",
     "text": [
      "Step #4400.00 (0ms ?*RT. ?UPS, TraCI: 49ms, vehicles TOT 1809 ACT 50 BUF 0)               ACT 0 BUF 0)                      \n",
      "\u001b[36m(RolloutWorker pid=7289)\u001b[0m  Retrying in 1 seconds\u001b[32m [repeated 14x across cluster] (Ray deduplicates logs by default. Set RAY_DEDUP_LOGS=0 to disable log deduplication, or see https://docs.ray.io/en/master/ray-observability/ray-logging.html#log-deduplication for more options.)\u001b[0m\n",
      "\u001b[36m(RolloutWorker pid=7289)\u001b[0m Step #0.00 (0ms ?*RT. ?UPS, TraCI: 36ms, vehicles TOT 0 ACT 0 BUF 0)                     \u001b[32m [repeated 7x across cluster]\u001b[0m\n",
      "Step #5.00 (0ms ?*RT. ?UPS, TraCI: 129ms, vehicles TOT 2 ACT 2 BUF 0)                     \u001b[32m [repeated 3x across cluster]\u001b[0m\n",
      "Step #4400.00 (0ms ?*RT. ?UPS, TraCI: 55ms, vehicles TOT 1801 ACT 95 BUF 8)               ACT 0 BUF 0)                      \n",
      "Step #4400.00 (0ms ?*RT. ?UPS, TraCI: 50ms, vehicles TOT 1781 ACT 99 BUF 28)              ACT 0 BUF 0)                      \n",
      "Step #4400.00 (0ms ?*RT. ?UPS, TraCI: 58ms, vehicles TOT 1696 ACT 101 BUF 113)            ACT 0 BUF 0)                      \n"
     ]
    },
    {
     "name": "stderr",
     "output_type": "stream",
     "text": [
      "\u001b[33m(raylet)\u001b[0m [2023-11-22 09:17:38,845 E 7249 83408] (raylet) file_system_monitor.cc:111: /tmp/ray/session_2023-11-22_09-15-26_163949_7229 is over 95% full, available space: 4968366080; capacity: 494384795648. Object creation will fail if spilling is required.\n",
      "\u001b[33m(raylet)\u001b[0m [2023-11-22 09:17:48,938 E 7249 83408] (raylet) file_system_monitor.cc:111: /tmp/ray/session_2023-11-22_09-15-26_163949_7229 is over 95% full, available space: 4967895040; capacity: 494384795648. Object creation will fail if spilling is required.\n",
      "\u001b[33m(raylet)\u001b[0m [2023-11-22 09:17:59,036 E 7249 83408] (raylet) file_system_monitor.cc:111: /tmp/ray/session_2023-11-22_09-15-26_163949_7229 is over 95% full, available space: 4967096320; capacity: 494384795648. Object creation will fail if spilling is required.\n",
      "\u001b[36m(PPO pid=7282)\u001b[0m Checkpoint successfully created at: Checkpoint(filesystem=local, path=/Users/loveen/ray_results/Multi-agent env/PPO/PPO_Multi-agent env_c2740_00000_0_2023-11-22_09-16-03/checkpoint_000000)\n",
      "\u001b[36m(RolloutWorker pid=7289)\u001b[0m 2023-11-22 09:16:15,203\tWARNING __init__.py:10 -- PG has/have been moved to `rllib_contrib` and will no longer be maintained by the RLlib team. You can still use it/them normally inside RLlib util Ray 2.8, but from Ray 2.9 on, all `rllib_contrib` algorithms will no longer be part of the core repo, and will therefore have to be installed separately with pinned dependencies for e.g. ray[rllib] and other packages! See https://github.com/ray-project/ray/tree/master/rllib_contrib#rllib-contrib for more information on the RLlib contrib effort.\u001b[32m [repeated 2x across cluster]\u001b[0m\n",
      "\u001b[36m(RolloutWorker pid=7289)\u001b[0m /Users/loveen/.pyenv/versions/3.9.10/lib/python3.9/site-packages/pettingzoo/utils/conversions.py:144: UserWarning: The `observation_spaces` dictionary is deprecated. Use the `observation_space` function instead.\u001b[32m [repeated 3x across cluster]\u001b[0m\n",
      "\u001b[36m(RolloutWorker pid=7289)\u001b[0m   warnings.warn(\u001b[32m [repeated 6x across cluster]\u001b[0m\n",
      "\u001b[36m(RolloutWorker pid=7289)\u001b[0m /Users/loveen/.pyenv/versions/3.9.10/lib/python3.9/site-packages/pettingzoo/utils/conversions.py:158: UserWarning: The `action_spaces` dictionary is deprecated. Use the `action_space` function instead.\u001b[32m [repeated 3x across cluster]\u001b[0m\n",
      "\u001b[33m(raylet)\u001b[0m [2023-11-22 09:18:09,137 E 7249 83408] (raylet) file_system_monitor.cc:111: /tmp/ray/session_2023-11-22_09-15-26_163949_7229 is over 95% full, available space: 4961497088; capacity: 494384795648. Object creation will fail if spilling is required.\n",
      "\u001b[33m(raylet)\u001b[0m [2023-11-22 09:18:19,235 E 7249 83408] (raylet) file_system_monitor.cc:111: /tmp/ray/session_2023-11-22_09-15-26_163949_7229 is over 95% full, available space: 4961382400; capacity: 494384795648. Object creation will fail if spilling is required.\n",
      "\u001b[33m(raylet)\u001b[0m [2023-11-22 09:18:29,329 E 7249 83408] (raylet) file_system_monitor.cc:111: /tmp/ray/session_2023-11-22_09-15-26_163949_7229 is over 95% full, available space: 4961075200; capacity: 494384795648. Object creation will fail if spilling is required.\n"
     ]
    },
    {
     "name": "stdout",
     "output_type": "stream",
     "text": [
      "Step #8900.00 (0ms ?*RT. ?UPS, TraCI: 41ms, vehicles TOT 3580 ACT 16 BUF 0)               1854 ACT 41 BUF 0)               \n",
      "Step #8900.00 (0ms ?*RT. ?UPS, TraCI: 37ms, vehicles TOT 3580 ACT 16 BUF 0)               1834 ACT 86 BUF 20)              \n",
      "Step #8900.00 (1ms ~= 1000.00*RT, ~30000.00UPS, TraCI: 41ms, vehicles TOT 3580 ACT 30 BUF 1830 ACT 104 BUF 24)             \n",
      "Step #8900.00 (0ms ?*RT. ?UPS, TraCI: 38ms, vehicles TOT 3580 ACT 19 BUF 0)               6ms, vehicles TOT 1737 ACT 119 BU\n"
     ]
    },
    {
     "name": "stderr",
     "output_type": "stream",
     "text": [
      "\u001b[33m(raylet)\u001b[0m [2023-11-22 09:18:39,417 E 7249 83408] (raylet) file_system_monitor.cc:111: /tmp/ray/session_2023-11-22_09-15-26_163949_7229 is over 95% full, available space: 4961034240; capacity: 494384795648. Object creation will fail if spilling is required.\n",
      "\u001b[33m(raylet)\u001b[0m [2023-11-22 09:18:49,512 E 7249 83408] (raylet) file_system_monitor.cc:111: /tmp/ray/session_2023-11-22_09-15-26_163949_7229 is over 95% full, available space: 4960923648; capacity: 494384795648. Object creation will fail if spilling is required.\n",
      "\u001b[33m(raylet)\u001b[0m [2023-11-22 09:18:59,605 E 7249 83408] (raylet) file_system_monitor.cc:111: /tmp/ray/session_2023-11-22_09-15-26_163949_7229 is over 95% full, available space: 4960739328; capacity: 494384795648. Object creation will fail if spilling is required.\n",
      "\u001b[33m(raylet)\u001b[0m [2023-11-22 09:19:09,703 E 7249 83408] (raylet) file_system_monitor.cc:111: /tmp/ray/session_2023-11-22_09-15-26_163949_7229 is over 95% full, available space: 4960681984; capacity: 494384795648. Object creation will fail if spilling is required.\n",
      "\u001b[36m(PPO pid=7282)\u001b[0m Checkpoint successfully created at: Checkpoint(filesystem=local, path=/Users/loveen/ray_results/Multi-agent env/PPO/PPO_Multi-agent env_c2740_00000_0_2023-11-22_09-16-03/checkpoint_000001)\n"
     ]
    },
    {
     "name": "stdout",
     "output_type": "stream",
     "text": [
      "Step #13400.00 (0ms ?*RT. ?UPS, TraCI: 39ms, vehicles TOT 5351 ACT 19 BUF 0)              625 ACT 35 BUF 0)               \n",
      "Step #13400.00 (0ms ?*RT. ?UPS, TraCI: 40ms, vehicles TOT 5351 ACT 26 BUF 0)              625 ACT 29 BUF 0)               \n",
      "Step #13400.00 (0ms ?*RT. ?UPS, TraCI: 40ms, vehicles TOT 5351 ACT 21 BUF 0)              s, vehicles TOT 3625 ACT 35 BUF \n",
      "Step #13400.00 (0ms ?*RT. ?UPS, TraCI: 39ms, vehicles TOT 5351 ACT 18 BUF 0)              625 ACT 32 BUF 0)               \n"
     ]
    },
    {
     "name": "stderr",
     "output_type": "stream",
     "text": [
      "\u001b[33m(raylet)\u001b[0m [2023-11-22 09:19:19,788 E 7249 83408] (raylet) file_system_monitor.cc:111: /tmp/ray/session_2023-11-22_09-15-26_163949_7229 is over 95% full, available space: 4954968064; capacity: 494384795648. Object creation will fail if spilling is required.\n",
      "\u001b[33m(raylet)\u001b[0m [2023-11-22 09:19:29,879 E 7249 83408] (raylet) file_system_monitor.cc:111: /tmp/ray/session_2023-11-22_09-15-26_163949_7229 is over 95% full, available space: 3872006144; capacity: 494384795648. Object creation will fail if spilling is required.\n",
      "\u001b[33m(raylet)\u001b[0m [2023-11-22 09:19:39,969 E 7249 83408] (raylet) file_system_monitor.cc:111: /tmp/ray/session_2023-11-22_09-15-26_163949_7229 is over 95% full, available space: 3871952896; capacity: 494384795648. Object creation will fail if spilling is required.\n",
      "\u001b[33m(raylet)\u001b[0m [2023-11-22 09:19:50,062 E 7249 83408] (raylet) file_system_monitor.cc:111: /tmp/ray/session_2023-11-22_09-15-26_163949_7229 is over 95% full, available space: 3871535104; capacity: 494384795648. Object creation will fail if spilling is required.\n",
      "\u001b[33m(raylet)\u001b[0m [2023-11-22 09:20:00,156 E 7249 83408] (raylet) file_system_monitor.cc:111: /tmp/ray/session_2023-11-22_09-15-26_163949_7229 is over 95% full, available space: 3874902016; capacity: 494384795648. Object creation will fail if spilling is required.\n"
     ]
    },
    {
     "name": "stdout",
     "output_type": "stream",
     "text": [
      "Step #17900.00 (0ms ?*RT. ?UPS, TraCI: 43ms, vehicles TOT 7130 ACT 22 BUF 0)              391 ACT 22 BUF 0)              \n",
      "Step #17900.00 (0ms ?*RT. ?UPS, TraCI: 42ms, vehicles TOT 7130 ACT 21 BUF 0)              391 ACT 23 BUF 0)              \n",
      "Step #17900.00 (0ms ?*RT. ?UPS, TraCI: 43ms, vehicles TOT 7130 ACT 22 BUF 0)              s, vehicles TOT 5391 ACT 24 BUF\n",
      "Step #17900.00 (0ms ?*RT. ?UPS, TraCI: 44ms, vehicles TOT 7130 ACT 23 BUF 0)              391 ACT 20 BUF 0)              \n"
     ]
    },
    {
     "name": "stderr",
     "output_type": "stream",
     "text": [
      "\u001b[33m(raylet)\u001b[0m [2023-11-22 09:20:10,250 E 7249 83408] (raylet) file_system_monitor.cc:111: /tmp/ray/session_2023-11-22_09-15-26_163949_7229 is over 95% full, available space: 3873349632; capacity: 494384795648. Object creation will fail if spilling is required.\n",
      "\u001b[36m(PPO pid=7282)\u001b[0m Checkpoint successfully created at: Checkpoint(filesystem=local, path=/Users/loveen/ray_results/Multi-agent env/PPO/PPO_Multi-agent env_c2740_00000_0_2023-11-22_09-16-03/checkpoint_000002)\n",
      "\u001b[33m(raylet)\u001b[0m [2023-11-22 09:20:20,346 E 7249 83408] (raylet) file_system_monitor.cc:111: /tmp/ray/session_2023-11-22_09-15-26_163949_7229 is over 95% full, available space: 3867713536; capacity: 494384795648. Object creation will fail if spilling is required.\n",
      "\u001b[33m(raylet)\u001b[0m [2023-11-22 09:20:30,440 E 7249 83408] (raylet) file_system_monitor.cc:111: /tmp/ray/session_2023-11-22_09-15-26_163949_7229 is over 95% full, available space: 3867324416; capacity: 494384795648. Object creation will fail if spilling is required.\n",
      "\u001b[33m(raylet)\u001b[0m [2023-11-22 09:20:40,535 E 7249 83408] (raylet) file_system_monitor.cc:111: /tmp/ray/session_2023-11-22_09-15-26_163949_7229 is over 95% full, available space: 3865882624; capacity: 494384795648. Object creation will fail if spilling is required.\n"
     ]
    },
    {
     "name": "stdout",
     "output_type": "stream",
     "text": [
      "Step #22400.00 (0ms ?*RT. ?UPS, TraCI: 58ms, vehicles TOT 8930 ACT 20 BUF 0)              74 ACT 24 BUF 0)              \n",
      "Step #22400.00 (0ms ?*RT. ?UPS, TraCI: 68ms, vehicles TOT 8930 ACT 21 BUF 0)              74 ACT 22 BUF 0)              \n",
      "Step #22400.00 (0ms ?*RT. ?UPS, TraCI: 70ms, vehicles TOT 8930 ACT 20 BUF 0)              74 ACT 24 BUF 0)              \n",
      "Step #22400.00 (0ms ?*RT. ?UPS, TraCI: 71ms, vehicles TOT 8930 ACT 22 BUF 0)              74 ACT 23 BUF 0)              \n"
     ]
    },
    {
     "name": "stderr",
     "output_type": "stream",
     "text": [
      "\u001b[33m(raylet)\u001b[0m [2023-11-22 09:20:50,628 E 7249 83408] (raylet) file_system_monitor.cc:111: /tmp/ray/session_2023-11-22_09-15-26_163949_7229 is over 95% full, available space: 3865677824; capacity: 494384795648. Object creation will fail if spilling is required.\n",
      "\u001b[33m(raylet)\u001b[0m [2023-11-22 09:21:00,726 E 7249 83408] (raylet) file_system_monitor.cc:111: /tmp/ray/session_2023-11-22_09-15-26_163949_7229 is over 95% full, available space: 3865464832; capacity: 494384795648. Object creation will fail if spilling is required.\n",
      "2023-11-22 09:21:05,241\tWARNING syncer.py:405 -- Last sync command failed with the following error:\n",
      "Traceback (most recent call last):\n",
      "  File \"/Users/loveen/.pyenv/versions/3.9.10/lib/python3.9/site-packages/ray/train/_internal/syncer.py\", line 403, in _launch_sync_process\n",
      "    self.wait()\n",
      "  File \"/Users/loveen/.pyenv/versions/3.9.10/lib/python3.9/site-packages/ray/train/_internal/syncer.py\", line 473, in wait\n",
      "    raise e\n",
      "  File \"/Users/loveen/.pyenv/versions/3.9.10/lib/python3.9/site-packages/ray/train/_internal/syncer.py\", line 471, in wait\n",
      "    self._sync_process.wait(timeout=self.sync_timeout)\n",
      "  File \"/Users/loveen/.pyenv/versions/3.9.10/lib/python3.9/site-packages/ray/train/_internal/syncer.py\", line 173, in wait\n",
      "    raise exception\n",
      "  File \"/Users/loveen/.pyenv/versions/3.9.10/lib/python3.9/site-packages/ray/train/_internal/syncer.py\", line 136, in entrypoint\n",
      "    result = self._fn(*args, **kwargs)\n",
      "  File \"/Users/loveen/.pyenv/versions/3.9.10/lib/python3.9/site-packages/ray/train/_internal/storage.py\", line 216, in _upload_to_fs_path\n",
      "    _upload_to_uri_with_exclude_fsspec(\n",
      "  File \"/Users/loveen/.pyenv/versions/3.9.10/lib/python3.9/site-packages/ray/train/_internal/storage.py\", line 229, in _upload_to_uri_with_exclude_fsspec\n",
      "    _pyarrow_fs_copy_files(\n",
      "  File \"/Users/loveen/.pyenv/versions/3.9.10/lib/python3.9/site-packages/ray/train/_internal/storage.py\", line 110, in _pyarrow_fs_copy_files\n",
      "    return pyarrow.fs.copy_files(\n",
      "  File \"/Users/loveen/.pyenv/versions/3.9.10/lib/python3.9/site-packages/pyarrow/fs.py\", line 269, in copy_files\n",
      "    _copy_files_selector(source_fs, source_sel,\n",
      "  File \"pyarrow/_fs.pyx\", line 1627, in pyarrow._fs._copy_files_selector\n",
      "  File \"pyarrow/types.pxi\", line 88, in pyarrow.lib._datatype_to_pep3118\n",
      "  File \"pyarrow/_fs.pyx\", line 1519, in pyarrow._fs._cb_get_file_info_selector\n",
      "  File \"/Users/loveen/.pyenv/versions/3.9.10/lib/python3.9/site-packages/pyarrow/fs.py\", line 355, in get_file_info_selector\n",
      "    selected_files = self.fs.find(\n",
      "  File \"/Users/loveen/.pyenv/versions/3.9.10/lib/python3.9/site-packages/ray/train/_internal/storage.py\", line 89, in find\n",
      "    return {\n",
      "  File \"/Users/loveen/.pyenv/versions/3.9.10/lib/python3.9/site-packages/ray/train/_internal/storage.py\", line 92, in <dictcomp>\n",
      "    if not self._should_exclude(path)\n",
      "  File \"/Users/loveen/.pyenv/versions/3.9.10/lib/python3.9/site-packages/ray/train/_internal/storage.py\", line 73, in _should_exclude\n",
      "    relative_path = path.relative_to(self._root_path).as_posix()\n",
      "  File \"/Users/loveen/.pyenv/versions/3.9.10/lib/python3.9/pathlib.py\", line 939, in relative_to\n",
      "    raise ValueError(\"{!r} is not in the subpath of {!r}\"\n",
      "ValueError: '/Users/loveen/ray_results/Multi-agent env/PPO' is not in the subpath of '~/ray_results/Multi-agent env/PPO' OR one path is relative and the other is absolute.\n",
      "\n",
      "\u001b[33m(raylet)\u001b[0m [2023-11-22 09:21:10,821 E 7249 83408] (raylet) file_system_monitor.cc:111: /tmp/ray/session_2023-11-22_09-15-26_163949_7229 is over 95% full, available space: 3864793088; capacity: 494384795648. Object creation will fail if spilling is required.\n",
      "\u001b[36m(PPO pid=7282)\u001b[0m Checkpoint successfully created at: Checkpoint(filesystem=local, path=/Users/loveen/ray_results/Multi-agent env/PPO/PPO_Multi-agent env_c2740_00000_0_2023-11-22_09-16-03/checkpoint_000003)\n",
      "\u001b[33m(raylet)\u001b[0m [2023-11-22 09:21:20,909 E 7249 83408] (raylet) file_system_monitor.cc:111: /tmp/ray/session_2023-11-22_09-15-26_163949_7229 is over 95% full, available space: 3859107840; capacity: 494384795648. Object creation will fail if spilling is required.\n"
     ]
    },
    {
     "name": "stdout",
     "output_type": "stream",
     "text": [
      "Step #26900.00 (0ms ?*RT. ?UPS, TraCI: 38ms, vehicles TOT 10702 ACT 19 BUF 0)             2 ACT 15 BUF 0)              \n",
      "Step #26900.00 (1ms ~= 1000.00*RT, ~20000.00UPS, TraCI: 38ms, vehicles TOT 10702 ACT 20 BU2 ACT 15 BUF 0)              \n",
      "Step #26900.00 (0ms ?*RT. ?UPS, TraCI: 38ms, vehicles TOT 10702 ACT 21 BUF 0)             2 ACT 14 BUF 0)              \n",
      "Step #26900.00 (0ms ?*RT. ?UPS, TraCI: 39ms, vehicles TOT 10702 ACT 18 BUF 0)             2 ACT 17 BUF 0)              \n"
     ]
    },
    {
     "name": "stderr",
     "output_type": "stream",
     "text": [
      "\u001b[33m(raylet)\u001b[0m [2023-11-22 09:21:31,003 E 7249 83408] (raylet) file_system_monitor.cc:111: /tmp/ray/session_2023-11-22_09-15-26_163949_7229 is over 95% full, available space: 3857973248; capacity: 494384795648. Object creation will fail if spilling is required.\n",
      "\u001b[33m(raylet)\u001b[0m [2023-11-22 09:21:41,093 E 7249 83408] (raylet) file_system_monitor.cc:111: /tmp/ray/session_2023-11-22_09-15-26_163949_7229 is over 95% full, available space: 3857838080; capacity: 494384795648. Object creation will fail if spilling is required.\n",
      "\u001b[33m(raylet)\u001b[0m [2023-11-22 09:21:51,182 E 7249 83408] (raylet) file_system_monitor.cc:111: /tmp/ray/session_2023-11-22_09-15-26_163949_7229 is over 95% full, available space: 3857801216; capacity: 494384795648. Object creation will fail if spilling is required.\n",
      "\u001b[33m(raylet)\u001b[0m [2023-11-22 09:22:01,272 E 7249 83408] (raylet) file_system_monitor.cc:111: /tmp/ray/session_2023-11-22_09-15-26_163949_7229 is over 95% full, available space: 3857563648; capacity: 494384795648. Object creation will fail if spilling is required.\n"
     ]
    },
    {
     "name": "stdout",
     "output_type": "stream",
     "text": [
      "Step #31400.00 (0ms ?*RT. ?UPS, TraCI: 41ms, vehicles TOT 12484 ACT 22 BUF 0)             vehicles TOT 10747 ACT 26 BU\n",
      "Step #31400.00 (0ms ?*RT. ?UPS, TraCI: 41ms, vehicles TOT 12484 ACT 19 BUF 0)             7 ACT 27 BUF 0)             \n",
      "Step #31400.00 (0ms ?*RT. ?UPS, TraCI: 42ms, vehicles TOT 12484 ACT 20 BUF 0)             vehicles TOT 10747 ACT 25 BU\n",
      "Step #31400.00 (0ms ?*RT. ?UPS, TraCI: 43ms, vehicles TOT 12484 ACT 24 BUF 0)             7 ACT 27 BUF 0)             \n"
     ]
    },
    {
     "name": "stderr",
     "output_type": "stream",
     "text": [
      "\u001b[33m(raylet)\u001b[0m [2023-11-22 09:22:11,362 E 7249 83408] (raylet) file_system_monitor.cc:111: /tmp/ray/session_2023-11-22_09-15-26_163949_7229 is over 95% full, available space: 3856490496; capacity: 494384795648. Object creation will fail if spilling is required.\n",
      "\u001b[36m(PPO pid=7282)\u001b[0m Checkpoint successfully created at: Checkpoint(filesystem=local, path=/Users/loveen/ray_results/Multi-agent env/PPO/PPO_Multi-agent env_c2740_00000_0_2023-11-22_09-16-03/checkpoint_000004)\n",
      "\u001b[33m(raylet)\u001b[0m [2023-11-22 09:22:21,454 E 7249 83408] (raylet) file_system_monitor.cc:111: /tmp/ray/session_2023-11-22_09-15-26_163949_7229 is over 95% full, available space: 3850854400; capacity: 494384795648. Object creation will fail if spilling is required.\n",
      "\u001b[33m(raylet)\u001b[0m [2023-11-22 09:22:31,546 E 7249 83408] (raylet) file_system_monitor.cc:111: /tmp/ray/session_2023-11-22_09-15-26_163949_7229 is over 95% full, available space: 3850686464; capacity: 494384795648. Object creation will fail if spilling is required.\n",
      "\u001b[33m(raylet)\u001b[0m [2023-11-22 09:22:41,632 E 7249 83408] (raylet) file_system_monitor.cc:111: /tmp/ray/session_2023-11-22_09-15-26_163949_7229 is over 95% full, available space: 3850653696; capacity: 494384795648. Object creation will fail if spilling is required.\n",
      "\u001b[33m(raylet)\u001b[0m [2023-11-22 09:22:51,727 E 7249 83408] (raylet) file_system_monitor.cc:111: /tmp/ray/session_2023-11-22_09-15-26_163949_7229 is over 95% full, available space: 3850670080; capacity: 494384795648. Object creation will fail if spilling is required.\n"
     ]
    },
    {
     "name": "stdout",
     "output_type": "stream",
     "text": [
      "Step #36900.00 (0ms ?*RT. ?UPS, TraCI: 42ms, vehicles TOT 14324 ACT 23 BUF 0)             ehicles TOT 12528 ACT 24 BU\n",
      "Step #36900.00 (0ms ?*RT. ?UPS, TraCI: 41ms, vehicles TOT 14324 ACT 21 BUF 0)             ehicles TOT 12528 ACT 25 BU\n",
      "Step #36900.00 (0ms ?*RT. ?UPS, TraCI: 41ms, vehicles TOT 14324 ACT 19 BUF 0)             ehicles TOT 12528 ACT 24 BU\n",
      "Step #36900.00 (0ms ?*RT. ?UPS, TraCI: 41ms, vehicles TOT 14324 ACT 21 BUF 0)             ehicles TOT 12528 ACT 29 BU\n"
     ]
    },
    {
     "name": "stderr",
     "output_type": "stream",
     "text": [
      "\u001b[33m(raylet)\u001b[0m [2023-11-22 09:23:01,814 E 7249 83408] (raylet) file_system_monitor.cc:111: /tmp/ray/session_2023-11-22_09-15-26_163949_7229 is over 95% full, available space: 3852476416; capacity: 494384795648. Object creation will fail if spilling is required.\n",
      "\u001b[33m(raylet)\u001b[0m [2023-11-22 09:23:11,901 E 7249 83408] (raylet) file_system_monitor.cc:111: /tmp/ray/session_2023-11-22_09-15-26_163949_7229 is over 95% full, available space: 3851743232; capacity: 494384795648. Object creation will fail if spilling is required.\n",
      "\u001b[36m(PPO pid=7282)\u001b[0m Checkpoint successfully created at: Checkpoint(filesystem=local, path=/Users/loveen/ray_results/Multi-agent env/PPO/PPO_Multi-agent env_c2740_00000_0_2023-11-22_09-16-03/checkpoint_000005)\n",
      "\u001b[33m(raylet)\u001b[0m [2023-11-22 09:23:21,991 E 7249 83408] (raylet) file_system_monitor.cc:111: /tmp/ray/session_2023-11-22_09-15-26_163949_7229 is over 95% full, available space: 3845787648; capacity: 494384795648. Object creation will fail if spilling is required.\n",
      "\u001b[33m(raylet)\u001b[0m [2023-11-22 09:23:32,083 E 7249 83408] (raylet) file_system_monitor.cc:111: /tmp/ray/session_2023-11-22_09-15-26_163949_7229 is over 95% full, available space: 3844788224; capacity: 494384795648. Object creation will fail if spilling is required.\n"
     ]
    },
    {
     "name": "stdout",
     "output_type": "stream",
     "text": [
      "Step #40500.00 (1ms ~= 1000.00*RT, ~23000.00UPS, TraCI: 41ms, vehicles TOT 16076 ACT 23 BUACT 26 BUF 0)             \n",
      "Step #40500.00 (0ms ?*RT. ?UPS, TraCI: 42ms, vehicles TOT 16076 ACT 25 BUF 0)             hicles TOT 14368 ACT 22 BU\n",
      "Step #40500.00 (1ms ~= 1000.00*RT, ~26000.00UPS, TraCI: 43ms, vehicles TOT 16076 ACT 26 BUACT 23 BUF 0)             \n",
      "Step #40500.00 (0ms ?*RT. ?UPS, TraCI: 42ms, vehicles TOT 16076 ACT 25 BUF 0)             hicles TOT 14368 ACT 25 BU\n"
     ]
    },
    {
     "name": "stderr",
     "output_type": "stream",
     "text": [
      "\u001b[33m(raylet)\u001b[0m [2023-11-22 09:23:42,176 E 7249 83408] (raylet) file_system_monitor.cc:111: /tmp/ray/session_2023-11-22_09-15-26_163949_7229 is over 95% full, available space: 3844718592; capacity: 494384795648. Object creation will fail if spilling is required.\n",
      "\u001b[33m(raylet)\u001b[0m [2023-11-22 09:23:52,267 E 7249 83408] (raylet) file_system_monitor.cc:111: /tmp/ray/session_2023-11-22_09-15-26_163949_7229 is over 95% full, available space: 3845488640; capacity: 494384795648. Object creation will fail if spilling is required.\n",
      "\u001b[33m(raylet)\u001b[0m [2023-11-22 09:24:02,361 E 7249 83408] (raylet) file_system_monitor.cc:111: /tmp/ray/session_2023-11-22_09-15-26_163949_7229 is over 95% full, available space: 3844976640; capacity: 494384795648. Object creation will fail if spilling is required.\n",
      "\u001b[33m(raylet)\u001b[0m [2023-11-22 09:24:12,452 E 7249 83408] (raylet) file_system_monitor.cc:111: /tmp/ray/session_2023-11-22_09-15-26_163949_7229 is over 95% full, available space: 3844907008; capacity: 494384795648. Object creation will fail if spilling is required.\n",
      "\u001b[36m(PPO pid=7282)\u001b[0m Checkpoint successfully created at: Checkpoint(filesystem=local, path=/Users/loveen/ray_results/Multi-agent env/PPO/PPO_Multi-agent env_c2740_00000_0_2023-11-22_09-16-03/checkpoint_000006)\n"
     ]
    },
    {
     "name": "stdout",
     "output_type": "stream",
     "text": [
      "Step #45000.00 (1ms ~= 1000.00*RT, ~12000.00UPS, TraCI: 38ms, vehicles TOT 17867 ACT 12 BUicles TOT 16102 ACT 14 BU\n",
      "Step #45000.00 (0ms ?*RT. ?UPS, TraCI: 37ms, vehicles TOT 17867 ACT 11 BUF 0)             CT 13 BUF 0)             \n",
      "Step #45000.00 (0ms ?*RT. ?UPS, TraCI: 37ms, vehicles TOT 17867 ACT 16 BUF 0)             CT 12 BUF 0)             \n",
      "Step #45000.00 (0ms ?*RT. ?UPS, TraCI: 38ms, vehicles TOT 17867 ACT 12 BUF 0)             CT 10 BUF 0)             \n"
     ]
    },
    {
     "name": "stderr",
     "output_type": "stream",
     "text": [
      "\u001b[33m(raylet)\u001b[0m [2023-11-22 09:24:22,543 E 7249 83408] (raylet) file_system_monitor.cc:111: /tmp/ray/session_2023-11-22_09-15-26_163949_7229 is over 95% full, available space: 3839180800; capacity: 494384795648. Object creation will fail if spilling is required.\n",
      "\u001b[33m(raylet)\u001b[0m [2023-11-22 09:24:32,641 E 7249 83408] (raylet) file_system_monitor.cc:111: /tmp/ray/session_2023-11-22_09-15-26_163949_7229 is over 95% full, available space: 3838849024; capacity: 494384795648. Object creation will fail if spilling is required.\n",
      "\u001b[33m(raylet)\u001b[0m [2023-11-22 09:24:42,739 E 7249 83408] (raylet) file_system_monitor.cc:111: /tmp/ray/session_2023-11-22_09-15-26_163949_7229 is over 95% full, available space: 3838693376; capacity: 494384795648. Object creation will fail if spilling is required.\n",
      "\u001b[33m(raylet)\u001b[0m [2023-11-22 09:24:52,834 E 7249 83408] (raylet) file_system_monitor.cc:111: /tmp/ray/session_2023-11-22_09-15-26_163949_7229 is over 95% full, available space: 3838652416; capacity: 494384795648. Object creation will fail if spilling is required.\n"
     ]
    },
    {
     "name": "stdout",
     "output_type": "stream",
     "text": [
      "Step #49500.00 (0ms ?*RT. ?UPS, TraCI: 33ms, vehicles TOT 19683 ACT 17 BUF 0)             T 42 BUF 0)             \n",
      "Step #49500.00 (0ms ?*RT. ?UPS, TraCI: 34ms, vehicles TOT 19683 ACT 17 BUF 0)             T 39 BUF 0)             \n",
      "Step #49500.00 (0ms ?*RT. ?UPS, TraCI: 34ms, vehicles TOT 19683 ACT 19 BUF 0)             cles TOT 17928 ACT 45 BU\n",
      "Step #49500.00 (0ms ?*RT. ?UPS, TraCI: 34ms, vehicles TOT 19683 ACT 19 BUF 0)             T 42 BUF 0)             \n"
     ]
    },
    {
     "name": "stderr",
     "output_type": "stream",
     "text": [
      "\u001b[33m(raylet)\u001b[0m [2023-11-22 09:25:02,930 E 7249 83408] (raylet) file_system_monitor.cc:111: /tmp/ray/session_2023-11-22_09-15-26_163949_7229 is over 95% full, available space: 3838492672; capacity: 494384795648. Object creation will fail if spilling is required.\n",
      "\u001b[33m(raylet)\u001b[0m [2023-11-22 09:25:13,026 E 7249 83408] (raylet) file_system_monitor.cc:111: /tmp/ray/session_2023-11-22_09-15-26_163949_7229 is over 95% full, available space: 3837485056; capacity: 494384795648. Object creation will fail if spilling is required.\n",
      "\u001b[36m(PPO pid=7282)\u001b[0m Checkpoint successfully created at: Checkpoint(filesystem=local, path=/Users/loveen/ray_results/Multi-agent env/PPO/PPO_Multi-agent env_c2740_00000_0_2023-11-22_09-16-03/checkpoint_000007)\n",
      "\u001b[33m(raylet)\u001b[0m [2023-11-22 09:25:23,114 E 7249 83408] (raylet) file_system_monitor.cc:111: /tmp/ray/session_2023-11-22_09-15-26_163949_7229 is over 95% full, available space: 3831689216; capacity: 494384795648. Object creation will fail if spilling is required.\n",
      "\u001b[33m(raylet)\u001b[0m [2023-11-22 09:25:33,203 E 7249 83408] (raylet) file_system_monitor.cc:111: /tmp/ray/session_2023-11-22_09-15-26_163949_7229 is over 95% full, available space: 3831451648; capacity: 494384795648. Object creation will fail if spilling is required.\n",
      "\u001b[33m(raylet)\u001b[0m [2023-11-22 09:25:43,292 E 7249 83408] (raylet) file_system_monitor.cc:111: /tmp/ray/session_2023-11-22_09-15-26_163949_7229 is over 95% full, available space: 3831255040; capacity: 494384795648. Object creation will fail if spilling is required.\n"
     ]
    },
    {
     "name": "stdout",
     "output_type": "stream",
     "text": [
      "Step #54000.00 (0ms ?*RT. ?UPS, TraCI: 41ms, vehicles TOT 21475 ACT 22 BUF 0)              16 BUF 0)             \n",
      "Step #54000.00 (0ms ?*RT. ?UPS, TraCI: 41ms, vehicles TOT 21475 ACT 21 BUF 0)              18 BUF 0)             \n",
      "Step #54000.00 (0ms ?*RT. ?UPS, TraCI: 40ms, vehicles TOT 21475 ACT 20 BUF 0)             les TOT 19727 ACT 19 BU\n",
      "Step #54000.00 (0ms ?*RT. ?UPS, TraCI: 39ms, vehicles TOT 21475 ACT 18 BUF 0)              22 BUF 0)             \n"
     ]
    },
    {
     "name": "stderr",
     "output_type": "stream",
     "text": [
      "\u001b[33m(raylet)\u001b[0m [2023-11-22 09:25:53,377 E 7249 83408] (raylet) file_system_monitor.cc:111: /tmp/ray/session_2023-11-22_09-15-26_163949_7229 is over 95% full, available space: 3831070720; capacity: 494384795648. Object creation will fail if spilling is required.\n",
      "\u001b[33m(raylet)\u001b[0m [2023-11-22 09:26:03,472 E 7249 83408] (raylet) file_system_monitor.cc:111: /tmp/ray/session_2023-11-22_09-15-26_163949_7229 is over 95% full, available space: 3832434688; capacity: 494384795648. Object creation will fail if spilling is required.\n",
      "2023-11-22 09:26:07,216\tWARNING syncer.py:405 -- Last sync command failed with the following error:\n",
      "Traceback (most recent call last):\n",
      "  File \"/Users/loveen/.pyenv/versions/3.9.10/lib/python3.9/site-packages/ray/train/_internal/syncer.py\", line 403, in _launch_sync_process\n",
      "    self.wait()\n",
      "  File \"/Users/loveen/.pyenv/versions/3.9.10/lib/python3.9/site-packages/ray/train/_internal/syncer.py\", line 473, in wait\n",
      "    raise e\n",
      "  File \"/Users/loveen/.pyenv/versions/3.9.10/lib/python3.9/site-packages/ray/train/_internal/syncer.py\", line 471, in wait\n",
      "    self._sync_process.wait(timeout=self.sync_timeout)\n",
      "  File \"/Users/loveen/.pyenv/versions/3.9.10/lib/python3.9/site-packages/ray/train/_internal/syncer.py\", line 173, in wait\n",
      "    raise exception\n",
      "  File \"/Users/loveen/.pyenv/versions/3.9.10/lib/python3.9/site-packages/ray/train/_internal/syncer.py\", line 136, in entrypoint\n",
      "    result = self._fn(*args, **kwargs)\n",
      "  File \"/Users/loveen/.pyenv/versions/3.9.10/lib/python3.9/site-packages/ray/train/_internal/storage.py\", line 216, in _upload_to_fs_path\n",
      "    _upload_to_uri_with_exclude_fsspec(\n",
      "  File \"/Users/loveen/.pyenv/versions/3.9.10/lib/python3.9/site-packages/ray/train/_internal/storage.py\", line 229, in _upload_to_uri_with_exclude_fsspec\n",
      "    _pyarrow_fs_copy_files(\n",
      "  File \"/Users/loveen/.pyenv/versions/3.9.10/lib/python3.9/site-packages/ray/train/_internal/storage.py\", line 110, in _pyarrow_fs_copy_files\n",
      "    return pyarrow.fs.copy_files(\n",
      "  File \"/Users/loveen/.pyenv/versions/3.9.10/lib/python3.9/site-packages/pyarrow/fs.py\", line 269, in copy_files\n",
      "    _copy_files_selector(source_fs, source_sel,\n",
      "  File \"pyarrow/_fs.pyx\", line 1627, in pyarrow._fs._copy_files_selector\n",
      "  File \"pyarrow/types.pxi\", line 88, in pyarrow.lib._datatype_to_pep3118\n",
      "  File \"pyarrow/_fs.pyx\", line 1519, in pyarrow._fs._cb_get_file_info_selector\n",
      "  File \"/Users/loveen/.pyenv/versions/3.9.10/lib/python3.9/site-packages/pyarrow/fs.py\", line 355, in get_file_info_selector\n",
      "    selected_files = self.fs.find(\n",
      "  File \"/Users/loveen/.pyenv/versions/3.9.10/lib/python3.9/site-packages/ray/train/_internal/storage.py\", line 89, in find\n",
      "    return {\n",
      "  File \"/Users/loveen/.pyenv/versions/3.9.10/lib/python3.9/site-packages/ray/train/_internal/storage.py\", line 92, in <dictcomp>\n",
      "    if not self._should_exclude(path)\n",
      "  File \"/Users/loveen/.pyenv/versions/3.9.10/lib/python3.9/site-packages/ray/train/_internal/storage.py\", line 73, in _should_exclude\n",
      "    relative_path = path.relative_to(self._root_path).as_posix()\n",
      "  File \"/Users/loveen/.pyenv/versions/3.9.10/lib/python3.9/pathlib.py\", line 939, in relative_to\n",
      "    raise ValueError(\"{!r} is not in the subpath of {!r}\"\n",
      "ValueError: '/Users/loveen/ray_results/Multi-agent env/PPO' is not in the subpath of '~/ray_results/Multi-agent env/PPO' OR one path is relative and the other is absolute.\n",
      "\n",
      "\u001b[33m(raylet)\u001b[0m [2023-11-22 09:26:13,570 E 7249 83408] (raylet) file_system_monitor.cc:111: /tmp/ray/session_2023-11-22_09-15-26_163949_7229 is over 95% full, available space: 3832266752; capacity: 494384795648. Object creation will fail if spilling is required.\n",
      "\u001b[36m(PPO pid=7282)\u001b[0m Checkpoint successfully created at: Checkpoint(filesystem=local, path=/Users/loveen/ray_results/Multi-agent env/PPO/PPO_Multi-agent env_c2740_00000_0_2023-11-22_09-16-03/checkpoint_000008)\n",
      "\u001b[33m(raylet)\u001b[0m [2023-11-22 09:26:23,660 E 7249 83408] (raylet) file_system_monitor.cc:111: /tmp/ray/session_2023-11-22_09-15-26_163949_7229 is over 95% full, available space: 3828527104; capacity: 494384795648. Object creation will fail if spilling is required.\n"
     ]
    },
    {
     "name": "stdout",
     "output_type": "stream",
     "text": [
      "Step #58500.00 (0ms ?*RT. ?UPS, TraCI: 42ms, vehicles TOT 23310 ACT 25 BUF 0)             18 BUF 0)             \n",
      "Step #58500.00 (1ms ~= 1000.00*RT, ~28000.00UPS, TraCI: 40ms, vehicles TOT 23310 ACT 28 BU22 BUF 0)             \n",
      "Step #58500.00 (0ms ?*RT. ?UPS, TraCI: 42ms, vehicles TOT 23310 ACT 30 BUF 0)             18 BUF 0)             \n",
      "Step #58500.00 (0ms ?*RT. ?UPS, TraCI: 41ms, vehicles TOT 23310 ACT 25 BUF 0)             20 BUF 0)             \n"
     ]
    },
    {
     "name": "stderr",
     "output_type": "stream",
     "text": [
      "\u001b[33m(raylet)\u001b[0m [2023-11-22 09:26:33,753 E 7249 83408] (raylet) file_system_monitor.cc:111: /tmp/ray/session_2023-11-22_09-15-26_163949_7229 is over 95% full, available space: 3828264960; capacity: 494384795648. Object creation will fail if spilling is required.\n",
      "\u001b[33m(raylet)\u001b[0m [2023-11-22 09:26:43,847 E 7249 83408] (raylet) file_system_monitor.cc:111: /tmp/ray/session_2023-11-22_09-15-26_163949_7229 is over 95% full, available space: 3828224000; capacity: 494384795648. Object creation will fail if spilling is required.\n",
      "\u001b[33m(raylet)\u001b[0m [2023-11-22 09:26:53,941 E 7249 83408] (raylet) file_system_monitor.cc:111: /tmp/ray/session_2023-11-22_09-15-26_163949_7229 is over 95% full, available space: 3828080640; capacity: 494384795648. Object creation will fail if spilling is required.\n",
      "\u001b[33m(raylet)\u001b[0m [2023-11-22 09:27:04,035 E 7249 83408] (raylet) file_system_monitor.cc:111: /tmp/ray/session_2023-11-22_09-15-26_163949_7229 is over 95% full, available space: 3828031488; capacity: 494384795648. Object creation will fail if spilling is required.\n"
     ]
    },
    {
     "name": "stdout",
     "output_type": "stream",
     "text": [
      "Step #63000.00 (0ms ?*RT. ?UPS, TraCI: 44ms, vehicles TOT 25155 ACT 16 BUF 0)             3 BUF 0)             \n",
      "Step #63000.00 (0ms ?*RT. ?UPS, TraCI: 44ms, vehicles TOT 25155 ACT 16 BUF 0)             2 BUF 0)             \n",
      "Step #63000.00 (0ms ?*RT. ?UPS, TraCI: 45ms, vehicles TOT 25155 ACT 18 BUF 0)             1 BUF 0)             \n",
      "Step #63000.00 (0ms ?*RT. ?UPS, TraCI: 46ms, vehicles TOT 25155 ACT 15 BUF 0)             s TOT 23352 ACT 21 BU\n"
     ]
    },
    {
     "name": "stderr",
     "output_type": "stream",
     "text": [
      "\u001b[33m(raylet)\u001b[0m [2023-11-22 09:27:14,127 E 7249 83408] (raylet) file_system_monitor.cc:111: /tmp/ray/session_2023-11-22_09-15-26_163949_7229 is over 95% full, available space: 3827961856; capacity: 494384795648. Object creation will fail if spilling is required.\n",
      "\u001b[36m(PPO pid=7282)\u001b[0m Checkpoint successfully created at: Checkpoint(filesystem=local, path=/Users/loveen/ray_results/Multi-agent env/PPO/PPO_Multi-agent env_c2740_00000_0_2023-11-22_09-16-03/checkpoint_000009)\n",
      "\u001b[33m(raylet)\u001b[0m [2023-11-22 09:27:24,220 E 7249 83408] (raylet) file_system_monitor.cc:111: /tmp/ray/session_2023-11-22_09-15-26_163949_7229 is over 95% full, available space: 3822297088; capacity: 494384795648. Object creation will fail if spilling is required.\n",
      "\u001b[33m(raylet)\u001b[0m [2023-11-22 09:27:34,313 E 7249 83408] (raylet) file_system_monitor.cc:111: /tmp/ray/session_2023-11-22_09-15-26_163949_7229 is over 95% full, available space: 3822202880; capacity: 494384795648. Object creation will fail if spilling is required.\n",
      "\u001b[33m(raylet)\u001b[0m [2023-11-22 09:27:44,402 E 7249 83408] (raylet) file_system_monitor.cc:111: /tmp/ray/session_2023-11-22_09-15-26_163949_7229 is over 95% full, available space: 3822039040; capacity: 494384795648. Object creation will fail if spilling is required.\n",
      "\u001b[33m(raylet)\u001b[0m [2023-11-22 09:27:54,491 E 7249 83408] (raylet) file_system_monitor.cc:111: /tmp/ray/session_2023-11-22_09-15-26_163949_7229 is over 95% full, available space: 3821985792; capacity: 494384795648. Object creation will fail if spilling is required.\n"
     ]
    },
    {
     "name": "stdout",
     "output_type": "stream",
     "text": [
      "Step #67500.00 (0ms ?*RT. ?UPS, TraCI: 38ms, vehicles TOT 27029 ACT 25 BUF 0)              BUF 0)             \n",
      "Step #67500.00 (0ms ?*RT. ?UPS, TraCI: 39ms, vehicles TOT 27029 ACT 22 BUF 0)              BUF 0)             \n",
      "Step #67500.00 (1ms ~= 1000.00*RT, ~24000.00UPS, TraCI: 38ms, vehicles TOT 27029 ACT 24 BU BUF 0)             \n",
      "Step #67500.00 (1ms ~= 1000.00*RT, ~21000.00UPS, TraCI: 38ms, vehicles TOT 27029 ACT 21 BU BUF 0)             \n"
     ]
    },
    {
     "name": "stderr",
     "output_type": "stream",
     "text": [
      "\u001b[33m(raylet)\u001b[0m [2023-11-22 09:28:04,579 E 7249 83408] (raylet) file_system_monitor.cc:111: /tmp/ray/session_2023-11-22_09-15-26_163949_7229 is over 95% full, available space: 3821568000; capacity: 494384795648. Object creation will fail if spilling is required.\n",
      "\u001b[33m(raylet)\u001b[0m [2023-11-22 09:28:14,672 E 7249 83408] (raylet) file_system_monitor.cc:111: /tmp/ray/session_2023-11-22_09-15-26_163949_7229 is over 95% full, available space: 3821182976; capacity: 494384795648. Object creation will fail if spilling is required.\n",
      "\u001b[36m(PPO pid=7282)\u001b[0m Checkpoint successfully created at: Checkpoint(filesystem=local, path=/Users/loveen/ray_results/Multi-agent env/PPO/PPO_Multi-agent env_c2740_00000_0_2023-11-22_09-16-03/checkpoint_000010)\n",
      "\u001b[33m(raylet)\u001b[0m [2023-11-22 09:28:24,762 E 7249 83408] (raylet) file_system_monitor.cc:111: /tmp/ray/session_2023-11-22_09-15-26_163949_7229 is over 95% full, available space: 3813838848; capacity: 494384795648. Object creation will fail if spilling is required.\n",
      "\u001b[33m(raylet)\u001b[0m [2023-11-22 09:28:34,854 E 7249 83408] (raylet) file_system_monitor.cc:111: /tmp/ray/session_2023-11-22_09-15-26_163949_7229 is over 95% full, available space: 3810050048; capacity: 494384795648. Object creation will fail if spilling is required.\n"
     ]
    },
    {
     "name": "stdout",
     "output_type": "stream",
     "text": [
      "Step #72000.00 (0ms ?*RT. ?UPS, TraCI: 41ms, vehicles TOT 28780 ACT 19 BUF 0)             BUF 0)             \n",
      "Step #72000.00 (0ms ?*RT. ?UPS, TraCI: 40ms, vehicles TOT 28780 ACT 17 BUF 0)             TOT 27062 ACT 16 BU\n",
      "Step #72000.00 (0ms ?*RT. ?UPS, TraCI: 38ms, vehicles TOT 28780 ACT 17 BUF 0)             BUF 0)             \n",
      "Step #72000.00 (0ms ?*RT. ?UPS, TraCI: 41ms, vehicles TOT 28780 ACT 17 BUF 0)             BUF 0)             \n"
     ]
    },
    {
     "name": "stderr",
     "output_type": "stream",
     "text": [
      "\u001b[33m(raylet)\u001b[0m [2023-11-22 09:28:44,944 E 7249 83408] (raylet) file_system_monitor.cc:111: /tmp/ray/session_2023-11-22_09-15-26_163949_7229 is over 95% full, available space: 3807440896; capacity: 494384795648. Object creation will fail if spilling is required.\n",
      "\u001b[33m(raylet)\u001b[0m [2023-11-22 09:28:55,032 E 7249 83408] (raylet) file_system_monitor.cc:111: /tmp/ray/session_2023-11-22_09-15-26_163949_7229 is over 95% full, available space: 3805220864; capacity: 494384795648. Object creation will fail if spilling is required.\n",
      "\u001b[33m(raylet)\u001b[0m [2023-11-22 09:29:05,122 E 7249 83408] (raylet) file_system_monitor.cc:111: /tmp/ray/session_2023-11-22_09-15-26_163949_7229 is over 95% full, available space: 3817418752; capacity: 494384795648. Object creation will fail if spilling is required.\n",
      "\u001b[33m(raylet)\u001b[0m [2023-11-22 09:29:15,215 E 7249 83408] (raylet) file_system_monitor.cc:111: /tmp/ray/session_2023-11-22_09-15-26_163949_7229 is over 95% full, available space: 3838578688; capacity: 494384795648. Object creation will fail if spilling is required.\n"
     ]
    },
    {
     "name": "stdout",
     "output_type": "stream",
     "text": [
      "Step #76500.00 (0ms ~= 1000.00*RT, ~23000.00UPS, TraCI: 41ms, vehicles TOT 30517 ACT 23 BUUF 0)             \n",
      "Step #76500.00 (0ms ~= 1000.00*RT, ~22000.00UPS, TraCI: 41ms, vehicles TOT 30517 ACT 22 BUOT 28818 ACT 14 BU\n",
      "Step #76500.00 (0ms ?*RT. ?UPS, TraCI: 41ms, vehicles TOT 30517 ACT 22 BUF 0)             UF 0)             \n",
      "Step #76500.00 (0ms ?*RT. ?UPS, TraCI: 41ms, vehicles TOT 30517 ACT 25 BUF 0)             UF 0)             \n"
     ]
    },
    {
     "name": "stderr",
     "output_type": "stream",
     "text": [
      "\u001b[36m(PPO pid=7282)\u001b[0m Checkpoint successfully created at: Checkpoint(filesystem=local, path=/Users/loveen/ray_results/Multi-agent env/PPO/PPO_Multi-agent env_c2740_00000_0_2023-11-22_09-16-03/checkpoint_000011)\n",
      "\u001b[33m(raylet)\u001b[0m [2023-11-22 09:29:25,304 E 7249 83408] (raylet) file_system_monitor.cc:111: /tmp/ray/session_2023-11-22_09-15-26_163949_7229 is over 95% full, available space: 3832762368; capacity: 494384795648. Object creation will fail if spilling is required.\n",
      "\u001b[33m(raylet)\u001b[0m [2023-11-22 09:29:35,398 E 7249 83408] (raylet) file_system_monitor.cc:111: /tmp/ray/session_2023-11-22_09-15-26_163949_7229 is over 95% full, available space: 3832614912; capacity: 494384795648. Object creation will fail if spilling is required.\n",
      "\u001b[33m(raylet)\u001b[0m [2023-11-22 09:29:45,494 E 7249 83408] (raylet) file_system_monitor.cc:111: /tmp/ray/session_2023-11-22_09-15-26_163949_7229 is over 95% full, available space: 3831545856; capacity: 494384795648. Object creation will fail if spilling is required.\n"
     ]
    },
    {
     "name": "stdout",
     "output_type": "stream",
     "text": [
      "Step #80000.00 (0ms ?*RT. ?UPS, TraCI: 59ms, vehicles TOT 31916 ACT 19 BUF 0)             F 0)             \n",
      "Step #80000.00 (0ms ?*RT. ?UPS, TraCI: 63ms, vehicles TOT 31916 ACT 20 BUF 0)             F 0)             \n",
      "Step #80000.00 (0ms ?*RT. ?UPS, TraCI: 54ms, vehicles TOT 31916 ACT 20 BUF 0)             F 0)             \n",
      "Step #80000.00 (0ms ?*RT. ?UPS, TraCI: 61ms, vehicles TOT 31916 ACT 18 BUF 0)             F 0)             \n",
      "\u001b[36m(RolloutWorker pid=7290)\u001b[0m  Retrying in 1 seconds\n"
     ]
    },
    {
     "name": "stderr",
     "output_type": "stream",
     "text": [
      "\u001b[33m(raylet)\u001b[0m [2023-11-22 09:29:55,586 E 7249 83408] (raylet) file_system_monitor.cc:111: /tmp/ray/session_2023-11-22_09-15-26_163949_7229 is over 95% full, available space: 3828817920; capacity: 494384795648. Object creation will fail if spilling is required.\n",
      "\u001b[33m(raylet)\u001b[0m [2023-11-22 09:30:05,673 E 7249 83408] (raylet) file_system_monitor.cc:111: /tmp/ray/session_2023-11-22_09-15-26_163949_7229 is over 95% full, available space: 3828588544; capacity: 494384795648. Object creation will fail if spilling is required.\n",
      "\u001b[33m(raylet)\u001b[0m [2023-11-22 09:30:15,763 E 7249 83408] (raylet) file_system_monitor.cc:111: /tmp/ray/session_2023-11-22_09-15-26_163949_7229 is over 95% full, available space: 3828518912; capacity: 494384795648. Object creation will fail if spilling is required.\n",
      "\u001b[36m(PPO pid=7282)\u001b[0m Checkpoint successfully created at: Checkpoint(filesystem=local, path=/Users/loveen/ray_results/Multi-agent env/PPO/PPO_Multi-agent env_c2740_00000_0_2023-11-22_09-16-03/checkpoint_000012)\n",
      "\u001b[33m(raylet)\u001b[0m [2023-11-22 09:30:25,853 E 7249 83408] (raylet) file_system_monitor.cc:111: /tmp/ray/session_2023-11-22_09-15-26_163949_7229 is over 95% full, available space: 3822612480; capacity: 494384795648. Object creation will fail if spilling is required.\n"
     ]
    },
    {
     "name": "stdout",
     "output_type": "stream",
     "text": [
      "Step #4400.00 (0ms ?*RT. ?UPS, TraCI: 33ms, vehicles TOT 1809 ACT 16 BUF 0)               ACT 0 BUF 0)                      \n",
      "\u001b[36m(RolloutWorker pid=7289)\u001b[0m  Retrying in 1 seconds\u001b[32m [repeated 3x across cluster]\u001b[0m\n",
      "Step #4400.00 (0ms ?*RT. ?UPS, TraCI: 32ms, vehicles TOT 1809 ACT 15 BUF 0)               ACT 0 BUF 0)                      \n",
      "Step #4400.00 (0ms ?*RT. ?UPS, TraCI: 37ms, vehicles TOT 1809 ACT 14 BUF 0)               ACT 0 BUF 0)                      \n",
      "Step #4400.00 (0ms ?*RT. ?UPS, TraCI: 35ms, vehicles TOT 1809 ACT 13 BUF 0)               ACT 0 BUF 0)                      \n"
     ]
    },
    {
     "name": "stderr",
     "output_type": "stream",
     "text": [
      "\u001b[33m(raylet)\u001b[0m [2023-11-22 09:30:35,945 E 7249 83408] (raylet) file_system_monitor.cc:111: /tmp/ray/session_2023-11-22_09-15-26_163949_7229 is over 95% full, available space: 3822444544; capacity: 494384795648. Object creation will fail if spilling is required.\n",
      "\u001b[33m(raylet)\u001b[0m [2023-11-22 09:30:46,039 E 7249 83408] (raylet) file_system_monitor.cc:111: /tmp/ray/session_2023-11-22_09-15-26_163949_7229 is over 95% full, available space: 3822256128; capacity: 494384795648. Object creation will fail if spilling is required.\n",
      "\u001b[33m(raylet)\u001b[0m [2023-11-22 09:30:56,130 E 7249 83408] (raylet) file_system_monitor.cc:111: /tmp/ray/session_2023-11-22_09-15-26_163949_7229 is over 95% full, available space: 3822030848; capacity: 494384795648. Object creation will fail if spilling is required.\n",
      "\u001b[33m(raylet)\u001b[0m [2023-11-22 09:31:06,224 E 7249 83408] (raylet) file_system_monitor.cc:111: /tmp/ray/session_2023-11-22_09-15-26_163949_7229 is over 95% full, available space: 3822084096; capacity: 494384795648. Object creation will fail if spilling is required.\n",
      "2023-11-22 09:31:09,010\tWARNING syncer.py:405 -- Last sync command failed with the following error:\n",
      "Traceback (most recent call last):\n",
      "  File \"/Users/loveen/.pyenv/versions/3.9.10/lib/python3.9/site-packages/ray/train/_internal/syncer.py\", line 403, in _launch_sync_process\n",
      "    self.wait()\n",
      "  File \"/Users/loveen/.pyenv/versions/3.9.10/lib/python3.9/site-packages/ray/train/_internal/syncer.py\", line 473, in wait\n",
      "    raise e\n",
      "  File \"/Users/loveen/.pyenv/versions/3.9.10/lib/python3.9/site-packages/ray/train/_internal/syncer.py\", line 471, in wait\n",
      "    self._sync_process.wait(timeout=self.sync_timeout)\n",
      "  File \"/Users/loveen/.pyenv/versions/3.9.10/lib/python3.9/site-packages/ray/train/_internal/syncer.py\", line 173, in wait\n",
      "    raise exception\n",
      "  File \"/Users/loveen/.pyenv/versions/3.9.10/lib/python3.9/site-packages/ray/train/_internal/syncer.py\", line 136, in entrypoint\n",
      "    result = self._fn(*args, **kwargs)\n",
      "  File \"/Users/loveen/.pyenv/versions/3.9.10/lib/python3.9/site-packages/ray/train/_internal/storage.py\", line 216, in _upload_to_fs_path\n",
      "    _upload_to_uri_with_exclude_fsspec(\n",
      "  File \"/Users/loveen/.pyenv/versions/3.9.10/lib/python3.9/site-packages/ray/train/_internal/storage.py\", line 229, in _upload_to_uri_with_exclude_fsspec\n",
      "    _pyarrow_fs_copy_files(\n",
      "  File \"/Users/loveen/.pyenv/versions/3.9.10/lib/python3.9/site-packages/ray/train/_internal/storage.py\", line 110, in _pyarrow_fs_copy_files\n",
      "    return pyarrow.fs.copy_files(\n",
      "  File \"/Users/loveen/.pyenv/versions/3.9.10/lib/python3.9/site-packages/pyarrow/fs.py\", line 269, in copy_files\n",
      "    _copy_files_selector(source_fs, source_sel,\n",
      "  File \"pyarrow/_fs.pyx\", line 1627, in pyarrow._fs._copy_files_selector\n",
      "  File \"pyarrow/types.pxi\", line 88, in pyarrow.lib._datatype_to_pep3118\n",
      "  File \"pyarrow/_fs.pyx\", line 1519, in pyarrow._fs._cb_get_file_info_selector\n",
      "  File \"/Users/loveen/.pyenv/versions/3.9.10/lib/python3.9/site-packages/pyarrow/fs.py\", line 355, in get_file_info_selector\n",
      "    selected_files = self.fs.find(\n",
      "  File \"/Users/loveen/.pyenv/versions/3.9.10/lib/python3.9/site-packages/ray/train/_internal/storage.py\", line 89, in find\n",
      "    return {\n",
      "  File \"/Users/loveen/.pyenv/versions/3.9.10/lib/python3.9/site-packages/ray/train/_internal/storage.py\", line 92, in <dictcomp>\n",
      "    if not self._should_exclude(path)\n",
      "  File \"/Users/loveen/.pyenv/versions/3.9.10/lib/python3.9/site-packages/ray/train/_internal/storage.py\", line 73, in _should_exclude\n",
      "    relative_path = path.relative_to(self._root_path).as_posix()\n",
      "  File \"/Users/loveen/.pyenv/versions/3.9.10/lib/python3.9/pathlib.py\", line 939, in relative_to\n",
      "    raise ValueError(\"{!r} is not in the subpath of {!r}\"\n",
      "ValueError: '/Users/loveen/ray_results/Multi-agent env/PPO' is not in the subpath of '~/ray_results/Multi-agent env/PPO' OR one path is relative and the other is absolute.\n",
      "\n"
     ]
    },
    {
     "name": "stdout",
     "output_type": "stream",
     "text": [
      "Step #8900.00 (0ms ?*RT. ?UPS, TraCI: 38ms, vehicles TOT 3580 ACT 12 BUF 0)               1854 ACT 19 BUF 0)               \n",
      "Step #8900.00 (0ms ?*RT. ?UPS, TraCI: 29ms, vehicles TOT 3580 ACT 13 BUF 0)               1854 ACT 17 BUF 0)               \n",
      "Step #8900.00 (0ms ?*RT. ?UPS, TraCI: 30ms, vehicles TOT 3580 ACT 11 BUF 0)               ms, vehicles TOT 1854 ACT 17 BUF \n",
      "Step #8900.00 (0ms ?*RT. ?UPS, TraCI: 29ms, vehicles TOT 3580 ACT 10 BUF 0)               1854 ACT 16 BUF 0)               \n"
     ]
    },
    {
     "name": "stderr",
     "output_type": "stream",
     "text": [
      "\u001b[33m(raylet)\u001b[0m [2023-11-22 09:31:16,312 E 7249 83408] (raylet) file_system_monitor.cc:111: /tmp/ray/session_2023-11-22_09-15-26_163949_7229 is over 95% full, available space: 3822010368; capacity: 494384795648. Object creation will fail if spilling is required.\n",
      "\u001b[36m(PPO pid=7282)\u001b[0m Checkpoint successfully created at: Checkpoint(filesystem=local, path=/Users/loveen/ray_results/Multi-agent env/PPO/PPO_Multi-agent env_c2740_00000_0_2023-11-22_09-16-03/checkpoint_000013)\n",
      "\u001b[33m(raylet)\u001b[0m [2023-11-22 09:31:26,407 E 7249 83408] (raylet) file_system_monitor.cc:111: /tmp/ray/session_2023-11-22_09-15-26_163949_7229 is over 95% full, available space: 3816255488; capacity: 494384795648. Object creation will fail if spilling is required.\n",
      "\u001b[33m(raylet)\u001b[0m [2023-11-22 09:31:36,502 E 7249 83408] (raylet) file_system_monitor.cc:111: /tmp/ray/session_2023-11-22_09-15-26_163949_7229 is over 95% full, available space: 3816194048; capacity: 494384795648. Object creation will fail if spilling is required.\n",
      "\u001b[33m(raylet)\u001b[0m [2023-11-22 09:31:46,593 E 7249 83408] (raylet) file_system_monitor.cc:111: /tmp/ray/session_2023-11-22_09-15-26_163949_7229 is over 95% full, available space: 3815952384; capacity: 494384795648. Object creation will fail if spilling is required.\n"
     ]
    },
    {
     "name": "stdout",
     "output_type": "stream",
     "text": [
      "Step #13400.00 (0ms ?*RT. ?UPS, TraCI: 38ms, vehicles TOT 5351 ACT 18 BUF 0)              s, vehicles TOT 3625 ACT 24 BUF \n",
      "Step #13400.00 (1ms ~= 1000.00*RT, ~20000.00UPS, TraCI: 38ms, vehicles TOT 5351 ACT 20 BUF625 ACT 24 BUF 0)               \n",
      "Step #13400.00 (0ms ?*RT. ?UPS, TraCI: 37ms, vehicles TOT 5351 ACT 20 BUF 0)              625 ACT 26 BUF 0)               \n",
      "Step #13400.00 (0ms ?*RT. ?UPS, TraCI: 38ms, vehicles TOT 5351 ACT 17 BUF 0)              625 ACT 22 BUF 0)               \n"
     ]
    },
    {
     "name": "stderr",
     "output_type": "stream",
     "text": [
      "\u001b[33m(raylet)\u001b[0m [2023-11-22 09:31:56,685 E 7249 83408] (raylet) file_system_monitor.cc:111: /tmp/ray/session_2023-11-22_09-15-26_163949_7229 is over 95% full, available space: 3815665664; capacity: 494384795648. Object creation will fail if spilling is required.\n",
      "\u001b[33m(raylet)\u001b[0m [2023-11-22 09:32:06,783 E 7249 83408] (raylet) file_system_monitor.cc:111: /tmp/ray/session_2023-11-22_09-15-26_163949_7229 is over 95% full, available space: 3815620608; capacity: 494384795648. Object creation will fail if spilling is required.\n",
      "\u001b[33m(raylet)\u001b[0m [2023-11-22 09:32:16,870 E 7249 83408] (raylet) file_system_monitor.cc:111: /tmp/ray/session_2023-11-22_09-15-26_163949_7229 is over 95% full, available space: 3815587840; capacity: 494384795648. Object creation will fail if spilling is required.\n",
      "\u001b[36m(PPO pid=7282)\u001b[0m Checkpoint successfully created at: Checkpoint(filesystem=local, path=/Users/loveen/ray_results/Multi-agent env/PPO/PPO_Multi-agent env_c2740_00000_0_2023-11-22_09-16-03/checkpoint_000014)\n",
      "\u001b[33m(raylet)\u001b[0m [2023-11-22 09:32:26,967 E 7249 83408] (raylet) file_system_monitor.cc:111: /tmp/ray/session_2023-11-22_09-15-26_163949_7229 is over 95% full, available space: 3809763328; capacity: 494384795648. Object creation will fail if spilling is required.\n"
     ]
    },
    {
     "name": "stdout",
     "output_type": "stream",
     "text": [
      "Step #17900.00 (0ms ?*RT. ?UPS, TraCI: 39ms, vehicles TOT 7130 ACT 22 BUF 0)              391 ACT 20 BUF 0)              \n",
      "Step #17900.00 (0ms ?*RT. ?UPS, TraCI: 40ms, vehicles TOT 7130 ACT 22 BUF 0)              391 ACT 20 BUF 0)              \n",
      "Step #17900.00 (0ms ?*RT. ?UPS, TraCI: 40ms, vehicles TOT 7130 ACT 21 BUF 0)              s, vehicles TOT 5391 ACT 19 BUF\n",
      "Step #17900.00 (0ms ?*RT. ?UPS, TraCI: 40ms, vehicles TOT 7130 ACT 19 BUF 0)              391 ACT 21 BUF 0)              \n"
     ]
    },
    {
     "name": "stderr",
     "output_type": "stream",
     "text": [
      "\u001b[33m(raylet)\u001b[0m [2023-11-22 09:32:37,057 E 7249 83408] (raylet) file_system_monitor.cc:111: /tmp/ray/session_2023-11-22_09-15-26_163949_7229 is over 95% full, available space: 3809632256; capacity: 494384795648. Object creation will fail if spilling is required.\n",
      "\u001b[33m(raylet)\u001b[0m [2023-11-22 09:32:47,148 E 7249 83408] (raylet) file_system_monitor.cc:111: /tmp/ray/session_2023-11-22_09-15-26_163949_7229 is over 95% full, available space: 3809599488; capacity: 494384795648. Object creation will fail if spilling is required.\n",
      "\u001b[33m(raylet)\u001b[0m [2023-11-22 09:32:57,234 E 7249 83408] (raylet) file_system_monitor.cc:111: /tmp/ray/session_2023-11-22_09-15-26_163949_7229 is over 95% full, available space: 3809542144; capacity: 494384795648. Object creation will fail if spilling is required.\n",
      "\u001b[33m(raylet)\u001b[0m [2023-11-22 09:33:07,325 E 7249 83408] (raylet) file_system_monitor.cc:111: /tmp/ray/session_2023-11-22_09-15-26_163949_7229 is over 95% full, available space: 3809488896; capacity: 494384795648. Object creation will fail if spilling is required.\n",
      "\u001b[36m(PPO pid=7282)\u001b[0m Checkpoint successfully created at: Checkpoint(filesystem=local, path=/Users/loveen/ray_results/Multi-agent env/PPO/PPO_Multi-agent env_c2740_00000_0_2023-11-22_09-16-03/checkpoint_000015)\n"
     ]
    },
    {
     "name": "stdout",
     "output_type": "stream",
     "text": [
      "Step #22400.00 (1ms ~= 1000.00*RT, ~17000.00UPS, TraCI: 60ms, vehicles TOT 8930 ACT 17 BUF74 ACT 23 BUF 0)              \n",
      "Step #22400.00 (0ms ?*RT. ?UPS, TraCI: 63ms, vehicles TOT 8930 ACT 21 BUF 0)              , vehicles TOT 7174 ACT 19 BUF\n",
      "Step #22400.00 (1ms ~= 1000.00*RT, ~18000.00UPS, TraCI: 58ms, vehicles TOT 8930 ACT 18 BUF74 ACT 21 BUF 0)              \n",
      "Step #22400.00 (0ms ?*RT. ?UPS, TraCI: 63ms, vehicles TOT 8930 ACT 21 BUF 0)              74 ACT 20 BUF 0)              \n"
     ]
    },
    {
     "name": "stderr",
     "output_type": "stream",
     "text": [
      "\u001b[33m(raylet)\u001b[0m [2023-11-22 09:33:17,414 E 7249 83408] (raylet) file_system_monitor.cc:111: /tmp/ray/session_2023-11-22_09-15-26_163949_7229 is over 95% full, available space: 3803807744; capacity: 494384795648. Object creation will fail if spilling is required.\n",
      "\u001b[33m(raylet)\u001b[0m [2023-11-22 09:33:27,501 E 7249 83408] (raylet) file_system_monitor.cc:111: /tmp/ray/session_2023-11-22_09-15-26_163949_7229 is over 95% full, available space: 3803639808; capacity: 494384795648. Object creation will fail if spilling is required.\n",
      "\u001b[33m(raylet)\u001b[0m [2023-11-22 09:33:37,588 E 7249 83408] (raylet) file_system_monitor.cc:111: /tmp/ray/session_2023-11-22_09-15-26_163949_7229 is over 95% full, available space: 3803463680; capacity: 494384795648. Object creation will fail if spilling is required.\n",
      "\u001b[33m(raylet)\u001b[0m [2023-11-22 09:33:47,680 E 7249 83408] (raylet) file_system_monitor.cc:111: /tmp/ray/session_2023-11-22_09-15-26_163949_7229 is over 95% full, available space: 3803422720; capacity: 494384795648. Object creation will fail if spilling is required.\n"
     ]
    },
    {
     "name": "stdout",
     "output_type": "stream",
     "text": [
      "Step #26900.00 (0ms ?*RT. ?UPS, TraCI: 40ms, vehicles TOT 10702 ACT 20 BUF 0)             2 ACT 13 BUF 0)              \n",
      "Step #26900.00 (0ms ?*RT. ?UPS, TraCI: 40ms, vehicles TOT 10702 ACT 19 BUF 0)             2 ACT 14 BUF 0)              \n",
      "Step #26900.00 (0ms ?*RT. ?UPS, TraCI: 39ms, vehicles TOT 10702 ACT 20 BUF 0)             2 ACT 17 BUF 0)              \n",
      "Step #26900.00 (0ms ?*RT. ?UPS, TraCI: 39ms, vehicles TOT 10702 ACT 17 BUF 0)             2 ACT 12 BUF 0)              \n"
     ]
    },
    {
     "name": "stderr",
     "output_type": "stream",
     "text": [
      "\u001b[33m(raylet)\u001b[0m [2023-11-22 09:33:57,723 E 7249 83408] (raylet) file_system_monitor.cc:111: /tmp/ray/session_2023-11-22_09-15-26_163949_7229 is over 95% full, available space: 3802427392; capacity: 494384795648. Object creation will fail if spilling is required.\n",
      "\u001b[33m(raylet)\u001b[0m [2023-11-22 09:34:07,773 E 7249 83408] (raylet) file_system_monitor.cc:111: /tmp/ray/session_2023-11-22_09-15-26_163949_7229 is over 95% full, available space: 3802386432; capacity: 494384795648. Object creation will fail if spilling is required.\n",
      "\u001b[36m(PPO pid=7282)\u001b[0m Checkpoint successfully created at: Checkpoint(filesystem=local, path=/Users/loveen/ray_results/Multi-agent env/PPO/PPO_Multi-agent env_c2740_00000_0_2023-11-22_09-16-03/checkpoint_000016)\n",
      "\u001b[33m(raylet)\u001b[0m [2023-11-22 09:34:17,820 E 7249 83408] (raylet) file_system_monitor.cc:111: /tmp/ray/session_2023-11-22_09-15-26_163949_7229 is over 95% full, available space: 3796762624; capacity: 494384795648. Object creation will fail if spilling is required.\n",
      "\u001b[33m(raylet)\u001b[0m [2023-11-22 09:34:27,878 E 7249 83408] (raylet) file_system_monitor.cc:111: /tmp/ray/session_2023-11-22_09-15-26_163949_7229 is over 95% full, available space: 3796561920; capacity: 494384795648. Object creation will fail if spilling is required.\n"
     ]
    },
    {
     "name": "stdout",
     "output_type": "stream",
     "text": [
      "Step #31400.00 (1ms ~= 1000.00*RT, ~19000.00UPS, TraCI: 37ms, vehicles TOT 12484 ACT 19 BUvehicles TOT 10747 ACT 26 BU\n",
      "Step #31400.00 (0ms ?*RT. ?UPS, TraCI: 37ms, vehicles TOT 12484 ACT 20 BUF 0)             7 ACT 25 BUF 0)             \n",
      "Step #31400.00 (0ms ?*RT. ?UPS, TraCI: 37ms, vehicles TOT 12484 ACT 18 BUF 0)             7 ACT 29 BUF 0)             \n",
      "Step #31400.00 (0ms ?*RT. ?UPS, TraCI: 37ms, vehicles TOT 12484 ACT 18 BUF 0)             vehicles TOT 10747 ACT 26 BU\n"
     ]
    },
    {
     "name": "stderr",
     "output_type": "stream",
     "text": [
      "\u001b[33m(raylet)\u001b[0m [2023-11-22 09:34:37,932 E 7249 83408] (raylet) file_system_monitor.cc:111: /tmp/ray/session_2023-11-22_09-15-26_163949_7229 is over 95% full, available space: 3796463616; capacity: 494384795648. Object creation will fail if spilling is required.\n",
      "\u001b[33m(raylet)\u001b[0m [2023-11-22 09:34:47,986 E 7249 83408] (raylet) file_system_monitor.cc:111: /tmp/ray/session_2023-11-22_09-15-26_163949_7229 is over 95% full, available space: 3796365312; capacity: 494384795648. Object creation will fail if spilling is required.\n",
      "\u001b[33m(raylet)\u001b[0m [2023-11-22 09:34:58,036 E 7249 83408] (raylet) file_system_monitor.cc:111: /tmp/ray/session_2023-11-22_09-15-26_163949_7229 is over 95% full, available space: 3795746816; capacity: 494384795648. Object creation will fail if spilling is required.\n",
      "\u001b[36m(PPO pid=7282)\u001b[0m Checkpoint successfully created at: Checkpoint(filesystem=local, path=/Users/loveen/ray_results/Multi-agent env/PPO/PPO_Multi-agent env_c2740_00000_0_2023-11-22_09-16-03/checkpoint_000017)\n",
      "\u001b[33m(raylet)\u001b[0m [2023-11-22 09:35:08,100 E 7249 83408] (raylet) file_system_monitor.cc:111: /tmp/ray/session_2023-11-22_09-15-26_163949_7229 is over 95% full, available space: 3790143488; capacity: 494384795648. Object creation will fail if spilling is required.\n"
     ]
    },
    {
     "name": "stdout",
     "output_type": "stream",
     "text": [
      "Step #36900.00 (0ms ?*RT. ?UPS, TraCI: 38ms, vehicles TOT 14324 ACT 19 BUF 0)             ehicles TOT 12528 ACT 24 BU\n",
      "Step #36900.00 (0ms ?*RT. ?UPS, TraCI: 38ms, vehicles TOT 14324 ACT 19 BUF 0)              ACT 23 BUF 0)             \n",
      "Step #36900.00 (0ms ?*RT. ?UPS, TraCI: 38ms, vehicles TOT 14324 ACT 21 BUF 0)              ACT 24 BUF 0)             \n",
      "Step #36900.00 (0ms ?*RT. ?UPS, TraCI: 38ms, vehicles TOT 14324 ACT 20 BUF 0)             ehicles TOT 12528 ACT 23 BU\n"
     ]
    },
    {
     "name": "stderr",
     "output_type": "stream",
     "text": [
      "\u001b[33m(raylet)\u001b[0m [2023-11-22 09:35:18,149 E 7249 83408] (raylet) file_system_monitor.cc:111: /tmp/ray/session_2023-11-22_09-15-26_163949_7229 is over 95% full, available space: 3789844480; capacity: 494384795648. Object creation will fail if spilling is required.\n",
      "\u001b[33m(raylet)\u001b[0m [2023-11-22 09:35:28,215 E 7249 83408] (raylet) file_system_monitor.cc:111: /tmp/ray/session_2023-11-22_09-15-26_163949_7229 is over 95% full, available space: 3789221888; capacity: 494384795648. Object creation will fail if spilling is required.\n",
      "\u001b[33m(raylet)\u001b[0m [2023-11-22 09:35:38,265 E 7249 83408] (raylet) file_system_monitor.cc:111: /tmp/ray/session_2023-11-22_09-15-26_163949_7229 is over 95% full, available space: 3789135872; capacity: 494384795648. Object creation will fail if spilling is required.\n",
      "\u001b[33m(raylet)\u001b[0m [2023-11-22 09:35:48,302 E 7249 83408] (raylet) file_system_monitor.cc:111: /tmp/ray/session_2023-11-22_09-15-26_163949_7229 is over 95% full, available space: 3788959744; capacity: 494384795648. Object creation will fail if spilling is required.\n"
     ]
    },
    {
     "name": "stdout",
     "output_type": "stream",
     "text": [
      "Step #40500.00 (0ms ?*RT. ?UPS, TraCI: 32ms, vehicles TOT 16076 ACT 22 BUF 0)             ACT 24 BUF 0)             \n",
      "Step #40500.00 (1ms ~= 1000.00*RT, ~23000.00UPS, TraCI: 32ms, vehicles TOT 16076 ACT 23 BUhicles TOT 14368 ACT 23 BU\n",
      "Step #40500.00 (0ms ?*RT. ?UPS, TraCI: 33ms, vehicles TOT 16076 ACT 24 BUF 0)             ACT 22 BUF 0)             \n",
      "Step #40500.00 (0ms ?*RT. ?UPS, TraCI: 33ms, vehicles TOT 16076 ACT 23 BUF 0)             ACT 22 BUF 0)             \n"
     ]
    },
    {
     "name": "stderr",
     "output_type": "stream",
     "text": [
      "\u001b[33m(raylet)\u001b[0m [2023-11-22 09:35:58,353 E 7249 83408] (raylet) file_system_monitor.cc:111: /tmp/ray/session_2023-11-22_09-15-26_163949_7229 is over 95% full, available space: 3788705792; capacity: 494384795648. Object creation will fail if spilling is required.\n",
      "\u001b[36m(PPO pid=7282)\u001b[0m Checkpoint successfully created at: Checkpoint(filesystem=local, path=/Users/loveen/ray_results/Multi-agent env/PPO/PPO_Multi-agent env_c2740_00000_0_2023-11-22_09-16-03/checkpoint_000018)\n",
      "\u001b[33m(raylet)\u001b[0m [2023-11-22 09:36:08,401 E 7249 83408] (raylet) file_system_monitor.cc:111: /tmp/ray/session_2023-11-22_09-15-26_163949_7229 is over 95% full, available space: 3782811648; capacity: 494384795648. Object creation will fail if spilling is required.\n",
      "2023-11-22 09:36:10,863\tWARNING syncer.py:405 -- Last sync command failed with the following error:\n",
      "Traceback (most recent call last):\n",
      "  File \"/Users/loveen/.pyenv/versions/3.9.10/lib/python3.9/site-packages/ray/train/_internal/syncer.py\", line 403, in _launch_sync_process\n",
      "    self.wait()\n",
      "  File \"/Users/loveen/.pyenv/versions/3.9.10/lib/python3.9/site-packages/ray/train/_internal/syncer.py\", line 473, in wait\n",
      "    raise e\n",
      "  File \"/Users/loveen/.pyenv/versions/3.9.10/lib/python3.9/site-packages/ray/train/_internal/syncer.py\", line 471, in wait\n",
      "    self._sync_process.wait(timeout=self.sync_timeout)\n",
      "  File \"/Users/loveen/.pyenv/versions/3.9.10/lib/python3.9/site-packages/ray/train/_internal/syncer.py\", line 173, in wait\n",
      "    raise exception\n",
      "  File \"/Users/loveen/.pyenv/versions/3.9.10/lib/python3.9/site-packages/ray/train/_internal/syncer.py\", line 136, in entrypoint\n",
      "    result = self._fn(*args, **kwargs)\n",
      "  File \"/Users/loveen/.pyenv/versions/3.9.10/lib/python3.9/site-packages/ray/train/_internal/storage.py\", line 216, in _upload_to_fs_path\n",
      "    _upload_to_uri_with_exclude_fsspec(\n",
      "  File \"/Users/loveen/.pyenv/versions/3.9.10/lib/python3.9/site-packages/ray/train/_internal/storage.py\", line 229, in _upload_to_uri_with_exclude_fsspec\n",
      "    _pyarrow_fs_copy_files(\n",
      "  File \"/Users/loveen/.pyenv/versions/3.9.10/lib/python3.9/site-packages/ray/train/_internal/storage.py\", line 110, in _pyarrow_fs_copy_files\n",
      "    return pyarrow.fs.copy_files(\n",
      "  File \"/Users/loveen/.pyenv/versions/3.9.10/lib/python3.9/site-packages/pyarrow/fs.py\", line 269, in copy_files\n",
      "    _copy_files_selector(source_fs, source_sel,\n",
      "  File \"pyarrow/_fs.pyx\", line 1627, in pyarrow._fs._copy_files_selector\n",
      "  File \"pyarrow/types.pxi\", line 88, in pyarrow.lib._datatype_to_pep3118\n",
      "  File \"pyarrow/_fs.pyx\", line 1519, in pyarrow._fs._cb_get_file_info_selector\n",
      "  File \"/Users/loveen/.pyenv/versions/3.9.10/lib/python3.9/site-packages/pyarrow/fs.py\", line 355, in get_file_info_selector\n",
      "    selected_files = self.fs.find(\n",
      "  File \"/Users/loveen/.pyenv/versions/3.9.10/lib/python3.9/site-packages/ray/train/_internal/storage.py\", line 89, in find\n",
      "    return {\n",
      "  File \"/Users/loveen/.pyenv/versions/3.9.10/lib/python3.9/site-packages/ray/train/_internal/storage.py\", line 92, in <dictcomp>\n",
      "    if not self._should_exclude(path)\n",
      "  File \"/Users/loveen/.pyenv/versions/3.9.10/lib/python3.9/site-packages/ray/train/_internal/storage.py\", line 73, in _should_exclude\n",
      "    relative_path = path.relative_to(self._root_path).as_posix()\n",
      "  File \"/Users/loveen/.pyenv/versions/3.9.10/lib/python3.9/pathlib.py\", line 939, in relative_to\n",
      "    raise ValueError(\"{!r} is not in the subpath of {!r}\"\n",
      "ValueError: '/Users/loveen/ray_results/Multi-agent env/PPO' is not in the subpath of '~/ray_results/Multi-agent env/PPO' OR one path is relative and the other is absolute.\n",
      "\n",
      "\u001b[33m(raylet)\u001b[0m [2023-11-22 09:36:18,458 E 7249 83408] (raylet) file_system_monitor.cc:111: /tmp/ray/session_2023-11-22_09-15-26_163949_7229 is over 95% full, available space: 3782606848; capacity: 494384795648. Object creation will fail if spilling is required.\n",
      "\u001b[33m(raylet)\u001b[0m [2023-11-22 09:36:28,496 E 7249 83408] (raylet) file_system_monitor.cc:111: /tmp/ray/session_2023-11-22_09-15-26_163949_7229 is over 95% full, available space: 3782373376; capacity: 494384795648. Object creation will fail if spilling is required.\n"
     ]
    },
    {
     "name": "stdout",
     "output_type": "stream",
     "text": [
      "Step #45000.00 (0ms ?*RT. ?UPS, TraCI: 31ms, vehicles TOT 17867 ACT 12 BUF 0)             CT 10 BUF 0)             \n",
      "Step #45000.00 (0ms ?*RT. ?UPS, TraCI: 31ms, vehicles TOT 17867 ACT 14 BUF 0)             CT 10 BUF 0)             \n",
      "Step #45000.00 (0ms ?*RT. ?UPS, TraCI: 30ms, vehicles TOT 17867 ACT 12 BUF 0)             CT 12 BUF 0)             \n",
      "Step #45000.00 (0ms ?*RT. ?UPS, TraCI: 30ms, vehicles TOT 17867 ACT 17 BUF 0)             CT 11 BUF 0)             \n"
     ]
    },
    {
     "name": "stderr",
     "output_type": "stream",
     "text": [
      "2023-11-22 09:36:32,927\tWARNING experiment_state.py:267 -- The previous sync of the experiment directory to the cloud failed with the error: '/Users/loveen/ray_results/Multi-agent env/PPO' is not in the subpath of '~/ray_results/Multi-agent env/PPO' OR one path is relative and the other is absolute.\n",
      "Syncing will be retried.\n",
      "2023-11-22 09:36:32,932\tWARNING tune.py:1022 -- Trial Runner checkpointing failed: Uploading the experiment directory from the driver (local path: ~/ray_results/Multi-agent env/PPO) to the the cloud (remote path: /Users/loveen/ray_results/Multi-agent env/PPO) failed. Please check the error message above.\n",
      "2023-11-22 09:36:33,183\tINFO tune.py:1047 -- Total run time: 1230.02 seconds (1229.44 seconds for the tuning loop).\n"
     ]
    },
    {
     "name": "stdout",
     "output_type": "stream",
     "text": [
      "Step #45445.00 (0ms ?*RT. ?UPS, TraCI: 1051ms, vehicles TOT 18099 ACT 21 BUF 0)           T 39 BUF 0)             \n",
      "Step #45445.00 (1ms ~= 1000.00*RT, ~21000.00UPS, TraCI: 1052ms, vehicles TOT 18099 ACT 21 T 39 BUF 0)             \n"
     ]
    },
    {
     "ename": "ValueError",
     "evalue": "No experiment checkpoint file of form 'experiment_state-*.json' was found at: (local, /Users/loveen/ray_results/Multi-agent env/PPO)\nPlease check if you specified the correct experiment path, which should be a combination of the `storage_path` and `name` specified in your run.",
     "output_type": "error",
     "traceback": [
      "\u001b[0;31m---------------------------------------------------------------------------\u001b[0m",
      "\u001b[0;31mValueError\u001b[0m                                Traceback (most recent call last)",
      "\u001b[1;32m/Users/loveen/Desktop/Masters project/rl-multi-agent-traffic-nonexhaust-emissions/ppo_2x2.ipynb Cell 11\u001b[0m line \u001b[0;36m2\n\u001b[1;32m      <a href='vscode-notebook-cell:/Users/loveen/Desktop/Masters%20project/rl-multi-agent-traffic-nonexhaust-emissions/ppo_2x2.ipynb#X11sZmlsZQ%3D%3D?line=0'>1</a>\u001b[0m \u001b[39mfrom\u001b[39;00m \u001b[39mray\u001b[39;00m \u001b[39mimport\u001b[39;00m tune\n\u001b[0;32m----> <a href='vscode-notebook-cell:/Users/loveen/Desktop/Masters%20project/rl-multi-agent-traffic-nonexhaust-emissions/ppo_2x2.ipynb#X11sZmlsZQ%3D%3D?line=1'>2</a>\u001b[0m tune\u001b[39m.\u001b[39;49mrun(\n\u001b[1;32m      <a href='vscode-notebook-cell:/Users/loveen/Desktop/Masters%20project/rl-multi-agent-traffic-nonexhaust-emissions/ppo_2x2.ipynb#X11sZmlsZQ%3D%3D?line=2'>3</a>\u001b[0m     \u001b[39m\"\u001b[39;49m\u001b[39mPPO\u001b[39;49m\u001b[39m\"\u001b[39;49m,\n\u001b[1;32m      <a href='vscode-notebook-cell:/Users/loveen/Desktop/Masters%20project/rl-multi-agent-traffic-nonexhaust-emissions/ppo_2x2.ipynb#X11sZmlsZQ%3D%3D?line=3'>4</a>\u001b[0m     name\u001b[39m=\u001b[39;49m\u001b[39m\"\u001b[39;49m\u001b[39mPPO\u001b[39;49m\u001b[39m\"\u001b[39;49m,\n\u001b[1;32m      <a href='vscode-notebook-cell:/Users/loveen/Desktop/Masters%20project/rl-multi-agent-traffic-nonexhaust-emissions/ppo_2x2.ipynb#X11sZmlsZQ%3D%3D?line=4'>5</a>\u001b[0m     stop\u001b[39m=\u001b[39;49m{\u001b[39m\"\u001b[39;49m\u001b[39mtimesteps_total\u001b[39;49m\u001b[39m\"\u001b[39;49m: \u001b[39m100000\u001b[39;49m},\n\u001b[1;32m      <a href='vscode-notebook-cell:/Users/loveen/Desktop/Masters%20project/rl-multi-agent-traffic-nonexhaust-emissions/ppo_2x2.ipynb#X11sZmlsZQ%3D%3D?line=5'>6</a>\u001b[0m     checkpoint_freq\u001b[39m=\u001b[39;49m\u001b[39m10\u001b[39;49m,\n\u001b[1;32m      <a href='vscode-notebook-cell:/Users/loveen/Desktop/Masters%20project/rl-multi-agent-traffic-nonexhaust-emissions/ppo_2x2.ipynb#X11sZmlsZQ%3D%3D?line=6'>7</a>\u001b[0m     local_dir\u001b[39m=\u001b[39;49m\u001b[39m\"\u001b[39;49m\u001b[39m~/ray_results/\u001b[39;49m\u001b[39m\"\u001b[39;49m \u001b[39m+\u001b[39;49m env_name,\n\u001b[1;32m      <a href='vscode-notebook-cell:/Users/loveen/Desktop/Masters%20project/rl-multi-agent-traffic-nonexhaust-emissions/ppo_2x2.ipynb#X11sZmlsZQ%3D%3D?line=7'>8</a>\u001b[0m     config\u001b[39m=\u001b[39;49mconfig\u001b[39m.\u001b[39;49mto_dict(),\n\u001b[1;32m      <a href='vscode-notebook-cell:/Users/loveen/Desktop/Masters%20project/rl-multi-agent-traffic-nonexhaust-emissions/ppo_2x2.ipynb#X11sZmlsZQ%3D%3D?line=8'>9</a>\u001b[0m )\n",
      "File \u001b[0;32m~/.pyenv/versions/3.9.10/lib/python3.9/site-packages/ray/tune/tune.py:1067\u001b[0m, in \u001b[0;36mrun\u001b[0;34m(run_or_experiment, name, metric, mode, stop, time_budget_s, config, resources_per_trial, num_samples, storage_path, storage_filesystem, search_alg, scheduler, checkpoint_config, verbose, progress_reporter, log_to_file, trial_name_creator, trial_dirname_creator, sync_config, export_formats, max_failures, fail_fast, restore, server_port, resume, reuse_actors, raise_on_failed_trial, callbacks, max_concurrent_trials, keep_checkpoints_num, checkpoint_score_attr, checkpoint_freq, checkpoint_at_end, chdir_to_trial_dir, local_dir, _experiment_checkpoint_dir, _remote, _remote_string_queue, _entrypoint)\u001b[0m\n\u001b[1;32m   1061\u001b[0m     \u001b[39melse\u001b[39;00m:\n\u001b[1;32m   1062\u001b[0m         logger\u001b[39m.\u001b[39mwarning(\n\u001b[1;32m   1063\u001b[0m             \u001b[39mf\u001b[39m\u001b[39m\"\u001b[39m\u001b[39mExperiment has been interrupted, but the most recent state was \u001b[39m\u001b[39m\"\u001b[39m\n\u001b[1;32m   1064\u001b[0m             \u001b[39mf\u001b[39m\u001b[39m\"\u001b[39m\u001b[39msaved.\u001b[39m\u001b[39m\\n\u001b[39;00m\u001b[39mResume experiment with: \u001b[39m\u001b[39m{\u001b[39;00mrestore_entrypoint\u001b[39m}\u001b[39;00m\u001b[39m\"\u001b[39m\n\u001b[1;32m   1065\u001b[0m         )\n\u001b[0;32m-> 1067\u001b[0m \u001b[39mreturn\u001b[39;00m ExperimentAnalysis(\n\u001b[1;32m   1068\u001b[0m     experiment_checkpoint_path\u001b[39m=\u001b[39;49mrunner\u001b[39m.\u001b[39;49mexperiment_path,\n\u001b[1;32m   1069\u001b[0m     default_metric\u001b[39m=\u001b[39;49mmetric,\n\u001b[1;32m   1070\u001b[0m     default_mode\u001b[39m=\u001b[39;49mmode,\n\u001b[1;32m   1071\u001b[0m     trials\u001b[39m=\u001b[39;49mall_trials,\n\u001b[1;32m   1072\u001b[0m     storage_filesystem\u001b[39m=\u001b[39;49mexperiments[\u001b[39m0\u001b[39;49m]\u001b[39m.\u001b[39;49mstorage\u001b[39m.\u001b[39;49mstorage_filesystem,\n\u001b[1;32m   1073\u001b[0m )\n",
      "File \u001b[0;32m~/.pyenv/versions/3.9.10/lib/python3.9/site-packages/ray/tune/analysis/experiment_analysis.py:105\u001b[0m, in \u001b[0;36mExperimentAnalysis.__init__\u001b[0;34m(self, experiment_checkpoint_path, storage_filesystem, trials, default_metric, default_mode)\u001b[0m\n\u001b[1;32m    103\u001b[0m     \u001b[39mif\u001b[39;00m experiment_json_filename \u001b[39mis\u001b[39;00m \u001b[39mNone\u001b[39;00m:\n\u001b[1;32m    104\u001b[0m         pattern \u001b[39m=\u001b[39m TuneController\u001b[39m.\u001b[39mCKPT_FILE_TMPL\u001b[39m.\u001b[39mformat(\u001b[39m\"\u001b[39m\u001b[39m*\u001b[39m\u001b[39m\"\u001b[39m)\n\u001b[0;32m--> 105\u001b[0m         \u001b[39mraise\u001b[39;00m \u001b[39mValueError\u001b[39;00m(\n\u001b[1;32m    106\u001b[0m             \u001b[39mf\u001b[39m\u001b[39m\"\u001b[39m\u001b[39mNo experiment checkpoint file of form \u001b[39m\u001b[39m'\u001b[39m\u001b[39m{\u001b[39;00mpattern\u001b[39m}\u001b[39;00m\u001b[39m'\u001b[39m\u001b[39m was found at: \u001b[39m\u001b[39m\"\u001b[39m\n\u001b[1;32m    107\u001b[0m             \u001b[39mf\u001b[39m\u001b[39m\"\u001b[39m\u001b[39m(\u001b[39m\u001b[39m{\u001b[39;00m\u001b[39mself\u001b[39m\u001b[39m.\u001b[39m_fs\u001b[39m.\u001b[39mtype_name\u001b[39m}\u001b[39;00m\u001b[39m, \u001b[39m\u001b[39m{\u001b[39;00m\u001b[39mself\u001b[39m\u001b[39m.\u001b[39m_experiment_fs_path\u001b[39m}\u001b[39;00m\u001b[39m)\u001b[39m\u001b[39m\\n\u001b[39;00m\u001b[39m\"\u001b[39m\n\u001b[1;32m    108\u001b[0m             \u001b[39m\"\u001b[39m\u001b[39mPlease check if you specified the correct experiment path, \u001b[39m\u001b[39m\"\u001b[39m\n\u001b[1;32m    109\u001b[0m             \u001b[39m\"\u001b[39m\u001b[39mwhich should be a combination of the `storage_path` and `name` \u001b[39m\u001b[39m\"\u001b[39m\n\u001b[1;32m    110\u001b[0m             \u001b[39m\"\u001b[39m\u001b[39mspecified in your run.\u001b[39m\u001b[39m\"\u001b[39m\n\u001b[1;32m    111\u001b[0m         )\n\u001b[1;32m    113\u001b[0m     \u001b[39mself\u001b[39m\u001b[39m.\u001b[39m_experiment_json_fs_path \u001b[39m=\u001b[39m os\u001b[39m.\u001b[39mpath\u001b[39m.\u001b[39mjoin(\n\u001b[1;32m    114\u001b[0m         \u001b[39mself\u001b[39m\u001b[39m.\u001b[39m_experiment_fs_path, experiment_json_filename\n\u001b[1;32m    115\u001b[0m     )\n\u001b[1;32m    117\u001b[0m \u001b[39mself\u001b[39m\u001b[39m.\u001b[39mtrials \u001b[39m=\u001b[39m trials \u001b[39mor\u001b[39;00m \u001b[39mself\u001b[39m\u001b[39m.\u001b[39m_load_trials()\n",
      "\u001b[0;31mValueError\u001b[0m: No experiment checkpoint file of form 'experiment_state-*.json' was found at: (local, /Users/loveen/ray_results/Multi-agent env/PPO)\nPlease check if you specified the correct experiment path, which should be a combination of the `storage_path` and `name` specified in your run."
     ]
    },
    {
     "name": "stderr",
     "output_type": "stream",
     "text": [
      "\u001b[33m(raylet)\u001b[0m [2023-11-22 09:36:38,558 E 7249 83408] (raylet) file_system_monitor.cc:111: /tmp/ray/session_2023-11-22_09-15-26_163949_7229 is over 95% full, available space: 3781615616; capacity: 494384795648. Object creation will fail if spilling is required.\n",
      "\u001b[33m(raylet)\u001b[0m [2023-11-22 09:36:48,630 E 7249 83408] (raylet) file_system_monitor.cc:111: /tmp/ray/session_2023-11-22_09-15-26_163949_7229 is over 95% full, available space: 3781492736; capacity: 494384795648. Object creation will fail if spilling is required.\n",
      "\u001b[33m(raylet)\u001b[0m [2023-11-22 09:36:58,694 E 7249 83408] (raylet) file_system_monitor.cc:111: /tmp/ray/session_2023-11-22_09-15-26_163949_7229 is over 95% full, available space: 3781234688; capacity: 494384795648. Object creation will fail if spilling is required.\n",
      "\u001b[33m(raylet)\u001b[0m [2023-11-22 09:37:08,768 E 7249 83408] (raylet) file_system_monitor.cc:111: /tmp/ray/session_2023-11-22_09-15-26_163949_7229 is over 95% full, available space: 3781226496; capacity: 494384795648. Object creation will fail if spilling is required.\n",
      "\u001b[33m(raylet)\u001b[0m [2023-11-22 09:37:18,838 E 7249 83408] (raylet) file_system_monitor.cc:111: /tmp/ray/session_2023-11-22_09-15-26_163949_7229 is over 95% full, available space: 3781230592; capacity: 494384795648. Object creation will fail if spilling is required.\n",
      "\u001b[33m(raylet)\u001b[0m [2023-11-22 09:37:28,908 E 7249 83408] (raylet) file_system_monitor.cc:111: /tmp/ray/session_2023-11-22_09-15-26_163949_7229 is over 95% full, available space: 3781038080; capacity: 494384795648. Object creation will fail if spilling is required.\n",
      "\u001b[33m(raylet)\u001b[0m [2023-11-22 09:37:38,969 E 7249 83408] (raylet) file_system_monitor.cc:111: /tmp/ray/session_2023-11-22_09-15-26_163949_7229 is over 95% full, available space: 3780890624; capacity: 494384795648. Object creation will fail if spilling is required.\n",
      "\u001b[33m(raylet)\u001b[0m [2023-11-22 09:37:49,022 E 7249 83408] (raylet) file_system_monitor.cc:111: /tmp/ray/session_2023-11-22_09-15-26_163949_7229 is over 95% full, available space: 3780743168; capacity: 494384795648. Object creation will fail if spilling is required.\n",
      "\u001b[33m(raylet)\u001b[0m [2023-11-22 09:37:59,093 E 7249 83408] (raylet) file_system_monitor.cc:111: /tmp/ray/session_2023-11-22_09-15-26_163949_7229 is over 95% full, available space: 3780612096; capacity: 494384795648. Object creation will fail if spilling is required.\n",
      "\u001b[33m(raylet)\u001b[0m [2023-11-22 09:38:09,151 E 7249 83408] (raylet) file_system_monitor.cc:111: /tmp/ray/session_2023-11-22_09-15-26_163949_7229 is over 95% full, available space: 3780489216; capacity: 494384795648. Object creation will fail if spilling is required.\n",
      "\u001b[33m(raylet)\u001b[0m [2023-11-22 09:38:19,211 E 7249 83408] (raylet) file_system_monitor.cc:111: /tmp/ray/session_2023-11-22_09-15-26_163949_7229 is over 95% full, available space: 3780460544; capacity: 494384795648. Object creation will fail if spilling is required.\n",
      "\u001b[33m(raylet)\u001b[0m [2023-11-22 09:38:29,273 E 7249 83408] (raylet) file_system_monitor.cc:111: /tmp/ray/session_2023-11-22_09-15-26_163949_7229 is over 95% full, available space: 3780296704; capacity: 494384795648. Object creation will fail if spilling is required.\n",
      "\u001b[33m(raylet)\u001b[0m [2023-11-22 09:38:39,338 E 7249 83408] (raylet) file_system_monitor.cc:111: /tmp/ray/session_2023-11-22_09-15-26_163949_7229 is over 95% full, available space: 3780145152; capacity: 494384795648. Object creation will fail if spilling is required.\n",
      "\u001b[33m(raylet)\u001b[0m [2023-11-22 09:38:49,401 E 7249 83408] (raylet) file_system_monitor.cc:111: /tmp/ray/session_2023-11-22_09-15-26_163949_7229 is over 95% full, available space: 3780014080; capacity: 494384795648. Object creation will fail if spilling is required.\n",
      "\u001b[33m(raylet)\u001b[0m [2023-11-22 09:38:59,460 E 7249 83408] (raylet) file_system_monitor.cc:111: /tmp/ray/session_2023-11-22_09-15-26_163949_7229 is over 95% full, available space: 3779837952; capacity: 494384795648. Object creation will fail if spilling is required.\n",
      "\u001b[33m(raylet)\u001b[0m [2023-11-22 09:39:09,524 E 7249 83408] (raylet) file_system_monitor.cc:111: /tmp/ray/session_2023-11-22_09-15-26_163949_7229 is over 95% full, available space: 3779821568; capacity: 494384795648. Object creation will fail if spilling is required.\n",
      "\u001b[33m(raylet)\u001b[0m [2023-11-22 09:39:19,589 E 7249 83408] (raylet) file_system_monitor.cc:111: /tmp/ray/session_2023-11-22_09-15-26_163949_7229 is over 95% full, available space: 3779555328; capacity: 494384795648. Object creation will fail if spilling is required.\n",
      "\u001b[33m(raylet)\u001b[0m [2023-11-22 09:39:29,652 E 7249 83408] (raylet) file_system_monitor.cc:111: /tmp/ray/session_2023-11-22_09-15-26_163949_7229 is over 95% full, available space: 3779497984; capacity: 494384795648. Object creation will fail if spilling is required.\n",
      "\u001b[33m(raylet)\u001b[0m [2023-11-22 09:39:39,716 E 7249 83408] (raylet) file_system_monitor.cc:111: /tmp/ray/session_2023-11-22_09-15-26_163949_7229 is over 95% full, available space: 3781623808; capacity: 494384795648. Object creation will fail if spilling is required.\n",
      "\u001b[33m(raylet)\u001b[0m [2023-11-22 09:39:49,788 E 7249 83408] (raylet) file_system_monitor.cc:111: /tmp/ray/session_2023-11-22_09-15-26_163949_7229 is over 95% full, available space: 3781480448; capacity: 494384795648. Object creation will fail if spilling is required.\n",
      "\u001b[33m(raylet)\u001b[0m [2023-11-22 09:39:59,792 E 7249 83408] (raylet) file_system_monitor.cc:111: /tmp/ray/session_2023-11-22_09-15-26_163949_7229 is over 95% full, available space: 3780284416; capacity: 494384795648. Object creation will fail if spilling is required.\n",
      "\u001b[33m(raylet)\u001b[0m [2023-11-22 09:40:09,891 E 7249 83408] (raylet) file_system_monitor.cc:111: /tmp/ray/session_2023-11-22_09-15-26_163949_7229 is over 95% full, available space: 3780280320; capacity: 494384795648. Object creation will fail if spilling is required.\n",
      "\u001b[33m(raylet)\u001b[0m [2023-11-22 09:40:19,991 E 7249 83408] (raylet) file_system_monitor.cc:111: /tmp/ray/session_2023-11-22_09-15-26_163949_7229 is over 95% full, available space: 3780177920; capacity: 494384795648. Object creation will fail if spilling is required.\n",
      "\u001b[33m(raylet)\u001b[0m [2023-11-22 09:40:30,091 E 7249 83408] (raylet) file_system_monitor.cc:111: /tmp/ray/session_2023-11-22_09-15-26_163949_7229 is over 95% full, available space: 3779981312; capacity: 494384795648. Object creation will fail if spilling is required.\n",
      "\u001b[33m(raylet)\u001b[0m [2023-11-22 09:40:40,188 E 7249 83408] (raylet) file_system_monitor.cc:111: /tmp/ray/session_2023-11-22_09-15-26_163949_7229 is over 95% full, available space: 3779825664; capacity: 494384795648. Object creation will fail if spilling is required.\n",
      "\u001b[33m(raylet)\u001b[0m [2023-11-22 09:40:50,190 E 7249 83408] (raylet) file_system_monitor.cc:111: /tmp/ray/session_2023-11-22_09-15-26_163949_7229 is over 95% full, available space: 3779530752; capacity: 494384795648. Object creation will fail if spilling is required.\n",
      "\u001b[33m(raylet)\u001b[0m [2023-11-22 09:41:00,288 E 7249 83408] (raylet) file_system_monitor.cc:111: /tmp/ray/session_2023-11-22_09-15-26_163949_7229 is over 95% full, available space: 3779260416; capacity: 494384795648. Object creation will fail if spilling is required.\n",
      "\u001b[33m(raylet)\u001b[0m [2023-11-22 09:41:10,383 E 7249 83408] (raylet) file_system_monitor.cc:111: /tmp/ray/session_2023-11-22_09-15-26_163949_7229 is over 95% full, available space: 3779104768; capacity: 494384795648. Object creation will fail if spilling is required.\n",
      "\u001b[33m(raylet)\u001b[0m [2023-11-22 09:41:20,482 E 7249 83408] (raylet) file_system_monitor.cc:111: /tmp/ray/session_2023-11-22_09-15-26_163949_7229 is over 95% full, available space: 3777884160; capacity: 494384795648. Object creation will fail if spilling is required.\n",
      "\u001b[33m(raylet)\u001b[0m [2023-11-22 09:41:30,494 E 7249 83408] (raylet) file_system_monitor.cc:111: /tmp/ray/session_2023-11-22_09-15-26_163949_7229 is over 95% full, available space: 3777691648; capacity: 494384795648. Object creation will fail if spilling is required.\n",
      "\u001b[33m(raylet)\u001b[0m [2023-11-22 09:41:40,495 E 7249 83408] (raylet) file_system_monitor.cc:111: /tmp/ray/session_2023-11-22_09-15-26_163949_7229 is over 95% full, available space: 3777634304; capacity: 494384795648. Object creation will fail if spilling is required.\n",
      "\u001b[33m(raylet)\u001b[0m [2023-11-22 09:41:50,594 E 7249 83408] (raylet) file_system_monitor.cc:111: /tmp/ray/session_2023-11-22_09-15-26_163949_7229 is over 95% full, available space: 3777478656; capacity: 494384795648. Object creation will fail if spilling is required.\n",
      "\u001b[33m(raylet)\u001b[0m [2023-11-22 09:42:00,691 E 7249 83408] (raylet) file_system_monitor.cc:111: /tmp/ray/session_2023-11-22_09-15-26_163949_7229 is over 95% full, available space: 3778334720; capacity: 494384795648. Object creation will fail if spilling is required.\n",
      "\u001b[33m(raylet)\u001b[0m [2023-11-22 09:42:10,790 E 7249 83408] (raylet) file_system_monitor.cc:111: /tmp/ray/session_2023-11-22_09-15-26_163949_7229 is over 95% full, available space: 3777789952; capacity: 494384795648. Object creation will fail if spilling is required.\n",
      "\u001b[33m(raylet)\u001b[0m [2023-11-22 09:42:20,886 E 7249 83408] (raylet) file_system_monitor.cc:111: /tmp/ray/session_2023-11-22_09-15-26_163949_7229 is over 95% full, available space: 3776937984; capacity: 494384795648. Object creation will fail if spilling is required.\n",
      "\u001b[33m(raylet)\u001b[0m [2023-11-22 09:42:30,983 E 7249 83408] (raylet) file_system_monitor.cc:111: /tmp/ray/session_2023-11-22_09-15-26_163949_7229 is over 95% full, available space: 3776356352; capacity: 494384795648. Object creation will fail if spilling is required.\n",
      "\u001b[33m(raylet)\u001b[0m [2023-11-22 09:42:41,069 E 7249 83408] (raylet) file_system_monitor.cc:111: /tmp/ray/session_2023-11-22_09-15-26_163949_7229 is over 95% full, available space: 3774668800; capacity: 494384795648. Object creation will fail if spilling is required.\n",
      "\u001b[33m(raylet)\u001b[0m [2023-11-22 09:42:51,082 E 7249 83408] (raylet) file_system_monitor.cc:111: /tmp/ray/session_2023-11-22_09-15-26_163949_7229 is over 95% full, available space: 3774521344; capacity: 494384795648. Object creation will fail if spilling is required.\n",
      "\u001b[33m(raylet)\u001b[0m [2023-11-22 09:43:01,183 E 7249 83408] (raylet) file_system_monitor.cc:111: /tmp/ray/session_2023-11-22_09-15-26_163949_7229 is over 95% full, available space: 3774504960; capacity: 494384795648. Object creation will fail if spilling is required.\n",
      "\u001b[33m(raylet)\u001b[0m [2023-11-22 09:43:11,184 E 7249 83408] (raylet) file_system_monitor.cc:111: /tmp/ray/session_2023-11-22_09-15-26_163949_7229 is over 95% full, available space: 3774353408; capacity: 494384795648. Object creation will fail if spilling is required.\n",
      "\u001b[33m(raylet)\u001b[0m [2023-11-22 09:43:21,187 E 7249 83408] (raylet) file_system_monitor.cc:111: /tmp/ray/session_2023-11-22_09-15-26_163949_7229 is over 95% full, available space: 3774181376; capacity: 494384795648. Object creation will fail if spilling is required.\n",
      "\u001b[33m(raylet)\u001b[0m [2023-11-22 09:43:31,194 E 7249 83408] (raylet) file_system_monitor.cc:111: /tmp/ray/session_2023-11-22_09-15-26_163949_7229 is over 95% full, available space: 3774038016; capacity: 494384795648. Object creation will fail if spilling is required.\n",
      "\u001b[33m(raylet)\u001b[0m [2023-11-22 09:43:41,199 E 7249 83408] (raylet) file_system_monitor.cc:111: /tmp/ray/session_2023-11-22_09-15-26_163949_7229 is over 95% full, available space: 3772325888; capacity: 494384795648. Object creation will fail if spilling is required.\n",
      "\u001b[33m(raylet)\u001b[0m [2023-11-22 09:43:51,211 E 7249 83408] (raylet) file_system_monitor.cc:111: /tmp/ray/session_2023-11-22_09-15-26_163949_7229 is over 95% full, available space: 3771113472; capacity: 494384795648. Object creation will fail if spilling is required.\n",
      "\u001b[33m(raylet)\u001b[0m [2023-11-22 09:44:01,216 E 7249 83408] (raylet) file_system_monitor.cc:111: /tmp/ray/session_2023-11-22_09-15-26_163949_7229 is over 95% full, available space: 3769696256; capacity: 494384795648. Object creation will fail if spilling is required.\n",
      "\u001b[33m(raylet)\u001b[0m [2023-11-22 09:44:11,218 E 7249 83408] (raylet) file_system_monitor.cc:111: /tmp/ray/session_2023-11-22_09-15-26_163949_7229 is over 95% full, available space: 3769606144; capacity: 494384795648. Object creation will fail if spilling is required.\n",
      "\u001b[33m(raylet)\u001b[0m [2023-11-22 09:44:21,227 E 7249 83408] (raylet) file_system_monitor.cc:111: /tmp/ray/session_2023-11-22_09-15-26_163949_7229 is over 95% full, available space: 3769425920; capacity: 494384795648. Object creation will fail if spilling is required.\n",
      "\u001b[33m(raylet)\u001b[0m [2023-11-22 09:44:31,233 E 7249 83408] (raylet) file_system_monitor.cc:111: /tmp/ray/session_2023-11-22_09-15-26_163949_7229 is over 95% full, available space: 3766554624; capacity: 494384795648. Object creation will fail if spilling is required.\n",
      "\u001b[33m(raylet)\u001b[0m [2023-11-22 09:44:41,329 E 7249 83408] (raylet) file_system_monitor.cc:111: /tmp/ray/session_2023-11-22_09-15-26_163949_7229 is over 95% full, available space: 3781718016; capacity: 494384795648. Object creation will fail if spilling is required.\n",
      "\u001b[33m(raylet)\u001b[0m [2023-11-22 09:44:51,358 E 7249 83408] (raylet) file_system_monitor.cc:111: /tmp/ray/session_2023-11-22_09-15-26_163949_7229 is over 95% full, available space: 3778080768; capacity: 494384795648. Object creation will fail if spilling is required.\n",
      "\u001b[33m(raylet)\u001b[0m [2023-11-22 09:45:01,364 E 7249 83408] (raylet) file_system_monitor.cc:111: /tmp/ray/session_2023-11-22_09-15-26_163949_7229 is over 95% full, available space: 3777384448; capacity: 494384795648. Object creation will fail if spilling is required.\n",
      "\u001b[33m(raylet)\u001b[0m [2023-11-22 09:45:11,372 E 7249 83408] (raylet) file_system_monitor.cc:111: /tmp/ray/session_2023-11-22_09-15-26_163949_7229 is over 95% full, available space: 3771699200; capacity: 494384795648. Object creation will fail if spilling is required.\n",
      "\u001b[33m(raylet)\u001b[0m [2023-11-22 09:45:21,387 E 7249 83408] (raylet) file_system_monitor.cc:111: /tmp/ray/session_2023-11-22_09-15-26_163949_7229 is over 95% full, available space: 3771486208; capacity: 494384795648. Object creation will fail if spilling is required.\n",
      "\u001b[33m(raylet)\u001b[0m [2023-11-22 09:45:31,408 E 7249 83408] (raylet) file_system_monitor.cc:111: /tmp/ray/session_2023-11-22_09-15-26_163949_7229 is over 95% full, available space: 3771338752; capacity: 494384795648. Object creation will fail if spilling is required.\n",
      "\u001b[33m(raylet)\u001b[0m [2023-11-22 09:45:41,412 E 7249 83408] (raylet) file_system_monitor.cc:111: /tmp/ray/session_2023-11-22_09-15-26_163949_7229 is over 95% full, available space: 3768020992; capacity: 494384795648. Object creation will fail if spilling is required.\n",
      "\u001b[33m(raylet)\u001b[0m [2023-11-22 09:45:51,424 E 7249 83408] (raylet) file_system_monitor.cc:111: /tmp/ray/session_2023-11-22_09-15-26_163949_7229 is over 95% full, available space: 3767865344; capacity: 494384795648. Object creation will fail if spilling is required.\n",
      "\u001b[33m(raylet)\u001b[0m [2023-11-22 09:46:01,519 E 7249 83408] (raylet) file_system_monitor.cc:111: /tmp/ray/session_2023-11-22_09-15-26_163949_7229 is over 95% full, available space: 3767549952; capacity: 494384795648. Object creation will fail if spilling is required.\n",
      "\u001b[33m(raylet)\u001b[0m [2023-11-22 09:46:11,621 E 7249 83408] (raylet) file_system_monitor.cc:111: /tmp/ray/session_2023-11-22_09-15-26_163949_7229 is over 95% full, available space: 3767513088; capacity: 494384795648. Object creation will fail if spilling is required.\n",
      "\u001b[33m(raylet)\u001b[0m [2023-11-22 09:46:21,627 E 7249 83408] (raylet) file_system_monitor.cc:111: /tmp/ray/session_2023-11-22_09-15-26_163949_7229 is over 95% full, available space: 3767353344; capacity: 494384795648. Object creation will fail if spilling is required.\n",
      "\u001b[33m(raylet)\u001b[0m [2023-11-22 09:46:31,728 E 7249 83408] (raylet) file_system_monitor.cc:111: /tmp/ray/session_2023-11-22_09-15-26_163949_7229 is over 95% full, available space: 3767291904; capacity: 494384795648. Object creation will fail if spilling is required.\n",
      "\u001b[33m(raylet)\u001b[0m [2023-11-22 09:46:41,824 E 7249 83408] (raylet) file_system_monitor.cc:111: /tmp/ray/session_2023-11-22_09-15-26_163949_7229 is over 95% full, available space: 3767164928; capacity: 494384795648. Object creation will fail if spilling is required.\n",
      "\u001b[33m(raylet)\u001b[0m [2023-11-22 09:46:51,827 E 7249 83408] (raylet) file_system_monitor.cc:111: /tmp/ray/session_2023-11-22_09-15-26_163949_7229 is over 95% full, available space: 3766837248; capacity: 494384795648. Object creation will fail if spilling is required.\n",
      "\u001b[33m(raylet)\u001b[0m [2023-11-22 09:47:01,828 E 7249 83408] (raylet) file_system_monitor.cc:111: /tmp/ray/session_2023-11-22_09-15-26_163949_7229 is over 95% full, available space: 3766824960; capacity: 494384795648. Object creation will fail if spilling is required.\n",
      "\u001b[33m(raylet)\u001b[0m [2023-11-22 09:47:11,920 E 7249 83408] (raylet) file_system_monitor.cc:111: /tmp/ray/session_2023-11-22_09-15-26_163949_7229 is over 95% full, available space: 3766534144; capacity: 494384795648. Object creation will fail if spilling is required.\n",
      "\u001b[33m(raylet)\u001b[0m [2023-11-22 09:47:22,019 E 7249 83408] (raylet) file_system_monitor.cc:111: /tmp/ray/session_2023-11-22_09-15-26_163949_7229 is over 95% full, available space: 3767947264; capacity: 494384795648. Object creation will fail if spilling is required.\n",
      "\u001b[33m(raylet)\u001b[0m [2023-11-22 09:47:32,021 E 7249 83408] (raylet) file_system_monitor.cc:111: /tmp/ray/session_2023-11-22_09-15-26_163949_7229 is over 95% full, available space: 3767742464; capacity: 494384795648. Object creation will fail if spilling is required.\n",
      "\u001b[33m(raylet)\u001b[0m [2023-11-22 09:47:42,121 E 7249 83408] (raylet) file_system_monitor.cc:111: /tmp/ray/session_2023-11-22_09-15-26_163949_7229 is over 95% full, available space: 3767590912; capacity: 494384795648. Object creation will fail if spilling is required.\n",
      "\u001b[33m(raylet)\u001b[0m [2023-11-22 09:47:52,122 E 7249 83408] (raylet) file_system_monitor.cc:111: /tmp/ray/session_2023-11-22_09-15-26_163949_7229 is over 95% full, available space: 3767058432; capacity: 494384795648. Object creation will fail if spilling is required.\n",
      "\u001b[33m(raylet)\u001b[0m [2023-11-22 09:48:02,124 E 7249 83408] (raylet) file_system_monitor.cc:111: /tmp/ray/session_2023-11-22_09-15-26_163949_7229 is over 95% full, available space: 3766583296; capacity: 494384795648. Object creation will fail if spilling is required.\n",
      "\u001b[33m(raylet)\u001b[0m [2023-11-22 09:48:12,222 E 7249 83408] (raylet) file_system_monitor.cc:111: /tmp/ray/session_2023-11-22_09-15-26_163949_7229 is over 95% full, available space: 3765723136; capacity: 494384795648. Object creation will fail if spilling is required.\n",
      "\u001b[33m(raylet)\u001b[0m [2023-11-22 09:48:22,317 E 7249 83408] (raylet) file_system_monitor.cc:111: /tmp/ray/session_2023-11-22_09-15-26_163949_7229 is over 95% full, available space: 3765104640; capacity: 494384795648. Object creation will fail if spilling is required.\n",
      "\u001b[33m(raylet)\u001b[0m [2023-11-22 09:48:32,413 E 7249 83408] (raylet) file_system_monitor.cc:111: /tmp/ray/session_2023-11-22_09-15-26_163949_7229 is over 95% full, available space: 3764932608; capacity: 494384795648. Object creation will fail if spilling is required.\n",
      "\u001b[33m(raylet)\u001b[0m [2023-11-22 09:48:42,414 E 7249 83408] (raylet) file_system_monitor.cc:111: /tmp/ray/session_2023-11-22_09-15-26_163949_7229 is over 95% full, available space: 3764736000; capacity: 494384795648. Object creation will fail if spilling is required.\n",
      "\u001b[33m(raylet)\u001b[0m [2023-11-22 09:48:52,508 E 7249 83408] (raylet) file_system_monitor.cc:111: /tmp/ray/session_2023-11-22_09-15-26_163949_7229 is over 95% full, available space: 3764559872; capacity: 494384795648. Object creation will fail if spilling is required.\n",
      "\u001b[33m(raylet)\u001b[0m [2023-11-22 09:49:02,599 E 7249 83408] (raylet) file_system_monitor.cc:111: /tmp/ray/session_2023-11-22_09-15-26_163949_7229 is over 95% full, available space: 3764228096; capacity: 494384795648. Object creation will fail if spilling is required.\n",
      "\u001b[33m(raylet)\u001b[0m [2023-11-22 09:49:12,699 E 7249 83408] (raylet) file_system_monitor.cc:111: /tmp/ray/session_2023-11-22_09-15-26_163949_7229 is over 95% full, available space: 3764047872; capacity: 494384795648. Object creation will fail if spilling is required.\n",
      "\u001b[33m(raylet)\u001b[0m [2023-11-22 09:49:22,706 E 7249 83408] (raylet) file_system_monitor.cc:111: /tmp/ray/session_2023-11-22_09-15-26_163949_7229 is over 95% full, available space: 3763556352; capacity: 494384795648. Object creation will fail if spilling is required.\n",
      "\u001b[33m(raylet)\u001b[0m [2023-11-22 09:49:32,807 E 7249 83408] (raylet) file_system_monitor.cc:111: /tmp/ray/session_2023-11-22_09-15-26_163949_7229 is over 95% full, available space: 3768266752; capacity: 494384795648. Object creation will fail if spilling is required.\n",
      "\u001b[33m(raylet)\u001b[0m [2023-11-22 09:49:42,901 E 7249 83408] (raylet) file_system_monitor.cc:111: /tmp/ray/session_2023-11-22_09-15-26_163949_7229 is over 95% full, available space: 3767615488; capacity: 494384795648. Object creation will fail if spilling is required.\n",
      "\u001b[33m(raylet)\u001b[0m [2023-11-22 09:49:53,003 E 7249 83408] (raylet) file_system_monitor.cc:111: /tmp/ray/session_2023-11-22_09-15-26_163949_7229 is over 95% full, available space: 3767230464; capacity: 494384795648. Object creation will fail if spilling is required.\n",
      "\u001b[33m(raylet)\u001b[0m [2023-11-22 09:50:03,099 E 7249 83408] (raylet) file_system_monitor.cc:111: /tmp/ray/session_2023-11-22_09-15-26_163949_7229 is over 95% full, available space: 3766845440; capacity: 494384795648. Object creation will fail if spilling is required.\n",
      "\u001b[33m(raylet)\u001b[0m [2023-11-22 09:50:13,114 E 7249 83408] (raylet) file_system_monitor.cc:111: /tmp/ray/session_2023-11-22_09-15-26_163949_7229 is over 95% full, available space: 3766644736; capacity: 494384795648. Object creation will fail if spilling is required.\n",
      "\u001b[33m(raylet)\u001b[0m [2023-11-22 09:50:23,212 E 7249 83408] (raylet) file_system_monitor.cc:111: /tmp/ray/session_2023-11-22_09-15-26_163949_7229 is over 95% full, available space: 3766435840; capacity: 494384795648. Object creation will fail if spilling is required.\n",
      "\u001b[33m(raylet)\u001b[0m [2023-11-22 09:50:33,307 E 7249 83408] (raylet) file_system_monitor.cc:111: /tmp/ray/session_2023-11-22_09-15-26_163949_7229 is over 95% full, available space: 3766136832; capacity: 494384795648. Object creation will fail if spilling is required.\n",
      "\u001b[33m(raylet)\u001b[0m [2023-11-22 09:50:43,398 E 7249 83408] (raylet) file_system_monitor.cc:111: /tmp/ray/session_2023-11-22_09-15-26_163949_7229 is over 95% full, available space: 3765932032; capacity: 494384795648. Object creation will fail if spilling is required.\n",
      "\u001b[33m(raylet)\u001b[0m [2023-11-22 09:50:53,491 E 7249 83408] (raylet) file_system_monitor.cc:111: /tmp/ray/session_2023-11-22_09-15-26_163949_7229 is over 95% full, available space: 3765399552; capacity: 494384795648. Object creation will fail if spilling is required.\n",
      "\u001b[33m(raylet)\u001b[0m [2023-11-22 09:51:03,590 E 7249 83408] (raylet) file_system_monitor.cc:111: /tmp/ray/session_2023-11-22_09-15-26_163949_7229 is over 95% full, available space: 3765223424; capacity: 494384795648. Object creation will fail if spilling is required.\n",
      "\u001b[33m(raylet)\u001b[0m [2023-11-22 09:51:13,682 E 7249 83408] (raylet) file_system_monitor.cc:111: /tmp/ray/session_2023-11-22_09-15-26_163949_7229 is over 95% full, available space: 3765051392; capacity: 494384795648. Object creation will fail if spilling is required.\n",
      "\u001b[33m(raylet)\u001b[0m [2023-11-22 09:51:23,775 E 7249 83408] (raylet) file_system_monitor.cc:111: /tmp/ray/session_2023-11-22_09-15-26_163949_7229 is over 95% full, available space: 3764846592; capacity: 494384795648. Object creation will fail if spilling is required.\n",
      "\u001b[33m(raylet)\u001b[0m [2023-11-22 09:51:33,779 E 7249 83408] (raylet) file_system_monitor.cc:111: /tmp/ray/session_2023-11-22_09-15-26_163949_7229 is over 95% full, available space: 3764633600; capacity: 494384795648. Object creation will fail if spilling is required.\n",
      "\u001b[33m(raylet)\u001b[0m [2023-11-22 09:51:43,790 E 7249 83408] (raylet) file_system_monitor.cc:111: /tmp/ray/session_2023-11-22_09-15-26_163949_7229 is over 95% full, available space: 3764248576; capacity: 494384795648. Object creation will fail if spilling is required.\n",
      "\u001b[33m(raylet)\u001b[0m [2023-11-22 09:51:53,892 E 7249 83408] (raylet) file_system_monitor.cc:111: /tmp/ray/session_2023-11-22_09-15-26_163949_7229 is over 95% full, available space: 3763961856; capacity: 494384795648. Object creation will fail if spilling is required.\n",
      "\u001b[33m(raylet)\u001b[0m [2023-11-22 09:52:03,894 E 7249 83408] (raylet) file_system_monitor.cc:111: /tmp/ray/session_2023-11-22_09-15-26_163949_7229 is over 95% full, available space: 3763417088; capacity: 494384795648. Object creation will fail if spilling is required.\n",
      "\u001b[33m(raylet)\u001b[0m [2023-11-22 09:52:13,994 E 7249 83408] (raylet) file_system_monitor.cc:111: /tmp/ray/session_2023-11-22_09-15-26_163949_7229 is over 95% full, available space: 3762937856; capacity: 494384795648. Object creation will fail if spilling is required.\n",
      "\u001b[33m(raylet)\u001b[0m [2023-11-22 09:52:24,088 E 7249 83408] (raylet) file_system_monitor.cc:111: /tmp/ray/session_2023-11-22_09-15-26_163949_7229 is over 95% full, available space: 3762917376; capacity: 494384795648. Object creation will fail if spilling is required.\n",
      "\u001b[33m(raylet)\u001b[0m [2023-11-22 09:52:34,184 E 7249 83408] (raylet) file_system_monitor.cc:111: /tmp/ray/session_2023-11-22_09-15-26_163949_7229 is over 95% full, available space: 3762700288; capacity: 494384795648. Object creation will fail if spilling is required.\n",
      "\u001b[33m(raylet)\u001b[0m [2023-11-22 09:52:44,274 E 7249 83408] (raylet) file_system_monitor.cc:111: /tmp/ray/session_2023-11-22_09-15-26_163949_7229 is over 95% full, available space: 3762495488; capacity: 494384795648. Object creation will fail if spilling is required.\n",
      "\u001b[33m(raylet)\u001b[0m [2023-11-22 09:52:54,278 E 7249 83408] (raylet) file_system_monitor.cc:111: /tmp/ray/session_2023-11-22_09-15-26_163949_7229 is over 95% full, available space: 3762061312; capacity: 494384795648. Object creation will fail if spilling is required.\n",
      "\u001b[33m(raylet)\u001b[0m [2023-11-22 09:53:04,306 E 7249 83408] (raylet) file_system_monitor.cc:111: /tmp/ray/session_2023-11-22_09-15-26_163949_7229 is over 95% full, available space: 3761864704; capacity: 494384795648. Object creation will fail if spilling is required.\n",
      "\u001b[33m(raylet)\u001b[0m [2023-11-22 09:53:14,337 E 7249 83408] (raylet) file_system_monitor.cc:111: /tmp/ray/session_2023-11-22_09-15-26_163949_7229 is over 95% full, available space: 3761434624; capacity: 494384795648. Object creation will fail if spilling is required.\n",
      "\u001b[33m(raylet)\u001b[0m [2023-11-22 09:53:24,353 E 7249 83408] (raylet) file_system_monitor.cc:111: /tmp/ray/session_2023-11-22_09-15-26_163949_7229 is over 95% full, available space: 3750535168; capacity: 494384795648. Object creation will fail if spilling is required.\n",
      "\u001b[33m(raylet)\u001b[0m [2023-11-22 09:53:34,357 E 7249 83408] (raylet) file_system_monitor.cc:111: /tmp/ray/session_2023-11-22_09-15-26_163949_7229 is over 95% full, available space: 3750313984; capacity: 494384795648. Object creation will fail if spilling is required.\n",
      "\u001b[33m(raylet)\u001b[0m [2023-11-22 09:53:44,457 E 7249 83408] (raylet) file_system_monitor.cc:111: /tmp/ray/session_2023-11-22_09-15-26_163949_7229 is over 95% full, available space: 3750322176; capacity: 494384795648. Object creation will fail if spilling is required.\n",
      "\u001b[33m(raylet)\u001b[0m [2023-11-22 09:53:54,558 E 7249 83408] (raylet) file_system_monitor.cc:111: /tmp/ray/session_2023-11-22_09-15-26_163949_7229 is over 95% full, available space: 3750129664; capacity: 494384795648. Object creation will fail if spilling is required.\n",
      "\u001b[33m(raylet)\u001b[0m [2023-11-22 09:54:04,657 E 7249 83408] (raylet) file_system_monitor.cc:111: /tmp/ray/session_2023-11-22_09-15-26_163949_7229 is over 95% full, available space: 3750260736; capacity: 494384795648. Object creation will fail if spilling is required.\n",
      "\u001b[33m(raylet)\u001b[0m [2023-11-22 09:54:14,660 E 7249 83408] (raylet) file_system_monitor.cc:111: /tmp/ray/session_2023-11-22_09-15-26_163949_7229 is over 95% full, available space: 3749416960; capacity: 494384795648. Object creation will fail if spilling is required.\n",
      "\u001b[33m(raylet)\u001b[0m [2023-11-22 09:54:24,667 E 7249 83408] (raylet) file_system_monitor.cc:111: /tmp/ray/session_2023-11-22_09-15-26_163949_7229 is over 95% full, available space: 3748880384; capacity: 494384795648. Object creation will fail if spilling is required.\n",
      "\u001b[33m(raylet)\u001b[0m [2023-11-22 09:54:34,673 E 7249 83408] (raylet) file_system_monitor.cc:111: /tmp/ray/session_2023-11-22_09-15-26_163949_7229 is over 95% full, available space: 3751510016; capacity: 494384795648. Object creation will fail if spilling is required.\n",
      "\u001b[33m(raylet)\u001b[0m [2023-11-22 09:54:44,676 E 7249 83408] (raylet) file_system_monitor.cc:111: /tmp/ray/session_2023-11-22_09-15-26_163949_7229 is over 95% full, available space: 3761332224; capacity: 494384795648. Object creation will fail if spilling is required.\n",
      "\u001b[33m(raylet)\u001b[0m [2023-11-22 09:54:54,676 E 7249 83408] (raylet) file_system_monitor.cc:111: /tmp/ray/session_2023-11-22_09-15-26_163949_7229 is over 95% full, available space: 3761164288; capacity: 494384795648. Object creation will fail if spilling is required.\n",
      "\u001b[33m(raylet)\u001b[0m [2023-11-22 09:55:04,778 E 7249 83408] (raylet) file_system_monitor.cc:111: /tmp/ray/session_2023-11-22_09-15-26_163949_7229 is over 95% full, available space: 3761152000; capacity: 494384795648. Object creation will fail if spilling is required.\n",
      "\u001b[33m(raylet)\u001b[0m [2023-11-22 09:55:14,787 E 7249 83408] (raylet) file_system_monitor.cc:111: /tmp/ray/session_2023-11-22_09-15-26_163949_7229 is over 95% full, available space: 3760963584; capacity: 494384795648. Object creation will fail if spilling is required.\n",
      "\u001b[33m(raylet)\u001b[0m [2023-11-22 09:55:24,791 E 7249 83408] (raylet) file_system_monitor.cc:111: /tmp/ray/session_2023-11-22_09-15-26_163949_7229 is over 95% full, available space: 3760955392; capacity: 494384795648. Object creation will fail if spilling is required.\n",
      "\u001b[33m(raylet)\u001b[0m [2023-11-22 09:55:34,892 E 7249 83408] (raylet) file_system_monitor.cc:111: /tmp/ray/session_2023-11-22_09-15-26_163949_7229 is over 95% full, available space: 3760754688; capacity: 494384795648. Object creation will fail if spilling is required.\n",
      "\u001b[33m(raylet)\u001b[0m [2023-11-22 09:55:44,894 E 7249 83408] (raylet) file_system_monitor.cc:111: /tmp/ray/session_2023-11-22_09-15-26_163949_7229 is over 95% full, available space: 3760594944; capacity: 494384795648. Object creation will fail if spilling is required.\n",
      "\u001b[33m(raylet)\u001b[0m [2023-11-22 09:55:54,901 E 7249 83408] (raylet) file_system_monitor.cc:111: /tmp/ray/session_2023-11-22_09-15-26_163949_7229 is over 95% full, available space: 3760242688; capacity: 494384795648. Object creation will fail if spilling is required.\n",
      "\u001b[33m(raylet)\u001b[0m [2023-11-22 09:56:04,904 E 7249 83408] (raylet) file_system_monitor.cc:111: /tmp/ray/session_2023-11-22_09-15-26_163949_7229 is over 95% full, available space: 3760041984; capacity: 494384795648. Object creation will fail if spilling is required.\n",
      "\u001b[33m(raylet)\u001b[0m [2023-11-22 09:56:14,912 E 7249 83408] (raylet) file_system_monitor.cc:111: /tmp/ray/session_2023-11-22_09-15-26_163949_7229 is over 95% full, available space: 3760037888; capacity: 494384795648. Object creation will fail if spilling is required.\n",
      "\u001b[33m(raylet)\u001b[0m [2023-11-22 09:56:24,914 E 7249 83408] (raylet) file_system_monitor.cc:111: /tmp/ray/session_2023-11-22_09-15-26_163949_7229 is over 95% full, available space: 3759845376; capacity: 494384795648. Object creation will fail if spilling is required.\n",
      "\u001b[33m(raylet)\u001b[0m [2023-11-22 09:56:34,959 E 7249 83408] (raylet) file_system_monitor.cc:111: /tmp/ray/session_2023-11-22_09-15-26_163949_7229 is over 95% full, available space: 3759144960; capacity: 494384795648. Object creation will fail if spilling is required.\n",
      "\u001b[33m(raylet)\u001b[0m [2023-11-22 09:56:45,031 E 7249 83408] (raylet) file_system_monitor.cc:111: /tmp/ray/session_2023-11-22_09-15-26_163949_7229 is over 95% full, available space: 3758956544; capacity: 494384795648. Object creation will fail if spilling is required.\n",
      "\u001b[33m(raylet)\u001b[0m [2023-11-22 09:56:55,091 E 7249 83408] (raylet) file_system_monitor.cc:111: /tmp/ray/session_2023-11-22_09-15-26_163949_7229 is over 95% full, available space: 3758948352; capacity: 494384795648. Object creation will fail if spilling is required.\n",
      "\u001b[33m(raylet)\u001b[0m [2023-11-22 09:57:05,155 E 7249 83408] (raylet) file_system_monitor.cc:111: /tmp/ray/session_2023-11-22_09-15-26_163949_7229 is over 95% full, available space: 3758768128; capacity: 494384795648. Object creation will fail if spilling is required.\n",
      "\u001b[33m(raylet)\u001b[0m [2023-11-22 09:57:15,224 E 7249 83408] (raylet) file_system_monitor.cc:111: /tmp/ray/session_2023-11-22_09-15-26_163949_7229 is over 95% full, available space: 3758723072; capacity: 494384795648. Object creation will fail if spilling is required.\n",
      "\u001b[33m(raylet)\u001b[0m [2023-11-22 09:57:25,288 E 7249 83408] (raylet) file_system_monitor.cc:111: /tmp/ray/session_2023-11-22_09-15-26_163949_7229 is over 95% full, available space: 3758436352; capacity: 494384795648. Object creation will fail if spilling is required.\n",
      "\u001b[33m(raylet)\u001b[0m [2023-11-22 09:57:35,354 E 7249 83408] (raylet) file_system_monitor.cc:111: /tmp/ray/session_2023-11-22_09-15-26_163949_7229 is over 95% full, available space: 3758243840; capacity: 494384795648. Object creation will fail if spilling is required.\n",
      "\u001b[33m(raylet)\u001b[0m [2023-11-22 09:57:45,413 E 7249 83408] (raylet) file_system_monitor.cc:111: /tmp/ray/session_2023-11-22_09-15-26_163949_7229 is over 95% full, available space: 3758231552; capacity: 494384795648. Object creation will fail if spilling is required.\n",
      "\u001b[33m(raylet)\u001b[0m [2023-11-22 09:57:55,479 E 7249 83408] (raylet) file_system_monitor.cc:111: /tmp/ray/session_2023-11-22_09-15-26_163949_7229 is over 95% full, available space: 3758194688; capacity: 494384795648. Object creation will fail if spilling is required.\n",
      "\u001b[33m(raylet)\u001b[0m [2023-11-22 09:58:05,543 E 7249 83408] (raylet) file_system_monitor.cc:111: /tmp/ray/session_2023-11-22_09-15-26_163949_7229 is over 95% full, available space: 3757998080; capacity: 494384795648. Object creation will fail if spilling is required.\n",
      "\u001b[33m(raylet)\u001b[0m [2023-11-22 09:58:15,616 E 7249 83408] (raylet) file_system_monitor.cc:111: /tmp/ray/session_2023-11-22_09-15-26_163949_7229 is over 95% full, available space: 3757834240; capacity: 494384795648. Object creation will fail if spilling is required.\n",
      "\u001b[33m(raylet)\u001b[0m [2023-11-22 09:58:25,674 E 7249 83408] (raylet) file_system_monitor.cc:111: /tmp/ray/session_2023-11-22_09-15-26_163949_7229 is over 95% full, available space: 3757654016; capacity: 494384795648. Object creation will fail if spilling is required.\n",
      "\u001b[33m(raylet)\u001b[0m [2023-11-22 09:58:35,744 E 7249 83408] (raylet) file_system_monitor.cc:111: /tmp/ray/session_2023-11-22_09-15-26_163949_7229 is over 95% full, available space: 3757592576; capacity: 494384795648. Object creation will fail if spilling is required.\n",
      "\u001b[33m(raylet)\u001b[0m [2023-11-22 09:58:45,807 E 7249 83408] (raylet) file_system_monitor.cc:111: /tmp/ray/session_2023-11-22_09-15-26_163949_7229 is over 95% full, available space: 3757412352; capacity: 494384795648. Object creation will fail if spilling is required.\n",
      "\u001b[33m(raylet)\u001b[0m [2023-11-22 09:58:55,867 E 7249 83408] (raylet) file_system_monitor.cc:111: /tmp/ray/session_2023-11-22_09-15-26_163949_7229 is over 95% full, available space: 3757400064; capacity: 494384795648. Object creation will fail if spilling is required.\n",
      "\u001b[33m(raylet)\u001b[0m [2023-11-22 09:59:05,933 E 7249 83408] (raylet) file_system_monitor.cc:111: /tmp/ray/session_2023-11-22_09-15-26_163949_7229 is over 95% full, available space: 3757219840; capacity: 494384795648. Object creation will fail if spilling is required.\n",
      "\u001b[33m(raylet)\u001b[0m [2023-11-22 09:59:16,000 E 7249 83408] (raylet) file_system_monitor.cc:111: /tmp/ray/session_2023-11-22_09-15-26_163949_7229 is over 95% full, available space: 3757015040; capacity: 494384795648. Object creation will fail if spilling is required.\n",
      "\u001b[33m(raylet)\u001b[0m [2023-11-22 09:59:26,063 E 7249 83408] (raylet) file_system_monitor.cc:111: /tmp/ray/session_2023-11-22_09-15-26_163949_7229 is over 95% full, available space: 3756986368; capacity: 494384795648. Object creation will fail if spilling is required.\n",
      "\u001b[33m(raylet)\u001b[0m [2023-11-22 09:59:36,111 E 7249 83408] (raylet) file_system_monitor.cc:111: /tmp/ray/session_2023-11-22_09-15-26_163949_7229 is over 95% full, available space: 3759697920; capacity: 494384795648. Object creation will fail if spilling is required.\n",
      "\u001b[33m(raylet)\u001b[0m [2023-11-22 09:59:46,161 E 7249 83408] (raylet) file_system_monitor.cc:111: /tmp/ray/session_2023-11-22_09-15-26_163949_7229 is over 95% full, available space: 3759419392; capacity: 494384795648. Object creation will fail if spilling is required.\n",
      "\u001b[33m(raylet)\u001b[0m [2023-11-22 09:59:56,225 E 7249 83408] (raylet) file_system_monitor.cc:111: /tmp/ray/session_2023-11-22_09-15-26_163949_7229 is over 95% full, available space: 3758964736; capacity: 494384795648. Object creation will fail if spilling is required.\n",
      "\u001b[33m(raylet)\u001b[0m [2023-11-22 10:00:06,294 E 7249 83408] (raylet) file_system_monitor.cc:111: /tmp/ray/session_2023-11-22_09-15-26_163949_7229 is over 95% full, available space: 3758931968; capacity: 494384795648. Object creation will fail if spilling is required.\n",
      "\u001b[33m(raylet)\u001b[0m [2023-11-22 10:00:16,379 E 7249 83408] (raylet) file_system_monitor.cc:111: /tmp/ray/session_2023-11-22_09-15-26_163949_7229 is over 95% full, available space: 3758788608; capacity: 494384795648. Object creation will fail if spilling is required.\n",
      "\u001b[33m(raylet)\u001b[0m [2023-11-22 10:00:26,441 E 7249 83408] (raylet) file_system_monitor.cc:111: /tmp/ray/session_2023-11-22_09-15-26_163949_7229 is over 95% full, available space: 3765800960; capacity: 494384795648. Object creation will fail if spilling is required.\n",
      "\u001b[33m(raylet)\u001b[0m [2023-11-22 10:00:36,512 E 7249 83408] (raylet) file_system_monitor.cc:111: /tmp/ray/session_2023-11-22_09-15-26_163949_7229 is over 95% full, available space: 3765444608; capacity: 494384795648. Object creation will fail if spilling is required.\n",
      "\u001b[33m(raylet)\u001b[0m [2023-11-22 10:00:46,576 E 7249 83408] (raylet) file_system_monitor.cc:111: /tmp/ray/session_2023-11-22_09-15-26_163949_7229 is over 95% full, available space: 3765428224; capacity: 494384795648. Object creation will fail if spilling is required.\n",
      "\u001b[33m(raylet)\u001b[0m [2023-11-22 10:00:56,639 E 7249 83408] (raylet) file_system_monitor.cc:111: /tmp/ray/session_2023-11-22_09-15-26_163949_7229 is over 95% full, available space: 3765043200; capacity: 494384795648. Object creation will fail if spilling is required.\n",
      "\u001b[33m(raylet)\u001b[0m [2023-11-22 10:01:06,699 E 7249 83408] (raylet) file_system_monitor.cc:111: /tmp/ray/session_2023-11-22_09-15-26_163949_7229 is over 95% full, available space: 3764736000; capacity: 494384795648. Object creation will fail if spilling is required.\n",
      "\u001b[33m(raylet)\u001b[0m [2023-11-22 10:01:16,751 E 7249 83408] (raylet) file_system_monitor.cc:111: /tmp/ray/session_2023-11-22_09-15-26_163949_7229 is over 95% full, available space: 3764736000; capacity: 494384795648. Object creation will fail if spilling is required.\n",
      "\u001b[33m(raylet)\u001b[0m [2023-11-22 10:01:26,808 E 7249 83408] (raylet) file_system_monitor.cc:111: /tmp/ray/session_2023-11-22_09-15-26_163949_7229 is over 95% full, available space: 3764551680; capacity: 494384795648. Object creation will fail if spilling is required.\n",
      "\u001b[33m(raylet)\u001b[0m [2023-11-22 10:01:36,877 E 7249 83408] (raylet) file_system_monitor.cc:111: /tmp/ray/session_2023-11-22_09-15-26_163949_7229 is over 95% full, available space: 3764191232; capacity: 494384795648. Object creation will fail if spilling is required.\n",
      "\u001b[33m(raylet)\u001b[0m [2023-11-22 10:01:46,940 E 7249 83408] (raylet) file_system_monitor.cc:111: /tmp/ray/session_2023-11-22_09-15-26_163949_7229 is over 95% full, available space: 3763953664; capacity: 494384795648. Object creation will fail if spilling is required.\n",
      "\u001b[33m(raylet)\u001b[0m [2023-11-22 10:01:57,011 E 7249 83408] (raylet) file_system_monitor.cc:111: /tmp/ray/session_2023-11-22_09-15-26_163949_7229 is over 95% full, available space: 3763855360; capacity: 494384795648. Object creation will fail if spilling is required.\n",
      "\u001b[33m(raylet)\u001b[0m [2023-11-22 10:02:07,070 E 7249 83408] (raylet) file_system_monitor.cc:111: /tmp/ray/session_2023-11-22_09-15-26_163949_7229 is over 95% full, available space: 3763404800; capacity: 494384795648. Object creation will fail if spilling is required.\n",
      "\u001b[33m(raylet)\u001b[0m [2023-11-22 10:02:17,131 E 7249 83408] (raylet) file_system_monitor.cc:111: /tmp/ray/session_2023-11-22_09-15-26_163949_7229 is over 95% full, available space: 3768991744; capacity: 494384795648. Object creation will fail if spilling is required.\n",
      "\u001b[33m(raylet)\u001b[0m [2023-11-22 10:02:27,140 E 7249 83408] (raylet) file_system_monitor.cc:111: /tmp/ray/session_2023-11-22_09-15-26_163949_7229 is over 95% full, available space: 3768070144; capacity: 494384795648. Object creation will fail if spilling is required.\n",
      "\u001b[33m(raylet)\u001b[0m [2023-11-22 10:02:37,239 E 7249 83408] (raylet) file_system_monitor.cc:111: /tmp/ray/session_2023-11-22_09-15-26_163949_7229 is over 95% full, available space: 3767889920; capacity: 494384795648. Object creation will fail if spilling is required.\n",
      "\u001b[33m(raylet)\u001b[0m [2023-11-22 10:02:47,339 E 7249 83408] (raylet) file_system_monitor.cc:111: /tmp/ray/session_2023-11-22_09-15-26_163949_7229 is over 95% full, available space: 3767582720; capacity: 494384795648. Object creation will fail if spilling is required.\n",
      "\u001b[33m(raylet)\u001b[0m [2023-11-22 10:02:57,341 E 7249 83408] (raylet) file_system_monitor.cc:111: /tmp/ray/session_2023-11-22_09-15-26_163949_7229 is over 95% full, available space: 3766288384; capacity: 494384795648. Object creation will fail if spilling is required.\n",
      "\u001b[33m(raylet)\u001b[0m [2023-11-22 10:03:07,348 E 7249 83408] (raylet) file_system_monitor.cc:111: /tmp/ray/session_2023-11-22_09-15-26_163949_7229 is over 95% full, available space: 3766075392; capacity: 494384795648. Object creation will fail if spilling is required.\n",
      "\u001b[33m(raylet)\u001b[0m [2023-11-22 10:03:17,352 E 7249 83408] (raylet) file_system_monitor.cc:111: /tmp/ray/session_2023-11-22_09-15-26_163949_7229 is over 95% full, available space: 3766050816; capacity: 494384795648. Object creation will fail if spilling is required.\n",
      "\u001b[33m(raylet)\u001b[0m [2023-11-22 10:03:27,450 E 7249 83408] (raylet) file_system_monitor.cc:111: /tmp/ray/session_2023-11-22_09-15-26_163949_7229 is over 95% full, available space: 3765751808; capacity: 494384795648. Object creation will fail if spilling is required.\n",
      "\u001b[33m(raylet)\u001b[0m [2023-11-22 10:03:37,453 E 7249 83408] (raylet) file_system_monitor.cc:111: /tmp/ray/session_2023-11-22_09-15-26_163949_7229 is over 95% full, available space: 3765530624; capacity: 494384795648. Object creation will fail if spilling is required.\n",
      "\u001b[33m(raylet)\u001b[0m [2023-11-22 10:03:47,453 E 7249 83408] (raylet) file_system_monitor.cc:111: /tmp/ray/session_2023-11-22_09-15-26_163949_7229 is over 95% full, available space: 3765334016; capacity: 494384795648. Object creation will fail if spilling is required.\n",
      "\u001b[33m(raylet)\u001b[0m [2023-11-22 10:03:57,553 E 7249 83408] (raylet) file_system_monitor.cc:111: /tmp/ray/session_2023-11-22_09-15-26_163949_7229 is over 95% full, available space: 3765129216; capacity: 494384795648. Object creation will fail if spilling is required.\n",
      "\u001b[33m(raylet)\u001b[0m [2023-11-22 10:04:07,651 E 7249 83408] (raylet) file_system_monitor.cc:111: /tmp/ray/session_2023-11-22_09-15-26_163949_7229 is over 95% full, available space: 3764920320; capacity: 494384795648. Object creation will fail if spilling is required.\n",
      "\u001b[33m(raylet)\u001b[0m [2023-11-22 10:04:17,750 E 7249 83408] (raylet) file_system_monitor.cc:111: /tmp/ray/session_2023-11-22_09-15-26_163949_7229 is over 95% full, available space: 3764736000; capacity: 494384795648. Object creation will fail if spilling is required.\n",
      "\u001b[33m(raylet)\u001b[0m [2023-11-22 10:04:27,850 E 7249 83408] (raylet) file_system_monitor.cc:111: /tmp/ray/session_2023-11-22_09-15-26_163949_7229 is over 95% full, available space: 3764490240; capacity: 494384795648. Object creation will fail if spilling is required.\n",
      "\u001b[33m(raylet)\u001b[0m [2023-11-22 10:04:37,852 E 7249 83408] (raylet) file_system_monitor.cc:111: /tmp/ray/session_2023-11-22_09-15-26_163949_7229 is over 95% full, available space: 3767050240; capacity: 494384795648. Object creation will fail if spilling is required.\n",
      "\u001b[33m(raylet)\u001b[0m [2023-11-22 10:04:47,854 E 7249 83408] (raylet) file_system_monitor.cc:111: /tmp/ray/session_2023-11-22_09-15-26_163949_7229 is over 95% full, available space: 3766820864; capacity: 494384795648. Object creation will fail if spilling is required.\n",
      "\u001b[33m(raylet)\u001b[0m [2023-11-22 10:04:57,858 E 7249 83408] (raylet) file_system_monitor.cc:111: /tmp/ray/session_2023-11-22_09-15-26_163949_7229 is over 95% full, available space: 3766788096; capacity: 494384795648. Object creation will fail if spilling is required.\n",
      "\u001b[33m(raylet)\u001b[0m [2023-11-22 10:05:07,867 E 7249 83408] (raylet) file_system_monitor.cc:111: /tmp/ray/session_2023-11-22_09-15-26_163949_7229 is over 95% full, available space: 3766579200; capacity: 494384795648. Object creation will fail if spilling is required.\n",
      "\u001b[33m(raylet)\u001b[0m [2023-11-22 10:05:17,968 E 7249 83408] (raylet) file_system_monitor.cc:111: /tmp/ray/session_2023-11-22_09-15-26_163949_7229 is over 95% full, available space: 3770073088; capacity: 494384795648. Object creation will fail if spilling is required.\n",
      "\u001b[33m(raylet)\u001b[0m [2023-11-22 10:05:28,064 E 7249 83408] (raylet) file_system_monitor.cc:111: /tmp/ray/session_2023-11-22_09-15-26_163949_7229 is over 95% full, available space: 3769884672; capacity: 494384795648. Object creation will fail if spilling is required.\n",
      "\u001b[33m(raylet)\u001b[0m [2023-11-22 10:05:38,162 E 7249 83408] (raylet) file_system_monitor.cc:111: /tmp/ray/session_2023-11-22_09-15-26_163949_7229 is over 95% full, available space: 3769643008; capacity: 494384795648. Object creation will fail if spilling is required.\n",
      "\u001b[33m(raylet)\u001b[0m [2023-11-22 10:05:48,262 E 7249 83408] (raylet) file_system_monitor.cc:111: /tmp/ray/session_2023-11-22_09-15-26_163949_7229 is over 95% full, available space: 3769450496; capacity: 494384795648. Object creation will fail if spilling is required.\n",
      "\u001b[33m(raylet)\u001b[0m [2023-11-22 10:05:58,354 E 7249 83408] (raylet) file_system_monitor.cc:111: /tmp/ray/session_2023-11-22_09-15-26_163949_7229 is over 95% full, available space: 3769061376; capacity: 494384795648. Object creation will fail if spilling is required.\n",
      "\u001b[33m(raylet)\u001b[0m [2023-11-22 10:06:08,358 E 7249 83408] (raylet) file_system_monitor.cc:111: /tmp/ray/session_2023-11-22_09-15-26_163949_7229 is over 95% full, available space: 3768754176; capacity: 494384795648. Object creation will fail if spilling is required.\n",
      "\u001b[33m(raylet)\u001b[0m [2023-11-22 10:06:18,459 E 7249 83408] (raylet) file_system_monitor.cc:111: /tmp/ray/session_2023-11-22_09-15-26_163949_7229 is over 95% full, available space: 3768721408; capacity: 494384795648. Object creation will fail if spilling is required.\n",
      "\u001b[33m(raylet)\u001b[0m [2023-11-22 10:06:28,463 E 7249 83408] (raylet) file_system_monitor.cc:111: /tmp/ray/session_2023-11-22_09-15-26_163949_7229 is over 95% full, available space: 3768184832; capacity: 494384795648. Object creation will fail if spilling is required.\n",
      "\u001b[33m(raylet)\u001b[0m [2023-11-22 10:06:38,463 E 7249 83408] (raylet) file_system_monitor.cc:111: /tmp/ray/session_2023-11-22_09-15-26_163949_7229 is over 95% full, available space: 3767951360; capacity: 494384795648. Object creation will fail if spilling is required.\n",
      "\u001b[33m(raylet)\u001b[0m [2023-11-22 10:06:48,486 E 7249 83408] (raylet) file_system_monitor.cc:111: /tmp/ray/session_2023-11-22_09-15-26_163949_7229 is over 95% full, available space: 3759788032; capacity: 494384795648. Object creation will fail if spilling is required.\n",
      "\u001b[33m(raylet)\u001b[0m [2023-11-22 10:06:58,531 E 7249 83408] (raylet) file_system_monitor.cc:111: /tmp/ray/session_2023-11-22_09-15-26_163949_7229 is over 95% full, available space: 3755175936; capacity: 494384795648. Object creation will fail if spilling is required.\n",
      "\u001b[33m(raylet)\u001b[0m [2023-11-22 10:07:08,571 E 7249 83408] (raylet) file_system_monitor.cc:111: /tmp/ray/session_2023-11-22_09-15-26_163949_7229 is over 95% full, available space: 3754184704; capacity: 494384795648. Object creation will fail if spilling is required.\n",
      "\u001b[33m(raylet)\u001b[0m [2023-11-22 10:07:18,599 E 7249 83408] (raylet) file_system_monitor.cc:111: /tmp/ray/session_2023-11-22_09-15-26_163949_7229 is over 95% full, available space: 3753963520; capacity: 494384795648. Object creation will fail if spilling is required.\n",
      "\u001b[33m(raylet)\u001b[0m [2023-11-22 10:07:28,600 E 7249 83408] (raylet) file_system_monitor.cc:111: /tmp/ray/session_2023-11-22_09-15-26_163949_7229 is over 95% full, available space: 3753840640; capacity: 494384795648. Object creation will fail if spilling is required.\n",
      "\u001b[33m(raylet)\u001b[0m [2023-11-22 10:07:38,700 E 7249 83408] (raylet) file_system_monitor.cc:111: /tmp/ray/session_2023-11-22_09-15-26_163949_7229 is over 95% full, available space: 3753230336; capacity: 494384795648. Object creation will fail if spilling is required.\n",
      "\u001b[33m(raylet)\u001b[0m [2023-11-22 10:07:48,707 E 7249 83408] (raylet) file_system_monitor.cc:111: /tmp/ray/session_2023-11-22_09-15-26_163949_7229 is over 95% full, available space: 3756089344; capacity: 494384795648. Object creation will fail if spilling is required.\n",
      "\u001b[33m(raylet)\u001b[0m [2023-11-22 10:07:58,751 E 7249 83408] (raylet) file_system_monitor.cc:111: /tmp/ray/session_2023-11-22_09-15-26_163949_7229 is over 95% full, available space: 3752775680; capacity: 494384795648. Object creation will fail if spilling is required.\n",
      "\u001b[33m(raylet)\u001b[0m [2023-11-22 10:08:08,772 E 7249 83408] (raylet) file_system_monitor.cc:111: /tmp/ray/session_2023-11-22_09-15-26_163949_7229 is over 95% full, available space: 3742027776; capacity: 494384795648. Object creation will fail if spilling is required.\n",
      "\u001b[33m(raylet)\u001b[0m [2023-11-22 10:08:18,777 E 7249 83408] (raylet) file_system_monitor.cc:111: /tmp/ray/session_2023-11-22_09-15-26_163949_7229 is over 95% full, available space: 3742711808; capacity: 494384795648. Object creation will fail if spilling is required.\n",
      "\u001b[33m(raylet)\u001b[0m [2023-11-22 10:08:28,876 E 7249 83408] (raylet) file_system_monitor.cc:111: /tmp/ray/session_2023-11-22_09-15-26_163949_7229 is over 95% full, available space: 3741704192; capacity: 494384795648. Object creation will fail if spilling is required.\n",
      "\u001b[33m(raylet)\u001b[0m [2023-11-22 10:08:38,972 E 7249 83408] (raylet) file_system_monitor.cc:111: /tmp/ray/session_2023-11-22_09-15-26_163949_7229 is over 95% full, available space: 3745497088; capacity: 494384795648. Object creation will fail if spilling is required.\n",
      "\u001b[33m(raylet)\u001b[0m [2023-11-22 10:08:48,978 E 7249 83408] (raylet) file_system_monitor.cc:111: /tmp/ray/session_2023-11-22_09-15-26_163949_7229 is over 95% full, available space: 3744698368; capacity: 494384795648. Object creation will fail if spilling is required.\n",
      "\u001b[33m(raylet)\u001b[0m [2023-11-22 10:08:59,075 E 7249 83408] (raylet) file_system_monitor.cc:111: /tmp/ray/session_2023-11-22_09-15-26_163949_7229 is over 95% full, available space: 3744206848; capacity: 494384795648. Object creation will fail if spilling is required.\n",
      "\u001b[33m(raylet)\u001b[0m [2023-11-22 10:09:09,076 E 7249 83408] (raylet) file_system_monitor.cc:111: /tmp/ray/session_2023-11-22_09-15-26_163949_7229 is over 95% full, available space: 3743997952; capacity: 494384795648. Object creation will fail if spilling is required.\n",
      "\u001b[33m(raylet)\u001b[0m [2023-11-22 10:09:19,165 E 7249 83408] (raylet) file_system_monitor.cc:111: /tmp/ray/session_2023-11-22_09-15-26_163949_7229 is over 95% full, available space: 3743539200; capacity: 494384795648. Object creation will fail if spilling is required.\n",
      "\u001b[33m(raylet)\u001b[0m [2023-11-22 10:09:29,256 E 7249 83408] (raylet) file_system_monitor.cc:111: /tmp/ray/session_2023-11-22_09-15-26_163949_7229 is over 95% full, available space: 3743109120; capacity: 494384795648. Object creation will fail if spilling is required.\n",
      "\u001b[33m(raylet)\u001b[0m [2023-11-22 10:09:39,257 E 7249 83408] (raylet) file_system_monitor.cc:111: /tmp/ray/session_2023-11-22_09-15-26_163949_7229 is over 95% full, available space: 3745878016; capacity: 494384795648. Object creation will fail if spilling is required.\n",
      "\u001b[33m(raylet)\u001b[0m [2023-11-22 10:09:49,356 E 7249 83408] (raylet) file_system_monitor.cc:111: /tmp/ray/session_2023-11-22_09-15-26_163949_7229 is over 95% full, available space: 3745820672; capacity: 494384795648. Object creation will fail if spilling is required.\n",
      "\u001b[33m(raylet)\u001b[0m [2023-11-22 10:09:59,455 E 7249 83408] (raylet) file_system_monitor.cc:111: /tmp/ray/session_2023-11-22_09-15-26_163949_7229 is over 95% full, available space: 3745607680; capacity: 494384795648. Object creation will fail if spilling is required.\n",
      "\u001b[33m(raylet)\u001b[0m [2023-11-22 10:10:09,547 E 7249 83408] (raylet) file_system_monitor.cc:111: /tmp/ray/session_2023-11-22_09-15-26_163949_7229 is over 95% full, available space: 3745378304; capacity: 494384795648. Object creation will fail if spilling is required.\n",
      "\u001b[33m(raylet)\u001b[0m [2023-11-22 10:10:19,639 E 7249 83408] (raylet) file_system_monitor.cc:111: /tmp/ray/session_2023-11-22_09-15-26_163949_7229 is over 95% full, available space: 3745116160; capacity: 494384795648. Object creation will fail if spilling is required.\n",
      "\u001b[33m(raylet)\u001b[0m [2023-11-22 10:10:29,738 E 7249 83408] (raylet) file_system_monitor.cc:111: /tmp/ray/session_2023-11-22_09-15-26_163949_7229 is over 95% full, available space: 3744718848; capacity: 494384795648. Object creation will fail if spilling is required.\n",
      "\u001b[33m(raylet)\u001b[0m [2023-11-22 10:10:39,832 E 7249 83408] (raylet) file_system_monitor.cc:111: /tmp/ray/session_2023-11-22_09-15-26_163949_7229 is over 95% full, available space: 3744493568; capacity: 494384795648. Object creation will fail if spilling is required.\n",
      "\u001b[33m(raylet)\u001b[0m [2023-11-22 10:10:49,840 E 7249 83408] (raylet) file_system_monitor.cc:111: /tmp/ray/session_2023-11-22_09-15-26_163949_7229 is over 95% full, available space: 3741257728; capacity: 494384795648. Object creation will fail if spilling is required.\n",
      "\u001b[33m(raylet)\u001b[0m [2023-11-22 10:10:59,853 E 7249 83408] (raylet) file_system_monitor.cc:111: /tmp/ray/session_2023-11-22_09-15-26_163949_7229 is over 95% full, available space: 3750375424; capacity: 494384795648. Object creation will fail if spilling is required.\n",
      "\u001b[33m(raylet)\u001b[0m [2023-11-22 10:11:09,868 E 7249 83408] (raylet) file_system_monitor.cc:111: /tmp/ray/session_2023-11-22_09-15-26_163949_7229 is over 95% full, available space: 3758391296; capacity: 494384795648. Object creation will fail if spilling is required.\n",
      "\u001b[33m(raylet)\u001b[0m [2023-11-22 10:11:19,874 E 7249 83408] (raylet) file_system_monitor.cc:111: /tmp/ray/session_2023-11-22_09-15-26_163949_7229 is over 95% full, available space: 3746054144; capacity: 494384795648. Object creation will fail if spilling is required.\n",
      "\u001b[33m(raylet)\u001b[0m [2023-11-22 10:11:29,877 E 7249 83408] (raylet) file_system_monitor.cc:111: /tmp/ray/session_2023-11-22_09-15-26_163949_7229 is over 95% full, available space: 3745599488; capacity: 494384795648. Object creation will fail if spilling is required.\n",
      "\u001b[33m(raylet)\u001b[0m [2023-11-22 10:11:39,895 E 7249 83408] (raylet) file_system_monitor.cc:111: /tmp/ray/session_2023-11-22_09-15-26_163949_7229 is over 95% full, available space: 3743977472; capacity: 494384795648. Object creation will fail if spilling is required.\n",
      "\u001b[33m(raylet)\u001b[0m [2023-11-22 10:11:49,989 E 7249 83408] (raylet) file_system_monitor.cc:111: /tmp/ray/session_2023-11-22_09-15-26_163949_7229 is over 95% full, available space: 3743768576; capacity: 494384795648. Object creation will fail if spilling is required.\n",
      "\u001b[33m(raylet)\u001b[0m [2023-11-22 10:12:00,075 E 7249 83408] (raylet) file_system_monitor.cc:111: /tmp/ray/session_2023-11-22_09-15-26_163949_7229 is over 95% full, available space: 3743748096; capacity: 494384795648. Object creation will fail if spilling is required.\n",
      "\u001b[33m(raylet)\u001b[0m [2023-11-22 10:12:10,173 E 7249 83408] (raylet) file_system_monitor.cc:111: /tmp/ray/session_2023-11-22_09-15-26_163949_7229 is over 95% full, available space: 3743821824; capacity: 494384795648. Object creation will fail if spilling is required.\n",
      "\u001b[33m(raylet)\u001b[0m [2023-11-22 10:12:20,271 E 7249 83408] (raylet) file_system_monitor.cc:111: /tmp/ray/session_2023-11-22_09-15-26_163949_7229 is over 95% full, available space: 3743481856; capacity: 494384795648. Object creation will fail if spilling is required.\n",
      "\u001b[33m(raylet)\u001b[0m [2023-11-22 10:12:30,365 E 7249 83408] (raylet) file_system_monitor.cc:111: /tmp/ray/session_2023-11-22_09-15-26_163949_7229 is over 95% full, available space: 3743182848; capacity: 494384795648. Object creation will fail if spilling is required.\n",
      "\u001b[33m(raylet)\u001b[0m [2023-11-22 10:12:40,465 E 7249 83408] (raylet) file_system_monitor.cc:111: /tmp/ray/session_2023-11-22_09-15-26_163949_7229 is over 95% full, available space: 3742965760; capacity: 494384795648. Object creation will fail if spilling is required.\n",
      "\u001b[33m(raylet)\u001b[0m [2023-11-22 10:12:50,555 E 7249 83408] (raylet) file_system_monitor.cc:111: /tmp/ray/session_2023-11-22_09-15-26_163949_7229 is over 95% full, available space: 3742765056; capacity: 494384795648. Object creation will fail if spilling is required.\n",
      "\u001b[33m(raylet)\u001b[0m [2023-11-22 10:13:00,645 E 7249 83408] (raylet) file_system_monitor.cc:111: /tmp/ray/session_2023-11-22_09-15-26_163949_7229 is over 95% full, available space: 3742445568; capacity: 494384795648. Object creation will fail if spilling is required.\n",
      "\u001b[33m(raylet)\u001b[0m [2023-11-22 10:13:10,731 E 7249 83408] (raylet) file_system_monitor.cc:111: /tmp/ray/session_2023-11-22_09-15-26_163949_7229 is over 95% full, available space: 3742257152; capacity: 494384795648. Object creation will fail if spilling is required.\n",
      "\u001b[33m(raylet)\u001b[0m [2023-11-22 10:13:20,824 E 7249 83408] (raylet) file_system_monitor.cc:111: /tmp/ray/session_2023-11-22_09-15-26_163949_7229 is over 95% full, available space: 3742035968; capacity: 494384795648. Object creation will fail if spilling is required.\n",
      "\u001b[33m(raylet)\u001b[0m [2023-11-22 10:13:30,828 E 7249 83408] (raylet) file_system_monitor.cc:111: /tmp/ray/session_2023-11-22_09-15-26_163949_7229 is over 95% full, available space: 3742818304; capacity: 494384795648. Object creation will fail if spilling is required.\n",
      "\u001b[33m(raylet)\u001b[0m [2023-11-22 10:13:40,911 E 7249 83408] (raylet) file_system_monitor.cc:111: /tmp/ray/session_2023-11-22_09-15-26_163949_7229 is over 95% full, available space: 3754176512; capacity: 494384795648. Object creation will fail if spilling is required.\n",
      "\u001b[33m(raylet)\u001b[0m [2023-11-22 10:13:50,997 E 7249 83408] (raylet) file_system_monitor.cc:111: /tmp/ray/session_2023-11-22_09-15-26_163949_7229 is over 95% full, available space: 3753082880; capacity: 494384795648. Object creation will fail if spilling is required.\n",
      "\u001b[33m(raylet)\u001b[0m [2023-11-22 10:14:00,997 E 7249 83408] (raylet) file_system_monitor.cc:111: /tmp/ray/session_2023-11-22_09-15-26_163949_7229 is over 95% full, available space: 3754377216; capacity: 494384795648. Object creation will fail if spilling is required.\n",
      "\u001b[33m(raylet)\u001b[0m [2023-11-22 10:14:11,090 E 7249 83408] (raylet) file_system_monitor.cc:111: /tmp/ray/session_2023-11-22_09-15-26_163949_7229 is over 95% full, available space: 3754106880; capacity: 494384795648. Object creation will fail if spilling is required.\n",
      "\u001b[33m(raylet)\u001b[0m [2023-11-22 10:14:21,183 E 7249 83408] (raylet) file_system_monitor.cc:111: /tmp/ray/session_2023-11-22_09-15-26_163949_7229 is over 95% full, available space: 3753766912; capacity: 494384795648. Object creation will fail if spilling is required.\n",
      "\u001b[33m(raylet)\u001b[0m [2023-11-22 10:14:31,282 E 7249 83408] (raylet) file_system_monitor.cc:111: /tmp/ray/session_2023-11-22_09-15-26_163949_7229 is over 95% full, available space: 3753504768; capacity: 494384795648. Object creation will fail if spilling is required.\n",
      "\u001b[33m(raylet)\u001b[0m [2023-11-22 10:14:41,381 E 7249 83408] (raylet) file_system_monitor.cc:111: /tmp/ray/session_2023-11-22_09-15-26_163949_7229 is over 95% full, available space: 3757203456; capacity: 494384795648. Object creation will fail if spilling is required.\n",
      "\u001b[33m(raylet)\u001b[0m [2023-11-22 10:14:51,475 E 7249 83408] (raylet) file_system_monitor.cc:111: /tmp/ray/session_2023-11-22_09-15-26_163949_7229 is over 95% full, available space: 3766231040; capacity: 494384795648. Object creation will fail if spilling is required.\n",
      "\u001b[33m(raylet)\u001b[0m [2023-11-22 10:15:01,574 E 7249 83408] (raylet) file_system_monitor.cc:111: /tmp/ray/session_2023-11-22_09-15-26_163949_7229 is over 95% full, available space: 3765514240; capacity: 494384795648. Object creation will fail if spilling is required.\n",
      "\u001b[33m(raylet)\u001b[0m [2023-11-22 10:15:11,667 E 7249 83408] (raylet) file_system_monitor.cc:111: /tmp/ray/session_2023-11-22_09-15-26_163949_7229 is over 95% full, available space: 3765305344; capacity: 494384795648. Object creation will fail if spilling is required.\n",
      "\u001b[33m(raylet)\u001b[0m [2023-11-22 10:15:21,757 E 7249 83408] (raylet) file_system_monitor.cc:111: /tmp/ray/session_2023-11-22_09-15-26_163949_7229 is over 95% full, available space: 3765112832; capacity: 494384795648. Object creation will fail if spilling is required.\n",
      "\u001b[33m(raylet)\u001b[0m [2023-11-22 10:15:31,849 E 7249 83408] (raylet) file_system_monitor.cc:111: /tmp/ray/session_2023-11-22_09-15-26_163949_7229 is over 95% full, available space: 3764862976; capacity: 494384795648. Object creation will fail if spilling is required.\n",
      "\u001b[33m(raylet)\u001b[0m [2023-11-22 10:15:41,947 E 7249 83408] (raylet) file_system_monitor.cc:111: /tmp/ray/session_2023-11-22_09-15-26_163949_7229 is over 95% full, available space: 3764617216; capacity: 494384795648. Object creation will fail if spilling is required.\n",
      "\u001b[33m(raylet)\u001b[0m [2023-11-22 10:15:52,035 E 7249 83408] (raylet) file_system_monitor.cc:111: /tmp/ray/session_2023-11-22_09-15-26_163949_7229 is over 95% full, available space: 3764338688; capacity: 494384795648. Object creation will fail if spilling is required.\n",
      "\u001b[33m(raylet)\u001b[0m [2023-11-22 10:16:02,120 E 7249 83408] (raylet) file_system_monitor.cc:111: /tmp/ray/session_2023-11-22_09-15-26_163949_7229 is over 95% full, available space: 3763957760; capacity: 494384795648. Object creation will fail if spilling is required.\n",
      "\u001b[33m(raylet)\u001b[0m [2023-11-22 10:16:12,218 E 7249 83408] (raylet) file_system_monitor.cc:111: /tmp/ray/session_2023-11-22_09-15-26_163949_7229 is over 95% full, available space: 3763752960; capacity: 494384795648. Object creation will fail if spilling is required.\n",
      "\u001b[33m(raylet)\u001b[0m [2023-11-22 10:16:22,314 E 7249 83408] (raylet) file_system_monitor.cc:111: /tmp/ray/session_2023-11-22_09-15-26_163949_7229 is over 95% full, available space: 3763453952; capacity: 494384795648. Object creation will fail if spilling is required.\n",
      "\u001b[33m(raylet)\u001b[0m [2023-11-22 10:16:32,315 E 7249 83408] (raylet) file_system_monitor.cc:111: /tmp/ray/session_2023-11-22_09-15-26_163949_7229 is over 95% full, available space: 3763077120; capacity: 494384795648. Object creation will fail if spilling is required.\n",
      "\u001b[33m(raylet)\u001b[0m [2023-11-22 10:16:42,410 E 7249 83408] (raylet) file_system_monitor.cc:111: /tmp/ray/session_2023-11-22_09-15-26_163949_7229 is over 95% full, available space: 3763056640; capacity: 494384795648. Object creation will fail if spilling is required.\n",
      "\u001b[33m(raylet)\u001b[0m [2023-11-22 10:16:52,502 E 7249 83408] (raylet) file_system_monitor.cc:111: /tmp/ray/session_2023-11-22_09-15-26_163949_7229 is over 95% full, available space: 3762855936; capacity: 494384795648. Object creation will fail if spilling is required.\n",
      "\u001b[33m(raylet)\u001b[0m [2023-11-22 10:17:02,597 E 7249 83408] (raylet) file_system_monitor.cc:111: /tmp/ray/session_2023-11-22_09-15-26_163949_7229 is over 95% full, available space: 3762630656; capacity: 494384795648. Object creation will fail if spilling is required.\n",
      "\u001b[33m(raylet)\u001b[0m [2023-11-22 10:17:12,688 E 7249 83408] (raylet) file_system_monitor.cc:111: /tmp/ray/session_2023-11-22_09-15-26_163949_7229 is over 95% full, available space: 3762401280; capacity: 494384795648. Object creation will fail if spilling is required.\n",
      "\u001b[33m(raylet)\u001b[0m [2023-11-22 10:17:22,786 E 7249 83408] (raylet) file_system_monitor.cc:111: /tmp/ray/session_2023-11-22_09-15-26_163949_7229 is over 95% full, available space: 3762184192; capacity: 494384795648. Object creation will fail if spilling is required.\n",
      "\u001b[33m(raylet)\u001b[0m [2023-11-22 10:17:32,878 E 7249 83408] (raylet) file_system_monitor.cc:111: /tmp/ray/session_2023-11-22_09-15-26_163949_7229 is over 95% full, available space: 3761917952; capacity: 494384795648. Object creation will fail if spilling is required.\n",
      "\u001b[33m(raylet)\u001b[0m [2023-11-22 10:17:42,974 E 7249 83408] (raylet) file_system_monitor.cc:111: /tmp/ray/session_2023-11-22_09-15-26_163949_7229 is over 95% full, available space: 3761684480; capacity: 494384795648. Object creation will fail if spilling is required.\n",
      "\u001b[33m(raylet)\u001b[0m [2023-11-22 10:17:53,065 E 7249 83408] (raylet) file_system_monitor.cc:111: /tmp/ray/session_2023-11-22_09-15-26_163949_7229 is over 95% full, available space: 3761471488; capacity: 494384795648. Object creation will fail if spilling is required.\n",
      "\u001b[33m(raylet)\u001b[0m [2023-11-22 10:18:03,066 E 7249 83408] (raylet) file_system_monitor.cc:111: /tmp/ray/session_2023-11-22_09-15-26_163949_7229 is over 95% full, available space: 3761127424; capacity: 494384795648. Object creation will fail if spilling is required.\n",
      "\u001b[33m(raylet)\u001b[0m [2023-11-22 10:18:13,157 E 7249 83408] (raylet) file_system_monitor.cc:111: /tmp/ray/session_2023-11-22_09-15-26_163949_7229 is over 95% full, available space: 3761106944; capacity: 494384795648. Object creation will fail if spilling is required.\n",
      "\u001b[33m(raylet)\u001b[0m [2023-11-22 10:18:23,249 E 7249 83408] (raylet) file_system_monitor.cc:111: /tmp/ray/session_2023-11-22_09-15-26_163949_7229 is over 95% full, available space: 3760832512; capacity: 494384795648. Object creation will fail if spilling is required.\n",
      "\u001b[33m(raylet)\u001b[0m [2023-11-22 10:18:33,285 E 7249 83408] (raylet) file_system_monitor.cc:111: /tmp/ray/session_2023-11-22_09-15-26_163949_7229 is over 95% full, available space: 3759255552; capacity: 494384795648. Object creation will fail if spilling is required.\n",
      "\u001b[33m(raylet)\u001b[0m [2023-11-22 10:18:43,305 E 7249 83408] (raylet) file_system_monitor.cc:111: /tmp/ray/session_2023-11-22_09-15-26_163949_7229 is over 95% full, available space: 3759128576; capacity: 494384795648. Object creation will fail if spilling is required.\n",
      "\u001b[33m(raylet)\u001b[0m [2023-11-22 10:18:53,403 E 7249 83408] (raylet) file_system_monitor.cc:111: /tmp/ray/session_2023-11-22_09-15-26_163949_7229 is over 95% full, available space: 3759108096; capacity: 494384795648. Object creation will fail if spilling is required.\n",
      "\u001b[33m(raylet)\u001b[0m [2023-11-22 10:19:03,497 E 7249 83408] (raylet) file_system_monitor.cc:111: /tmp/ray/session_2023-11-22_09-15-26_163949_7229 is over 95% full, available space: 3758911488; capacity: 494384795648. Object creation will fail if spilling is required.\n",
      "\u001b[33m(raylet)\u001b[0m [2023-11-22 10:19:13,521 E 7249 83408] (raylet) file_system_monitor.cc:111: /tmp/ray/session_2023-11-22_09-15-26_163949_7229 is over 95% full, available space: 3758473216; capacity: 494384795648. Object creation will fail if spilling is required.\n",
      "\u001b[33m(raylet)\u001b[0m [2023-11-22 10:19:23,610 E 7249 83408] (raylet) file_system_monitor.cc:111: /tmp/ray/session_2023-11-22_09-15-26_163949_7229 is over 95% full, available space: 3758387200; capacity: 494384795648. Object creation will fail if spilling is required.\n",
      "\u001b[33m(raylet)\u001b[0m [2023-11-22 10:19:33,707 E 7249 83408] (raylet) file_system_monitor.cc:111: /tmp/ray/session_2023-11-22_09-15-26_163949_7229 is over 95% full, available space: 3757973504; capacity: 494384795648. Object creation will fail if spilling is required.\n",
      "\u001b[33m(raylet)\u001b[0m [2023-11-22 10:19:43,799 E 7249 83408] (raylet) file_system_monitor.cc:111: /tmp/ray/session_2023-11-22_09-15-26_163949_7229 is over 95% full, available space: 3761856512; capacity: 494384795648. Object creation will fail if spilling is required.\n",
      "\u001b[33m(raylet)\u001b[0m [2023-11-22 10:19:53,893 E 7249 83408] (raylet) file_system_monitor.cc:111: /tmp/ray/session_2023-11-22_09-15-26_163949_7229 is over 95% full, available space: 3760996352; capacity: 494384795648. Object creation will fail if spilling is required.\n",
      "\u001b[33m(raylet)\u001b[0m [2023-11-22 10:20:03,901 E 7249 83408] (raylet) file_system_monitor.cc:111: /tmp/ray/session_2023-11-22_09-15-26_163949_7229 is over 95% full, available space: 3760775168; capacity: 494384795648. Object creation will fail if spilling is required.\n",
      "\u001b[33m(raylet)\u001b[0m [2023-11-22 10:20:13,906 E 7249 83408] (raylet) file_system_monitor.cc:111: /tmp/ray/session_2023-11-22_09-15-26_163949_7229 is over 95% full, available space: 3760386048; capacity: 494384795648. Object creation will fail if spilling is required.\n",
      "\u001b[33m(raylet)\u001b[0m [2023-11-22 10:20:23,909 E 7249 83408] (raylet) file_system_monitor.cc:111: /tmp/ray/session_2023-11-22_09-15-26_163949_7229 is over 95% full, available space: 3759943680; capacity: 494384795648. Object creation will fail if spilling is required.\n",
      "\u001b[33m(raylet)\u001b[0m [2023-11-22 10:20:33,911 E 7249 83408] (raylet) file_system_monitor.cc:111: /tmp/ray/session_2023-11-22_09-15-26_163949_7229 is over 95% full, available space: 3759431680; capacity: 494384795648. Object creation will fail if spilling is required.\n",
      "\u001b[33m(raylet)\u001b[0m [2023-11-22 10:20:43,917 E 7249 83408] (raylet) file_system_monitor.cc:111: /tmp/ray/session_2023-11-22_09-15-26_163949_7229 is over 95% full, available space: 3757641728; capacity: 494384795648. Object creation will fail if spilling is required.\n",
      "\u001b[33m(raylet)\u001b[0m [2023-11-22 10:20:53,941 E 7249 83408] (raylet) file_system_monitor.cc:111: /tmp/ray/session_2023-11-22_09-15-26_163949_7229 is over 95% full, available space: 3685507072; capacity: 494384795648. Object creation will fail if spilling is required.\n",
      "\u001b[33m(raylet)\u001b[0m [2023-11-22 10:21:03,944 E 7249 83408] (raylet) file_system_monitor.cc:111: /tmp/ray/session_2023-11-22_09-15-26_163949_7229 is over 95% full, available space: 3678773248; capacity: 494384795648. Object creation will fail if spilling is required.\n",
      "\u001b[33m(raylet)\u001b[0m [2023-11-22 10:21:14,045 E 7249 83408] (raylet) file_system_monitor.cc:111: /tmp/ray/session_2023-11-22_09-15-26_163949_7229 is over 95% full, available space: 3678736384; capacity: 494384795648. Object creation will fail if spilling is required.\n",
      "\u001b[33m(raylet)\u001b[0m [2023-11-22 10:21:24,143 E 7249 83408] (raylet) file_system_monitor.cc:111: /tmp/ray/session_2023-11-22_09-15-26_163949_7229 is over 95% full, available space: 3678482432; capacity: 494384795648. Object creation will fail if spilling is required.\n",
      "\u001b[33m(raylet)\u001b[0m [2023-11-22 10:21:34,151 E 7249 83408] (raylet) file_system_monitor.cc:111: /tmp/ray/session_2023-11-22_09-15-26_163949_7229 is over 95% full, available space: 3678228480; capacity: 494384795648. Object creation will fail if spilling is required.\n",
      "\u001b[33m(raylet)\u001b[0m [2023-11-22 10:21:44,169 E 7249 83408] (raylet) file_system_monitor.cc:111: /tmp/ray/session_2023-11-22_09-15-26_163949_7229 is over 95% full, available space: 3678220288; capacity: 494384795648. Object creation will fail if spilling is required.\n",
      "\u001b[33m(raylet)\u001b[0m [2023-11-22 10:21:54,269 E 7249 83408] (raylet) file_system_monitor.cc:111: /tmp/ray/session_2023-11-22_09-15-26_163949_7229 is over 95% full, available space: 3678007296; capacity: 494384795648. Object creation will fail if spilling is required.\n",
      "\u001b[33m(raylet)\u001b[0m [2023-11-22 10:22:04,270 E 7249 83408] (raylet) file_system_monitor.cc:111: /tmp/ray/session_2023-11-22_09-15-26_163949_7229 is over 95% full, available space: 3677646848; capacity: 494384795648. Object creation will fail if spilling is required.\n",
      "\u001b[33m(raylet)\u001b[0m [2023-11-22 10:22:14,277 E 7249 83408] (raylet) file_system_monitor.cc:111: /tmp/ray/session_2023-11-22_09-15-26_163949_7229 is over 95% full, available space: 3677409280; capacity: 494384795648. Object creation will fail if spilling is required.\n",
      "\u001b[33m(raylet)\u001b[0m [2023-11-22 10:22:24,294 E 7249 83408] (raylet) file_system_monitor.cc:111: /tmp/ray/session_2023-11-22_09-15-26_163949_7229 is over 95% full, available space: 3677261824; capacity: 494384795648. Object creation will fail if spilling is required.\n",
      "\u001b[33m(raylet)\u001b[0m [2023-11-22 10:22:34,297 E 7249 83408] (raylet) file_system_monitor.cc:111: /tmp/ray/session_2023-11-22_09-15-26_163949_7229 is over 95% full, available space: 3676852224; capacity: 494384795648. Object creation will fail if spilling is required.\n",
      "\u001b[33m(raylet)\u001b[0m [2023-11-22 10:22:44,307 E 7249 83408] (raylet) file_system_monitor.cc:111: /tmp/ray/session_2023-11-22_09-15-26_163949_7229 is over 95% full, available space: 3676639232; capacity: 494384795648. Object creation will fail if spilling is required.\n",
      "\u001b[33m(raylet)\u001b[0m [2023-11-22 10:22:54,307 E 7249 83408] (raylet) file_system_monitor.cc:111: /tmp/ray/session_2023-11-22_09-15-26_163949_7229 is over 95% full, available space: 3676397568; capacity: 494384795648. Object creation will fail if spilling is required.\n",
      "\u001b[33m(raylet)\u001b[0m [2023-11-22 10:23:04,315 E 7249 83408] (raylet) file_system_monitor.cc:111: /tmp/ray/session_2023-11-22_09-15-26_163949_7229 is over 95% full, available space: 3676311552; capacity: 494384795648. Object creation will fail if spilling is required.\n",
      "\u001b[33m(raylet)\u001b[0m [2023-11-22 10:23:14,317 E 7249 83408] (raylet) file_system_monitor.cc:111: /tmp/ray/session_2023-11-22_09-15-26_163949_7229 is over 95% full, available space: 3676307456; capacity: 494384795648. Object creation will fail if spilling is required.\n",
      "\u001b[33m(raylet)\u001b[0m [2023-11-22 10:23:24,417 E 7249 83408] (raylet) file_system_monitor.cc:111: /tmp/ray/session_2023-11-22_09-15-26_163949_7229 is over 95% full, available space: 3676000256; capacity: 494384795648. Object creation will fail if spilling is required.\n",
      "\u001b[33m(raylet)\u001b[0m [2023-11-22 10:23:34,427 E 7249 83408] (raylet) file_system_monitor.cc:111: /tmp/ray/session_2023-11-22_09-15-26_163949_7229 is over 95% full, available space: 3675840512; capacity: 494384795648. Object creation will fail if spilling is required.\n",
      "\u001b[33m(raylet)\u001b[0m [2023-11-22 10:23:44,445 E 7249 83408] (raylet) file_system_monitor.cc:111: /tmp/ray/session_2023-11-22_09-15-26_163949_7229 is over 95% full, available space: 3666640896; capacity: 494384795648. Object creation will fail if spilling is required.\n",
      "\u001b[33m(raylet)\u001b[0m [2023-11-22 10:23:54,446 E 7249 83408] (raylet) file_system_monitor.cc:111: /tmp/ray/session_2023-11-22_09-15-26_163949_7229 is over 95% full, available space: 3675176960; capacity: 494384795648. Object creation will fail if spilling is required.\n",
      "\u001b[33m(raylet)\u001b[0m [2023-11-22 10:24:04,547 E 7249 83408] (raylet) file_system_monitor.cc:111: /tmp/ray/session_2023-11-22_09-15-26_163949_7229 is over 95% full, available space: 3675168768; capacity: 494384795648. Object creation will fail if spilling is required.\n",
      "\u001b[33m(raylet)\u001b[0m [2023-11-22 10:24:14,563 E 7249 83408] (raylet) file_system_monitor.cc:111: /tmp/ray/session_2023-11-22_09-15-26_163949_7229 is over 95% full, available space: 3674955776; capacity: 494384795648. Object creation will fail if spilling is required.\n",
      "\u001b[33m(raylet)\u001b[0m [2023-11-22 10:24:24,654 E 7249 83408] (raylet) file_system_monitor.cc:111: /tmp/ray/session_2023-11-22_09-15-26_163949_7229 is over 95% full, available space: 3674898432; capacity: 494384795648. Object creation will fail if spilling is required.\n",
      "\u001b[33m(raylet)\u001b[0m [2023-11-22 10:24:34,654 E 7249 83408] (raylet) file_system_monitor.cc:111: /tmp/ray/session_2023-11-22_09-15-26_163949_7229 is over 95% full, available space: 3676901376; capacity: 494384795648. Object creation will fail if spilling is required.\n",
      "\u001b[33m(raylet)\u001b[0m [2023-11-22 10:24:44,663 E 7249 83408] (raylet) file_system_monitor.cc:111: /tmp/ray/session_2023-11-22_09-15-26_163949_7229 is over 95% full, available space: 3677458432; capacity: 494384795648. Object creation will fail if spilling is required.\n",
      "\u001b[33m(raylet)\u001b[0m [2023-11-22 10:24:54,669 E 7249 83408] (raylet) file_system_monitor.cc:111: /tmp/ray/session_2023-11-22_09-15-26_163949_7229 is over 95% full, available space: 3677429760; capacity: 494384795648. Object creation will fail if spilling is required.\n",
      "\u001b[33m(raylet)\u001b[0m [2023-11-22 10:25:04,676 E 7249 83408] (raylet) file_system_monitor.cc:111: /tmp/ray/session_2023-11-22_09-15-26_163949_7229 is over 95% full, available space: 3677196288; capacity: 494384795648. Object creation will fail if spilling is required.\n",
      "\u001b[33m(raylet)\u001b[0m [2023-11-22 10:25:14,773 E 7249 83408] (raylet) file_system_monitor.cc:111: /tmp/ray/session_2023-11-22_09-15-26_163949_7229 is over 95% full, available space: 3676905472; capacity: 494384795648. Object creation will fail if spilling is required.\n",
      "\u001b[33m(raylet)\u001b[0m [2023-11-22 10:25:24,782 E 7249 83408] (raylet) file_system_monitor.cc:111: /tmp/ray/session_2023-11-22_09-15-26_163949_7229 is over 95% full, available space: 3676827648; capacity: 494384795648. Object creation will fail if spilling is required.\n",
      "\u001b[33m(raylet)\u001b[0m [2023-11-22 10:25:34,882 E 7249 83408] (raylet) file_system_monitor.cc:111: /tmp/ray/session_2023-11-22_09-15-26_163949_7229 is over 95% full, available space: 3676418048; capacity: 494384795648. Object creation will fail if spilling is required.\n",
      "\u001b[33m(raylet)\u001b[0m [2023-11-22 10:25:44,979 E 7249 83408] (raylet) file_system_monitor.cc:111: /tmp/ray/session_2023-11-22_09-15-26_163949_7229 is over 95% full, available space: 3676180480; capacity: 494384795648. Object creation will fail if spilling is required.\n",
      "\u001b[33m(raylet)\u001b[0m [2023-11-22 10:25:55,077 E 7249 83408] (raylet) file_system_monitor.cc:111: /tmp/ray/session_2023-11-22_09-15-26_163949_7229 is over 95% full, available space: 3675951104; capacity: 494384795648. Object creation will fail if spilling is required.\n",
      "\u001b[33m(raylet)\u001b[0m [2023-11-22 10:26:05,079 E 7249 83408] (raylet) file_system_monitor.cc:111: /tmp/ray/session_2023-11-22_09-15-26_163949_7229 is over 95% full, available space: 3675594752; capacity: 494384795648. Object creation will fail if spilling is required.\n",
      "\u001b[33m(raylet)\u001b[0m [2023-11-22 10:26:15,175 E 7249 83408] (raylet) file_system_monitor.cc:111: /tmp/ray/session_2023-11-22_09-15-26_163949_7229 is over 95% full, available space: 3675578368; capacity: 494384795648. Object creation will fail if spilling is required.\n",
      "\u001b[33m(raylet)\u001b[0m [2023-11-22 10:26:25,276 E 7249 83408] (raylet) file_system_monitor.cc:111: /tmp/ray/session_2023-11-22_09-15-26_163949_7229 is over 95% full, available space: 3675172864; capacity: 494384795648. Object creation will fail if spilling is required.\n",
      "\u001b[33m(raylet)\u001b[0m [2023-11-22 10:26:35,281 E 7249 83408] (raylet) file_system_monitor.cc:111: /tmp/ray/session_2023-11-22_09-15-26_163949_7229 is over 95% full, available space: 3674976256; capacity: 494384795648. Object creation will fail if spilling is required.\n",
      "\u001b[33m(raylet)\u001b[0m [2023-11-22 10:26:45,369 E 7249 83408] (raylet) file_system_monitor.cc:111: /tmp/ray/session_2023-11-22_09-15-26_163949_7229 is over 95% full, available space: 3763191808; capacity: 494384795648. Object creation will fail if spilling is required.\n",
      "\u001b[33m(raylet)\u001b[0m [2023-11-22 10:26:55,463 E 7249 83408] (raylet) file_system_monitor.cc:111: /tmp/ray/session_2023-11-22_09-15-26_163949_7229 is over 95% full, available space: 3762413568; capacity: 494384795648. Object creation will fail if spilling is required.\n",
      "\u001b[33m(raylet)\u001b[0m [2023-11-22 10:27:05,464 E 7249 83408] (raylet) file_system_monitor.cc:111: /tmp/ray/session_2023-11-22_09-15-26_163949_7229 is over 95% full, available space: 3761467392; capacity: 494384795648. Object creation will fail if spilling is required.\n",
      "\u001b[33m(raylet)\u001b[0m [2023-11-22 10:27:15,556 E 7249 83408] (raylet) file_system_monitor.cc:111: /tmp/ray/session_2023-11-22_09-15-26_163949_7229 is over 95% full, available space: 3761213440; capacity: 494384795648. Object creation will fail if spilling is required.\n",
      "\u001b[33m(raylet)\u001b[0m [2023-11-22 10:27:25,650 E 7249 83408] (raylet) file_system_monitor.cc:111: /tmp/ray/session_2023-11-22_09-15-26_163949_7229 is over 95% full, available space: 3760959488; capacity: 494384795648. Object creation will fail if spilling is required.\n",
      "\u001b[33m(raylet)\u001b[0m [2023-11-22 10:27:35,738 E 7249 83408] (raylet) file_system_monitor.cc:111: /tmp/ray/session_2023-11-22_09-15-26_163949_7229 is over 95% full, available space: 3760533504; capacity: 494384795648. Object creation will fail if spilling is required.\n",
      "\u001b[33m(raylet)\u001b[0m [2023-11-22 10:27:45,835 E 7249 83408] (raylet) file_system_monitor.cc:111: /tmp/ray/session_2023-11-22_09-15-26_163949_7229 is over 95% full, available space: 3760300032; capacity: 494384795648. Object creation will fail if spilling is required.\n",
      "\u001b[33m(raylet)\u001b[0m [2023-11-22 10:27:55,929 E 7249 83408] (raylet) file_system_monitor.cc:111: /tmp/ray/session_2023-11-22_09-15-26_163949_7229 is over 95% full, available space: 3759620096; capacity: 494384795648. Object creation will fail if spilling is required.\n",
      "\u001b[33m(raylet)\u001b[0m [2023-11-22 10:28:06,019 E 7249 83408] (raylet) file_system_monitor.cc:111: /tmp/ray/session_2023-11-22_09-15-26_163949_7229 is over 95% full, available space: 3759374336; capacity: 494384795648. Object creation will fail if spilling is required.\n",
      "\u001b[33m(raylet)\u001b[0m [2023-11-22 10:28:16,106 E 7249 83408] (raylet) file_system_monitor.cc:111: /tmp/ray/session_2023-11-22_09-15-26_163949_7229 is over 95% full, available space: 3759149056; capacity: 494384795648. Object creation will fail if spilling is required.\n",
      "\u001b[33m(raylet)\u001b[0m [2023-11-22 10:28:26,186 E 7249 83408] (raylet) file_system_monitor.cc:111: /tmp/ray/session_2023-11-22_09-15-26_163949_7229 is over 95% full, available space: 3758329856; capacity: 494384795648. Object creation will fail if spilling is required.\n",
      "\u001b[33m(raylet)\u001b[0m [2023-11-22 10:28:36,273 E 7249 83408] (raylet) file_system_monitor.cc:111: /tmp/ray/session_2023-11-22_09-15-26_163949_7229 is over 95% full, available space: 3757527040; capacity: 494384795648. Object creation will fail if spilling is required.\n",
      "\u001b[33m(raylet)\u001b[0m [2023-11-22 10:28:46,360 E 7249 83408] (raylet) file_system_monitor.cc:111: /tmp/ray/session_2023-11-22_09-15-26_163949_7229 is over 95% full, available space: 3757285376; capacity: 494384795648. Object creation will fail if spilling is required.\n",
      "\u001b[33m(raylet)\u001b[0m [2023-11-22 10:28:56,446 E 7249 83408] (raylet) file_system_monitor.cc:111: /tmp/ray/session_2023-11-22_09-15-26_163949_7229 is over 95% full, available space: 3763687424; capacity: 494384795648. Object creation will fail if spilling is required.\n",
      "\u001b[33m(raylet)\u001b[0m [2023-11-22 10:29:06,530 E 7249 83408] (raylet) file_system_monitor.cc:111: /tmp/ray/session_2023-11-22_09-15-26_163949_7229 is over 95% full, available space: 3763404800; capacity: 494384795648. Object creation will fail if spilling is required.\n",
      "\u001b[33m(raylet)\u001b[0m [2023-11-22 10:29:16,618 E 7249 83408] (raylet) file_system_monitor.cc:111: /tmp/ray/session_2023-11-22_09-15-26_163949_7229 is over 95% full, available space: 3763142656; capacity: 494384795648. Object creation will fail if spilling is required.\n",
      "\u001b[33m(raylet)\u001b[0m [2023-11-22 10:29:26,707 E 7249 83408] (raylet) file_system_monitor.cc:111: /tmp/ray/session_2023-11-22_09-15-26_163949_7229 is over 95% full, available space: 3762880512; capacity: 494384795648. Object creation will fail if spilling is required.\n",
      "\u001b[33m(raylet)\u001b[0m [2023-11-22 10:29:36,796 E 7249 83408] (raylet) file_system_monitor.cc:111: /tmp/ray/session_2023-11-22_09-15-26_163949_7229 is over 95% full, available space: 3767271424; capacity: 494384795648. Object creation will fail if spilling is required.\n",
      "\u001b[33m(raylet)\u001b[0m [2023-11-22 10:29:46,885 E 7249 83408] (raylet) file_system_monitor.cc:111: /tmp/ray/session_2023-11-22_09-15-26_163949_7229 is over 95% full, available space: 3767250944; capacity: 494384795648. Object creation will fail if spilling is required.\n",
      "\u001b[33m(raylet)\u001b[0m [2023-11-22 10:29:56,974 E 7249 83408] (raylet) file_system_monitor.cc:111: /tmp/ray/session_2023-11-22_09-15-26_163949_7229 is over 95% full, available space: 3766886400; capacity: 494384795648. Object creation will fail if spilling is required.\n",
      "\u001b[33m(raylet)\u001b[0m [2023-11-22 10:30:07,061 E 7249 83408] (raylet) file_system_monitor.cc:111: /tmp/ray/session_2023-11-22_09-15-26_163949_7229 is over 95% full, available space: 3766624256; capacity: 494384795648. Object creation will fail if spilling is required.\n",
      "\u001b[33m(raylet)\u001b[0m [2023-11-22 10:30:17,147 E 7249 83408] (raylet) file_system_monitor.cc:111: /tmp/ray/session_2023-11-22_09-15-26_163949_7229 is over 95% full, available space: 3766161408; capacity: 494384795648. Object creation will fail if spilling is required.\n",
      "\u001b[33m(raylet)\u001b[0m [2023-11-22 10:30:27,233 E 7249 83408] (raylet) file_system_monitor.cc:111: /tmp/ray/session_2023-11-22_09-15-26_163949_7229 is over 95% full, available space: 3765858304; capacity: 494384795648. Object creation will fail if spilling is required.\n",
      "\u001b[33m(raylet)\u001b[0m [2023-11-22 10:30:37,323 E 7249 83408] (raylet) file_system_monitor.cc:111: /tmp/ray/session_2023-11-22_09-15-26_163949_7229 is over 95% full, available space: 3765579776; capacity: 494384795648. Object creation will fail if spilling is required.\n",
      "\u001b[33m(raylet)\u001b[0m [2023-11-22 10:30:47,410 E 7249 83408] (raylet) file_system_monitor.cc:111: /tmp/ray/session_2023-11-22_09-15-26_163949_7229 is over 95% full, available space: 3765284864; capacity: 494384795648. Object creation will fail if spilling is required.\n",
      "\u001b[33m(raylet)\u001b[0m [2023-11-22 10:30:57,493 E 7249 83408] (raylet) file_system_monitor.cc:111: /tmp/ray/session_2023-11-22_09-15-26_163949_7229 is over 95% full, available space: 3763978240; capacity: 494384795648. Object creation will fail if spilling is required.\n",
      "\u001b[33m(raylet)\u001b[0m [2023-11-22 10:31:07,581 E 7249 83408] (raylet) file_system_monitor.cc:111: /tmp/ray/session_2023-11-22_09-15-26_163949_7229 is over 95% full, available space: 3763572736; capacity: 494384795648. Object creation will fail if spilling is required.\n",
      "\u001b[33m(raylet)\u001b[0m [2023-11-22 10:31:17,672 E 7249 83408] (raylet) file_system_monitor.cc:111: /tmp/ray/session_2023-11-22_09-15-26_163949_7229 is over 95% full, available space: 3763179520; capacity: 494384795648. Object creation will fail if spilling is required.\n",
      "\u001b[33m(raylet)\u001b[0m [2023-11-22 10:31:27,758 E 7249 83408] (raylet) file_system_monitor.cc:111: /tmp/ray/session_2023-11-22_09-15-26_163949_7229 is over 95% full, available space: 3762552832; capacity: 494384795648. Object creation will fail if spilling is required.\n",
      "\u001b[33m(raylet)\u001b[0m [2023-11-22 10:31:37,843 E 7249 83408] (raylet) file_system_monitor.cc:111: /tmp/ray/session_2023-11-22_09-15-26_163949_7229 is over 95% full, available space: 3762290688; capacity: 494384795648. Object creation will fail if spilling is required.\n",
      "\u001b[33m(raylet)\u001b[0m [2023-11-22 10:31:47,931 E 7249 83408] (raylet) file_system_monitor.cc:111: /tmp/ray/session_2023-11-22_09-15-26_163949_7229 is over 95% full, available space: 3762274304; capacity: 494384795648. Object creation will fail if spilling is required.\n",
      "\u001b[33m(raylet)\u001b[0m [2023-11-22 10:31:58,014 E 7249 83408] (raylet) file_system_monitor.cc:111: /tmp/ray/session_2023-11-22_09-15-26_163949_7229 is over 95% full, available space: 3761893376; capacity: 494384795648. Object creation will fail if spilling is required.\n",
      "\u001b[33m(raylet)\u001b[0m [2023-11-22 10:32:08,098 E 7249 83408] (raylet) file_system_monitor.cc:111: /tmp/ray/session_2023-11-22_09-15-26_163949_7229 is over 95% full, available space: 3761446912; capacity: 494384795648. Object creation will fail if spilling is required.\n",
      "\u001b[33m(raylet)\u001b[0m [2023-11-22 10:32:18,182 E 7249 83408] (raylet) file_system_monitor.cc:111: /tmp/ray/session_2023-11-22_09-15-26_163949_7229 is over 95% full, available space: 3761930240; capacity: 494384795648. Object creation will fail if spilling is required.\n",
      "\u001b[33m(raylet)\u001b[0m [2023-11-22 10:32:28,276 E 7249 83408] (raylet) file_system_monitor.cc:111: /tmp/ray/session_2023-11-22_09-15-26_163949_7229 is over 95% full, available space: 3761061888; capacity: 494384795648. Object creation will fail if spilling is required.\n",
      "\u001b[33m(raylet)\u001b[0m [2023-11-22 10:32:38,365 E 7249 83408] (raylet) file_system_monitor.cc:111: /tmp/ray/session_2023-11-22_09-15-26_163949_7229 is over 95% full, available space: 3760742400; capacity: 494384795648. Object creation will fail if spilling is required.\n",
      "\u001b[33m(raylet)\u001b[0m [2023-11-22 10:32:48,448 E 7249 83408] (raylet) file_system_monitor.cc:111: /tmp/ray/session_2023-11-22_09-15-26_163949_7229 is over 95% full, available space: 3760164864; capacity: 494384795648. Object creation will fail if spilling is required.\n",
      "\u001b[33m(raylet)\u001b[0m [2023-11-22 10:32:58,528 E 7249 83408] (raylet) file_system_monitor.cc:111: /tmp/ray/session_2023-11-22_09-15-26_163949_7229 is over 95% full, available space: 3754692608; capacity: 494384795648. Object creation will fail if spilling is required.\n",
      "\u001b[33m(raylet)\u001b[0m [2023-11-22 10:33:08,616 E 7249 83408] (raylet) file_system_monitor.cc:111: /tmp/ray/session_2023-11-22_09-15-26_163949_7229 is over 95% full, available space: 3754672128; capacity: 494384795648. Object creation will fail if spilling is required.\n",
      "\u001b[33m(raylet)\u001b[0m [2023-11-22 10:33:18,698 E 7249 83408] (raylet) file_system_monitor.cc:111: /tmp/ray/session_2023-11-22_09-15-26_163949_7229 is over 95% full, available space: 3754364928; capacity: 494384795648. Object creation will fail if spilling is required.\n",
      "\u001b[33m(raylet)\u001b[0m [2023-11-22 10:33:28,782 E 7249 83408] (raylet) file_system_monitor.cc:111: /tmp/ray/session_2023-11-22_09-15-26_163949_7229 is over 95% full, available space: 3753906176; capacity: 494384795648. Object creation will fail if spilling is required.\n",
      "\u001b[33m(raylet)\u001b[0m [2023-11-22 10:33:38,868 E 7249 83408] (raylet) file_system_monitor.cc:111: /tmp/ray/session_2023-11-22_09-15-26_163949_7229 is over 95% full, available space: 3753635840; capacity: 494384795648. Object creation will fail if spilling is required.\n",
      "\u001b[33m(raylet)\u001b[0m [2023-11-22 10:33:48,954 E 7249 83408] (raylet) file_system_monitor.cc:111: /tmp/ray/session_2023-11-22_09-15-26_163949_7229 is over 95% full, available space: 3753385984; capacity: 494384795648. Object creation will fail if spilling is required.\n",
      "\u001b[33m(raylet)\u001b[0m [2023-11-22 10:33:59,041 E 7249 83408] (raylet) file_system_monitor.cc:111: /tmp/ray/session_2023-11-22_09-15-26_163949_7229 is over 95% full, available space: 3747426304; capacity: 494384795648. Object creation will fail if spilling is required.\n",
      "\u001b[33m(raylet)\u001b[0m [2023-11-22 10:34:09,124 E 7249 83408] (raylet) file_system_monitor.cc:111: /tmp/ray/session_2023-11-22_09-15-26_163949_7229 is over 95% full, available space: 3747155968; capacity: 494384795648. Object creation will fail if spilling is required.\n",
      "\u001b[33m(raylet)\u001b[0m [2023-11-22 10:34:19,208 E 7249 83408] (raylet) file_system_monitor.cc:111: /tmp/ray/session_2023-11-22_09-15-26_163949_7229 is over 95% full, available space: 3746926592; capacity: 494384795648. Object creation will fail if spilling is required.\n",
      "\u001b[33m(raylet)\u001b[0m [2023-11-22 10:34:29,295 E 7249 83408] (raylet) file_system_monitor.cc:111: /tmp/ray/session_2023-11-22_09-15-26_163949_7229 is over 95% full, available space: 3746476032; capacity: 494384795648. Object creation will fail if spilling is required.\n",
      "\u001b[33m(raylet)\u001b[0m [2023-11-22 10:34:39,383 E 7249 83408] (raylet) file_system_monitor.cc:111: /tmp/ray/session_2023-11-22_09-15-26_163949_7229 is over 95% full, available space: 3751366656; capacity: 494384795648. Object creation will fail if spilling is required.\n",
      "\u001b[33m(raylet)\u001b[0m [2023-11-22 10:34:49,469 E 7249 83408] (raylet) file_system_monitor.cc:111: /tmp/ray/session_2023-11-22_09-15-26_163949_7229 is over 95% full, available space: 3750989824; capacity: 494384795648. Object creation will fail if spilling is required.\n",
      "\u001b[33m(raylet)\u001b[0m [2023-11-22 10:34:59,555 E 7249 83408] (raylet) file_system_monitor.cc:111: /tmp/ray/session_2023-11-22_09-15-26_163949_7229 is over 95% full, available space: 3750707200; capacity: 494384795648. Object creation will fail if spilling is required.\n",
      "\u001b[33m(raylet)\u001b[0m [2023-11-22 10:35:09,641 E 7249 83408] (raylet) file_system_monitor.cc:111: /tmp/ray/session_2023-11-22_09-15-26_163949_7229 is over 95% full, available space: 3750453248; capacity: 494384795648. Object creation will fail if spilling is required.\n",
      "\u001b[33m(raylet)\u001b[0m [2023-11-22 10:35:19,726 E 7249 83408] (raylet) file_system_monitor.cc:111: /tmp/ray/session_2023-11-22_09-15-26_163949_7229 is over 95% full, available space: 3750170624; capacity: 494384795648. Object creation will fail if spilling is required.\n",
      "\u001b[33m(raylet)\u001b[0m [2023-11-22 10:35:29,814 E 7249 83408] (raylet) file_system_monitor.cc:111: /tmp/ray/session_2023-11-22_09-15-26_163949_7229 is over 95% full, available space: 3749814272; capacity: 494384795648. Object creation will fail if spilling is required.\n",
      "\u001b[33m(raylet)\u001b[0m [2023-11-22 10:35:39,896 E 7249 83408] (raylet) file_system_monitor.cc:111: /tmp/ray/session_2023-11-22_09-15-26_163949_7229 is over 95% full, available space: 3749396480; capacity: 494384795648. Object creation will fail if spilling is required.\n",
      "\u001b[33m(raylet)\u001b[0m [2023-11-22 10:35:49,976 E 7249 83408] (raylet) file_system_monitor.cc:111: /tmp/ray/session_2023-11-22_09-15-26_163949_7229 is over 95% full, available space: 3749093376; capacity: 494384795648. Object creation will fail if spilling is required.\n",
      "\u001b[33m(raylet)\u001b[0m [2023-11-22 10:36:00,062 E 7249 83408] (raylet) file_system_monitor.cc:111: /tmp/ray/session_2023-11-22_09-15-26_163949_7229 is over 95% full, available space: 3747917824; capacity: 494384795648. Object creation will fail if spilling is required.\n",
      "\u001b[33m(raylet)\u001b[0m [2023-11-22 10:36:10,148 E 7249 83408] (raylet) file_system_monitor.cc:111: /tmp/ray/session_2023-11-22_09-15-26_163949_7229 is over 95% full, available space: 3747274752; capacity: 494384795648. Object creation will fail if spilling is required.\n",
      "\u001b[33m(raylet)\u001b[0m [2023-11-22 10:36:20,234 E 7249 83408] (raylet) file_system_monitor.cc:111: /tmp/ray/session_2023-11-22_09-15-26_163949_7229 is over 95% full, available space: 3747217408; capacity: 494384795648. Object creation will fail if spilling is required.\n",
      "\u001b[33m(raylet)\u001b[0m [2023-11-22 10:36:30,321 E 7249 83408] (raylet) file_system_monitor.cc:111: /tmp/ray/session_2023-11-22_09-15-26_163949_7229 is over 95% full, available space: 3750768640; capacity: 494384795648. Object creation will fail if spilling is required.\n",
      "\u001b[33m(raylet)\u001b[0m [2023-11-22 10:36:40,407 E 7249 83408] (raylet) file_system_monitor.cc:111: /tmp/ray/session_2023-11-22_09-15-26_163949_7229 is over 95% full, available space: 3747266560; capacity: 494384795648. Object creation will fail if spilling is required.\n",
      "\u001b[33m(raylet)\u001b[0m [2023-11-22 10:36:50,493 E 7249 83408] (raylet) file_system_monitor.cc:111: /tmp/ray/session_2023-11-22_09-15-26_163949_7229 is over 95% full, available space: 3743903744; capacity: 494384795648. Object creation will fail if spilling is required.\n",
      "\u001b[33m(raylet)\u001b[0m [2023-11-22 10:37:00,577 E 7249 83408] (raylet) file_system_monitor.cc:111: /tmp/ray/session_2023-11-22_09-15-26_163949_7229 is over 95% full, available space: 3743518720; capacity: 494384795648. Object creation will fail if spilling is required.\n",
      "\u001b[33m(raylet)\u001b[0m [2023-11-22 10:37:10,663 E 7249 83408] (raylet) file_system_monitor.cc:111: /tmp/ray/session_2023-11-22_09-15-26_163949_7229 is over 95% full, available space: 3739959296; capacity: 494384795648. Object creation will fail if spilling is required.\n",
      "\u001b[33m(raylet)\u001b[0m [2023-11-22 10:37:20,745 E 7249 83408] (raylet) file_system_monitor.cc:111: /tmp/ray/session_2023-11-22_09-15-26_163949_7229 is over 95% full, available space: 3739037696; capacity: 494384795648. Object creation will fail if spilling is required.\n",
      "\u001b[33m(raylet)\u001b[0m [2023-11-22 10:37:30,829 E 7249 83408] (raylet) file_system_monitor.cc:111: /tmp/ray/session_2023-11-22_09-15-26_163949_7229 is over 95% full, available space: 3741642752; capacity: 494384795648. Object creation will fail if spilling is required.\n",
      "\u001b[33m(raylet)\u001b[0m [2023-11-22 10:37:40,914 E 7249 83408] (raylet) file_system_monitor.cc:111: /tmp/ray/session_2023-11-22_09-15-26_163949_7229 is over 95% full, available space: 3740557312; capacity: 494384795648. Object creation will fail if spilling is required.\n",
      "\u001b[33m(raylet)\u001b[0m [2023-11-22 10:37:51,000 E 7249 83408] (raylet) file_system_monitor.cc:111: /tmp/ray/session_2023-11-22_09-15-26_163949_7229 is over 95% full, available space: 3739213824; capacity: 494384795648. Object creation will fail if spilling is required.\n",
      "\u001b[33m(raylet)\u001b[0m [2023-11-22 10:38:01,082 E 7249 83408] (raylet) file_system_monitor.cc:111: /tmp/ray/session_2023-11-22_09-15-26_163949_7229 is over 95% full, available space: 3738976256; capacity: 494384795648. Object creation will fail if spilling is required.\n",
      "\u001b[33m(raylet)\u001b[0m [2023-11-22 10:38:11,171 E 7249 83408] (raylet) file_system_monitor.cc:111: /tmp/ray/session_2023-11-22_09-15-26_163949_7229 is over 95% full, available space: 3738656768; capacity: 494384795648. Object creation will fail if spilling is required.\n",
      "\u001b[33m(raylet)\u001b[0m [2023-11-22 10:38:21,184 E 7249 83408] (raylet) file_system_monitor.cc:111: /tmp/ray/session_2023-11-22_09-15-26_163949_7229 is over 95% full, available space: 3736637440; capacity: 494384795648. Object creation will fail if spilling is required.\n",
      "\u001b[33m(raylet)\u001b[0m [2023-11-22 10:38:31,193 E 7249 83408] (raylet) file_system_monitor.cc:111: /tmp/ray/session_2023-11-22_09-15-26_163949_7229 is over 95% full, available space: 3735126016; capacity: 494384795648. Object creation will fail if spilling is required.\n",
      "\u001b[33m(raylet)\u001b[0m [2023-11-22 10:38:41,220 E 7249 83408] (raylet) file_system_monitor.cc:111: /tmp/ray/session_2023-11-22_09-15-26_163949_7229 is over 95% full, available space: 3734507520; capacity: 494384795648. Object creation will fail if spilling is required.\n",
      "\u001b[33m(raylet)\u001b[0m [2023-11-22 10:38:51,240 E 7249 83408] (raylet) file_system_monitor.cc:111: /tmp/ray/session_2023-11-22_09-15-26_163949_7229 is over 95% full, available space: 3733782528; capacity: 494384795648. Object creation will fail if spilling is required.\n",
      "\u001b[33m(raylet)\u001b[0m [2023-11-22 10:39:01,340 E 7249 83408] (raylet) file_system_monitor.cc:111: /tmp/ray/session_2023-11-22_09-15-26_163949_7229 is over 95% full, available space: 3732996096; capacity: 494384795648. Object creation will fail if spilling is required.\n",
      "\u001b[33m(raylet)\u001b[0m [2023-11-22 10:39:11,434 E 7249 83408] (raylet) file_system_monitor.cc:111: /tmp/ray/session_2023-11-22_09-15-26_163949_7229 is over 95% full, available space: 3731722240; capacity: 494384795648. Object creation will fail if spilling is required.\n",
      "\u001b[33m(raylet)\u001b[0m [2023-11-22 10:39:21,436 E 7249 83408] (raylet) file_system_monitor.cc:111: /tmp/ray/session_2023-11-22_09-15-26_163949_7229 is over 95% full, available space: 3732099072; capacity: 494384795648. Object creation will fail if spilling is required.\n",
      "\u001b[33m(raylet)\u001b[0m [2023-11-22 10:39:31,528 E 7249 83408] (raylet) file_system_monitor.cc:111: /tmp/ray/session_2023-11-22_09-15-26_163949_7229 is over 95% full, available space: 3731312640; capacity: 494384795648. Object creation will fail if spilling is required.\n",
      "\u001b[33m(raylet)\u001b[0m [2023-11-22 10:39:41,621 E 7249 83408] (raylet) file_system_monitor.cc:111: /tmp/ray/session_2023-11-22_09-15-26_163949_7229 is over 95% full, available space: 3735359488; capacity: 494384795648. Object creation will fail if spilling is required.\n",
      "\u001b[33m(raylet)\u001b[0m [2023-11-22 10:39:51,710 E 7249 83408] (raylet) file_system_monitor.cc:111: /tmp/ray/session_2023-11-22_09-15-26_163949_7229 is over 95% full, available space: 3732123648; capacity: 494384795648. Object creation will fail if spilling is required.\n",
      "\u001b[33m(raylet)\u001b[0m [2023-11-22 10:40:01,798 E 7249 83408] (raylet) file_system_monitor.cc:111: /tmp/ray/session_2023-11-22_09-15-26_163949_7229 is over 95% full, available space: 3731836928; capacity: 494384795648. Object creation will fail if spilling is required.\n",
      "\u001b[33m(raylet)\u001b[0m [2023-11-22 10:40:11,890 E 7249 83408] (raylet) file_system_monitor.cc:111: /tmp/ray/session_2023-11-22_09-15-26_163949_7229 is over 95% full, available space: 3726311424; capacity: 494384795648. Object creation will fail if spilling is required.\n",
      "\u001b[33m(raylet)\u001b[0m [2023-11-22 10:40:21,973 E 7249 83408] (raylet) file_system_monitor.cc:111: /tmp/ray/session_2023-11-22_09-15-26_163949_7229 is over 95% full, available space: 3725271040; capacity: 494384795648. Object creation will fail if spilling is required.\n",
      "\u001b[33m(raylet)\u001b[0m [2023-11-22 10:40:32,063 E 7249 83408] (raylet) file_system_monitor.cc:111: /tmp/ray/session_2023-11-22_09-15-26_163949_7229 is over 95% full, available space: 3724791808; capacity: 494384795648. Object creation will fail if spilling is required.\n",
      "\u001b[33m(raylet)\u001b[0m [2023-11-22 10:40:42,151 E 7249 83408] (raylet) file_system_monitor.cc:111: /tmp/ray/session_2023-11-22_09-15-26_163949_7229 is over 95% full, available space: 3725242368; capacity: 494384795648. Object creation will fail if spilling is required.\n",
      "\u001b[33m(raylet)\u001b[0m [2023-11-22 10:40:52,245 E 7249 83408] (raylet) file_system_monitor.cc:111: /tmp/ray/session_2023-11-22_09-15-26_163949_7229 is over 95% full, available space: 3725066240; capacity: 494384795648. Object creation will fail if spilling is required.\n",
      "\u001b[33m(raylet)\u001b[0m [2023-11-22 10:41:02,335 E 7249 83408] (raylet) file_system_monitor.cc:111: /tmp/ray/session_2023-11-22_09-15-26_163949_7229 is over 95% full, available space: 3724771328; capacity: 494384795648. Object creation will fail if spilling is required.\n",
      "\u001b[33m(raylet)\u001b[0m [2023-11-22 10:41:12,432 E 7249 83408] (raylet) file_system_monitor.cc:111: /tmp/ray/session_2023-11-22_09-15-26_163949_7229 is over 95% full, available space: 3721248768; capacity: 494384795648. Object creation will fail if spilling is required.\n",
      "\u001b[33m(raylet)\u001b[0m [2023-11-22 10:41:22,436 E 7249 83408] (raylet) file_system_monitor.cc:111: /tmp/ray/session_2023-11-22_09-15-26_163949_7229 is over 95% full, available space: 3720912896; capacity: 494384795648. Object creation will fail if spilling is required.\n",
      "\u001b[33m(raylet)\u001b[0m [2023-11-22 10:41:32,528 E 7249 83408] (raylet) file_system_monitor.cc:111: /tmp/ray/session_2023-11-22_09-15-26_163949_7229 is over 95% full, available space: 3720744960; capacity: 494384795648. Object creation will fail if spilling is required.\n",
      "\u001b[33m(raylet)\u001b[0m [2023-11-22 10:41:42,619 E 7249 83408] (raylet) file_system_monitor.cc:111: /tmp/ray/session_2023-11-22_09-15-26_163949_7229 is over 95% full, available space: 3720425472; capacity: 494384795648. Object creation will fail if spilling is required.\n",
      "\u001b[33m(raylet)\u001b[0m [2023-11-22 10:41:52,712 E 7249 83408] (raylet) file_system_monitor.cc:111: /tmp/ray/session_2023-11-22_09-15-26_163949_7229 is over 95% full, available space: 3720163328; capacity: 494384795648. Object creation will fail if spilling is required.\n",
      "\u001b[33m(raylet)\u001b[0m [2023-11-22 10:42:02,805 E 7249 83408] (raylet) file_system_monitor.cc:111: /tmp/ray/session_2023-11-22_09-15-26_163949_7229 is over 95% full, available space: 3719729152; capacity: 494384795648. Object creation will fail if spilling is required.\n",
      "\u001b[33m(raylet)\u001b[0m [2023-11-22 10:42:12,896 E 7249 83408] (raylet) file_system_monitor.cc:111: /tmp/ray/session_2023-11-22_09-15-26_163949_7229 is over 95% full, available space: 3719438336; capacity: 494384795648. Object creation will fail if spilling is required.\n",
      "\u001b[33m(raylet)\u001b[0m [2023-11-22 10:42:22,989 E 7249 83408] (raylet) file_system_monitor.cc:111: /tmp/ray/session_2023-11-22_09-15-26_163949_7229 is over 95% full, available space: 3719077888; capacity: 494384795648. Object creation will fail if spilling is required.\n",
      "\u001b[33m(raylet)\u001b[0m [2023-11-22 10:42:33,083 E 7249 83408] (raylet) file_system_monitor.cc:111: /tmp/ray/session_2023-11-22_09-15-26_163949_7229 is over 95% full, available space: 3718758400; capacity: 494384795648. Object creation will fail if spilling is required.\n",
      "\u001b[33m(raylet)\u001b[0m [2023-11-22 10:42:43,177 E 7249 83408] (raylet) file_system_monitor.cc:111: /tmp/ray/session_2023-11-22_09-15-26_163949_7229 is over 95% full, available space: 3718467584; capacity: 494384795648. Object creation will fail if spilling is required.\n",
      "\u001b[33m(raylet)\u001b[0m [2023-11-22 10:42:53,271 E 7249 83408] (raylet) file_system_monitor.cc:111: /tmp/ray/session_2023-11-22_09-15-26_163949_7229 is over 95% full, available space: 3718176768; capacity: 494384795648. Object creation will fail if spilling is required.\n",
      "\u001b[33m(raylet)\u001b[0m [2023-11-22 10:43:03,357 E 7249 83408] (raylet) file_system_monitor.cc:111: /tmp/ray/session_2023-11-22_09-15-26_163949_7229 is over 95% full, available space: 3717877760; capacity: 494384795648. Object creation will fail if spilling is required.\n",
      "\u001b[33m(raylet)\u001b[0m [2023-11-22 10:43:13,449 E 7249 83408] (raylet) file_system_monitor.cc:111: /tmp/ray/session_2023-11-22_09-15-26_163949_7229 is over 95% full, available space: 3717525504; capacity: 494384795648. Object creation will fail if spilling is required.\n",
      "\u001b[33m(raylet)\u001b[0m [2023-11-22 10:43:23,541 E 7249 83408] (raylet) file_system_monitor.cc:111: /tmp/ray/session_2023-11-22_09-15-26_163949_7229 is over 95% full, available space: 3717189632; capacity: 494384795648. Object creation will fail if spilling is required.\n",
      "\u001b[33m(raylet)\u001b[0m [2023-11-22 10:43:33,634 E 7249 83408] (raylet) file_system_monitor.cc:111: /tmp/ray/session_2023-11-22_09-15-26_163949_7229 is over 95% full, available space: 3716739072; capacity: 494384795648. Object creation will fail if spilling is required.\n",
      "\u001b[33m(raylet)\u001b[0m [2023-11-22 10:43:43,721 E 7249 83408] (raylet) file_system_monitor.cc:111: /tmp/ray/session_2023-11-22_09-15-26_163949_7229 is over 95% full, available space: 3716395008; capacity: 494384795648. Object creation will fail if spilling is required.\n",
      "\u001b[33m(raylet)\u001b[0m [2023-11-22 10:43:53,817 E 7249 83408] (raylet) file_system_monitor.cc:111: /tmp/ray/session_2023-11-22_09-15-26_163949_7229 is over 95% full, available space: 3703988224; capacity: 494384795648. Object creation will fail if spilling is required.\n",
      "\u001b[33m(raylet)\u001b[0m [2023-11-22 10:44:03,915 E 7249 83408] (raylet) file_system_monitor.cc:111: /tmp/ray/session_2023-11-22_09-15-26_163949_7229 is over 95% full, available space: 3703689216; capacity: 494384795648. Object creation will fail if spilling is required.\n",
      "\u001b[33m(raylet)\u001b[0m [2023-11-22 10:44:14,006 E 7249 83408] (raylet) file_system_monitor.cc:111: /tmp/ray/session_2023-11-22_09-15-26_163949_7229 is over 95% full, available space: 3703365632; capacity: 494384795648. Object creation will fail if spilling is required.\n",
      "\u001b[33m(raylet)\u001b[0m [2023-11-22 10:44:24,096 E 7249 83408] (raylet) file_system_monitor.cc:111: /tmp/ray/session_2023-11-22_09-15-26_163949_7229 is over 95% full, available space: 3688284160; capacity: 494384795648. Object creation will fail if spilling is required.\n",
      "\u001b[33m(raylet)\u001b[0m [2023-11-22 10:44:34,191 E 7249 83408] (raylet) file_system_monitor.cc:111: /tmp/ray/session_2023-11-22_09-15-26_163949_7229 is over 95% full, available space: 3694477312; capacity: 494384795648. Object creation will fail if spilling is required.\n",
      "\u001b[33m(raylet)\u001b[0m [2023-11-22 10:44:44,285 E 7249 83408] (raylet) file_system_monitor.cc:111: /tmp/ray/session_2023-11-22_09-15-26_163949_7229 is over 95% full, available space: 3726712832; capacity: 494384795648. Object creation will fail if spilling is required.\n",
      "\u001b[33m(raylet)\u001b[0m [2023-11-22 10:44:54,373 E 7249 83408] (raylet) file_system_monitor.cc:111: /tmp/ray/session_2023-11-22_09-15-26_163949_7229 is over 95% full, available space: 3725729792; capacity: 494384795648. Object creation will fail if spilling is required.\n"
     ]
    }
   ],
   "source": [
    "from ray import tune\n",
    "tune.run(\n",
    "    \"PPO\",\n",
    "    name=\"PPO\",\n",
    "    stop={\"timesteps_total\": 100000},\n",
    "    checkpoint_freq=10,\n",
    "    local_dir=\"~/ray_results/\" + env_name,\n",
    "    config=config.to_dict(),\n",
    ")"
   ]
  },
  {
   "cell_type": "code",
   "execution_count": null,
   "metadata": {},
   "outputs": [],
   "source": []
  }
 ],
 "metadata": {
  "kernelspec": {
   "display_name": "Python 3",
   "language": "python",
   "name": "python3"
  },
  "language_info": {
   "codemirror_mode": {
    "name": "ipython",
    "version": 3
   },
   "file_extension": ".py",
   "mimetype": "text/x-python",
   "name": "python",
   "nbconvert_exporter": "python",
   "pygments_lexer": "ipython3",
   "version": "3.9.10"
  }
 },
 "nbformat": 4,
 "nbformat_minor": 2
}
